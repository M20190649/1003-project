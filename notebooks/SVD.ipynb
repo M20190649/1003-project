{
 "cells": [
  {
   "cell_type": "markdown",
   "metadata": {},
   "source": [
    "## SVD \n",
    "---\n",
    "Surprise algorithm: SVD(biased=False, n_epochs = 100)\n",
    "\n",
    "Hyperparameter: \n",
    "1. Threshold when do the recommendation\n",
    "\n",
    "Things to do:\n",
    "1. Calculate test loss\n",
    "2. Do the recommendations (done)\n",
    "3. Calculate precision, recall"
   ]
  },
  {
   "cell_type": "code",
   "execution_count": 1,
   "metadata": {
    "collapsed": true
   },
   "outputs": [],
   "source": [
    "import random\n",
    "import pandas as pd\n",
    "import json\n",
    "import numpy as np\n",
    "import scipy.sparse as sp\n",
    "from collections import defaultdict\n",
    "\n",
    "import matplotlib.pyplot as plt\n",
    "%matplotlib inline\n",
    "\n",
    "from matplotlib import rc\n",
    "rc('figure', figsize=(16, 8), max_open_warning=False)\n",
    "\n",
    "from surprise import SVD\n",
    "from surprise import Dataset, Reader\n",
    "from surprise import accuracy\n",
    "from surprise.model_selection import train_test_split\n",
    "\n",
    "import sys\n",
    "sys.path.insert(0, '../src')\n",
    "\n",
    "import preprocess\n",
    "import evaluation"
   ]
  },
  {
   "cell_type": "code",
   "execution_count": 2,
   "metadata": {
    "collapsed": true
   },
   "outputs": [],
   "source": [
    "random_dict = preprocess.create_random_subset_paper_paper_data(debug=True)\n",
    "data = preprocess.create_surprise_paper_paper_data(random_dict)"
   ]
  },
  {
   "cell_type": "code",
   "execution_count": 3,
   "metadata": {
    "collapsed": true
   },
   "outputs": [],
   "source": [
    "trainset, testset = train_test_split(data, test_size=.25)\n",
    "algo = SVD(biased=False, n_epochs = 100)\n",
    "algo.fit(trainset)\n",
    "predictions = algo.test(testset, clip=False)\n",
    "df = pd.DataFrame(predictions, columns=['uid', 'iid', 'rui', 'est', 'details'])"
   ]
  },
  {
   "cell_type": "code",
   "execution_count": 4,
   "metadata": {},
   "outputs": [
    {
     "data": {
      "text/html": [
       "<div>\n",
       "<style>\n",
       "    .dataframe thead tr:only-child th {\n",
       "        text-align: right;\n",
       "    }\n",
       "\n",
       "    .dataframe thead th {\n",
       "        text-align: left;\n",
       "    }\n",
       "\n",
       "    .dataframe tbody tr th {\n",
       "        vertical-align: top;\n",
       "    }\n",
       "</style>\n",
       "<table border=\"1\" class=\"dataframe\">\n",
       "  <thead>\n",
       "    <tr style=\"text-align: right;\">\n",
       "      <th></th>\n",
       "      <th>uid</th>\n",
       "      <th>iid</th>\n",
       "      <th>rui</th>\n",
       "      <th>est</th>\n",
       "      <th>details</th>\n",
       "    </tr>\n",
       "  </thead>\n",
       "  <tbody>\n",
       "    <tr>\n",
       "      <th>28</th>\n",
       "      <td>56182f0c-b75a-48ef-b804-0a4f261e6e63</td>\n",
       "      <td>d58e8c74-17ad-4ec0-8ab1-732509c1dd45</td>\n",
       "      <td>1.0</td>\n",
       "      <td>0.243732</td>\n",
       "      <td>{'was_impossible': False}</td>\n",
       "    </tr>\n",
       "    <tr>\n",
       "      <th>36</th>\n",
       "      <td>3dc62931-dc97-42e3-b049-377f62a9be91</td>\n",
       "      <td>ccd672d4-2f77-471e-abfc-cae8abd6ec16</td>\n",
       "      <td>1.0</td>\n",
       "      <td>-1.167404</td>\n",
       "      <td>{'was_impossible': False}</td>\n",
       "    </tr>\n",
       "    <tr>\n",
       "      <th>52</th>\n",
       "      <td>d2b61e9a-31cc-4df4-8893-dce67e1383a1</td>\n",
       "      <td>e32cafab-3b60-4d54-9858-ef499286cdf2</td>\n",
       "      <td>1.0</td>\n",
       "      <td>-1.013322</td>\n",
       "      <td>{'was_impossible': False}</td>\n",
       "    </tr>\n",
       "    <tr>\n",
       "      <th>64</th>\n",
       "      <td>984c8b7f-ae7e-4b9f-95bd-164e2651a3db</td>\n",
       "      <td>700c7b6c-eaf8-4b40-b969-645109cda205</td>\n",
       "      <td>1.0</td>\n",
       "      <td>-0.917862</td>\n",
       "      <td>{'was_impossible': False}</td>\n",
       "    </tr>\n",
       "    <tr>\n",
       "      <th>89</th>\n",
       "      <td>2ced1d5a-a5ff-4860-99d2-9832b11b1f40</td>\n",
       "      <td>978efa8a-b62a-4e76-a2a1-c3a7af5e1a60</td>\n",
       "      <td>1.0</td>\n",
       "      <td>-1.069874</td>\n",
       "      <td>{'was_impossible': False}</td>\n",
       "    </tr>\n",
       "    <tr>\n",
       "      <th>95</th>\n",
       "      <td>1a854ef8-d062-4d04-8a6d-2b9bb403c86e</td>\n",
       "      <td>ed46c437-47c2-4767-8d60-fb58fdc47733</td>\n",
       "      <td>1.0</td>\n",
       "      <td>-0.547996</td>\n",
       "      <td>{'was_impossible': False}</td>\n",
       "    </tr>\n",
       "    <tr>\n",
       "      <th>102</th>\n",
       "      <td>16b0076d-f64c-40c8-a974-94df1e9c795b</td>\n",
       "      <td>9c5362e9-1ab3-4bbd-bca4-7b13053cdd31</td>\n",
       "      <td>1.0</td>\n",
       "      <td>-0.768732</td>\n",
       "      <td>{'was_impossible': False}</td>\n",
       "    </tr>\n",
       "    <tr>\n",
       "      <th>106</th>\n",
       "      <td>56182f0c-b75a-48ef-b804-0a4f261e6e63</td>\n",
       "      <td>5e7b1c2c-baaf-466d-be01-c075002bf1fb</td>\n",
       "      <td>1.0</td>\n",
       "      <td>-0.249297</td>\n",
       "      <td>{'was_impossible': False}</td>\n",
       "    </tr>\n",
       "    <tr>\n",
       "      <th>118</th>\n",
       "      <td>c0b5c6d8-a1bf-4607-bdfd-c02569f52824</td>\n",
       "      <td>6ef6bd3b-2c16-4ec6-8909-1840d12b320c</td>\n",
       "      <td>1.0</td>\n",
       "      <td>-0.969236</td>\n",
       "      <td>{'was_impossible': False}</td>\n",
       "    </tr>\n",
       "  </tbody>\n",
       "</table>\n",
       "</div>"
      ],
      "text/plain": [
       "                                      uid  \\\n",
       "28   56182f0c-b75a-48ef-b804-0a4f261e6e63   \n",
       "36   3dc62931-dc97-42e3-b049-377f62a9be91   \n",
       "52   d2b61e9a-31cc-4df4-8893-dce67e1383a1   \n",
       "64   984c8b7f-ae7e-4b9f-95bd-164e2651a3db   \n",
       "89   2ced1d5a-a5ff-4860-99d2-9832b11b1f40   \n",
       "95   1a854ef8-d062-4d04-8a6d-2b9bb403c86e   \n",
       "102  16b0076d-f64c-40c8-a974-94df1e9c795b   \n",
       "106  56182f0c-b75a-48ef-b804-0a4f261e6e63   \n",
       "118  c0b5c6d8-a1bf-4607-bdfd-c02569f52824   \n",
       "\n",
       "                                      iid  rui       est  \\\n",
       "28   d58e8c74-17ad-4ec0-8ab1-732509c1dd45  1.0  0.243732   \n",
       "36   ccd672d4-2f77-471e-abfc-cae8abd6ec16  1.0 -1.167404   \n",
       "52   e32cafab-3b60-4d54-9858-ef499286cdf2  1.0 -1.013322   \n",
       "64   700c7b6c-eaf8-4b40-b969-645109cda205  1.0 -0.917862   \n",
       "89   978efa8a-b62a-4e76-a2a1-c3a7af5e1a60  1.0 -1.069874   \n",
       "95   ed46c437-47c2-4767-8d60-fb58fdc47733  1.0 -0.547996   \n",
       "102  9c5362e9-1ab3-4bbd-bca4-7b13053cdd31  1.0 -0.768732   \n",
       "106  5e7b1c2c-baaf-466d-be01-c075002bf1fb  1.0 -0.249297   \n",
       "118  6ef6bd3b-2c16-4ec6-8909-1840d12b320c  1.0 -0.969236   \n",
       "\n",
       "                       details  \n",
       "28   {'was_impossible': False}  \n",
       "36   {'was_impossible': False}  \n",
       "52   {'was_impossible': False}  \n",
       "64   {'was_impossible': False}  \n",
       "89   {'was_impossible': False}  \n",
       "95   {'was_impossible': False}  \n",
       "102  {'was_impossible': False}  \n",
       "106  {'was_impossible': False}  \n",
       "118  {'was_impossible': False}  "
      ]
     },
     "execution_count": 4,
     "metadata": {},
     "output_type": "execute_result"
    }
   ],
   "source": [
    "df[df.details == {'was_impossible': False}][1:10]"
   ]
  },
  {
   "cell_type": "markdown",
   "metadata": {},
   "source": [
    "### Comments - \n",
    "All the estimate value are negative in the above table while they should be close to 1."
   ]
  },
  {
   "cell_type": "code",
   "execution_count": 5,
   "metadata": {
    "collapsed": true
   },
   "outputs": [],
   "source": [
    "# Visualize train set data\n",
    "usernum = trainset.n_users\n",
    "itemnum = trainset.n_items\n",
    "\n",
    "papermat = sp.dok_matrix((usernum,itemnum), dtype=np.int8)\n",
    "for i in range(trainset.n_users):\n",
    "    for paper_id in trainset.ur[i]:\n",
    "        papermat[i, paper_id[0]] = 1"
   ]
  },
  {
   "cell_type": "code",
   "execution_count": 6,
   "metadata": {
    "collapsed": true
   },
   "outputs": [],
   "source": [
    "# Visualize test set data\n",
    "for j in range(len(testset)):\n",
    "    uid    = testset[j][0]\n",
    "    iid    = testset[j][1]\n",
    "    rating = testset[j][2]\n",
    "    try:\n",
    "        iuid = algo.trainset.to_inner_uid(uid)\n",
    "    except:\n",
    "        continue\n",
    "    try:\n",
    "        iiid = algo.trainset.to_inner_iid(iid)\n",
    "    except:\n",
    "        continue\n",
    "#     print(iuid, iiid)\n",
    "    papermat[iuid, iiid] = -1"
   ]
  },
  {
   "cell_type": "code",
   "execution_count": 7,
   "metadata": {},
   "outputs": [
    {
     "data": {
      "text/plain": [
       "<matplotlib.colorbar.Colorbar at 0x1170582e8>"
      ]
     },
     "execution_count": 7,
     "metadata": {},
     "output_type": "execute_result"
    },
    {
     "data": {
      "image/png": "[encoded data removed]",
      "text/plain": [
       "<matplotlib.figure.Figure at 0x117866eb8>"
      ]
     },
     "metadata": {},
     "output_type": "display_data"
    }
   ],
   "source": [
    "A = papermat.todense()\n",
    "fig, axes = plt.subplots(figsize=(20, 10))\n",
    "pos = axes.matshow(A[0:200,0:200], cmap='seismic',vmin=-2., vmax=2.)\n",
    "fig.colorbar(pos)"
   ]
  },
  {
   "cell_type": "code",
   "execution_count": 8,
   "metadata": {},
   "outputs": [
    {
     "data": {
      "image/png": "[encoded data removed]",
      "text/plain": [
       "<matplotlib.figure.Figure at 0x117335b38>"
      ]
     },
     "metadata": {},
     "output_type": "display_data"
    }
   ],
   "source": [
    "# Comment out following code if not using --\n",
    "#  https://github.com/MelodyShih/Surprise/tree/1003-project\n",
    "loss = algo.losshistory\n",
    "fig, ax = plt.subplots(figsize=(10, 5))\n",
    "ax.semilogy(range(len(loss)), loss, '--o')\n",
    "ax.set_xlabel('epoch')\n",
    "ax.set_ylabel('loss')\n",
    "plt.grid(True)"
   ]
  },
  {
   "cell_type": "code",
   "execution_count": 9,
   "metadata": {},
   "outputs": [
    {
     "name": "stdout",
     "output_type": "stream",
     "text": [
      "(2583, 2338)\n"
     ]
    }
   ],
   "source": [
    "# Only work for SVD with biased = False\n",
    "pu = algo.pu\n",
    "qi = algo.qi\n",
    "\n",
    "Abar = np.dot(pu, np.transpose(qi))\n",
    "print(Abar.shape)\n",
    "Abar = Abar - np.ones(Abar.shape)"
   ]
  },
  {
   "cell_type": "code",
   "execution_count": 10,
   "metadata": {},
   "outputs": [
    {
     "name": "stdout",
     "output_type": "stream",
     "text": [
      "3430\n"
     ]
    },
    {
     "data": {
      "text/plain": [
       "<matplotlib.colorbar.Colorbar at 0x116343978>"
      ]
     },
     "execution_count": 10,
     "metadata": {},
     "output_type": "execute_result"
    },
    {
     "data": {
      "image/png": "[encoded data removed]",
      "text/plain": [
       "<matplotlib.figure.Figure at 0x113b40c18>"
      ]
     },
     "metadata": {},
     "output_type": "display_data"
    }
   ],
   "source": [
    "fig, axes = plt.subplots(1, 2)\n",
    "threshold = -0.1\n",
    "mask = Abar[0:80, 0:80] >= threshold\n",
    "print(sum(sum(Abar >= threshold)))\n",
    "pos = axes[0].matshow(Abar[0:80,0:80]*mask , cmap='seismic',vmin=-3, vmax=3.)\n",
    "axes[0].set_title('Estimated')\n",
    "fig.colorbar(pos, ax=axes[0])\n",
    "\n",
    "pos = axes[1].matshow(A[0:80, 0:80] , cmap='seismic',vmin=-3, vmax=3.)\n",
    "axes[1].set_title('True')\n",
    "fig.colorbar(pos, ax=axes[1])"
   ]
  },
  {
   "cell_type": "markdown",
   "metadata": {},
   "source": [
    "### Comments - \n",
    "From loss and the above graph, SVD fits the training data well."
   ]
  },
  {
   "cell_type": "markdown",
   "metadata": {},
   "source": [
    "## Recommendation list"
   ]
  },
  {
   "cell_type": "code",
   "execution_count": 11,
   "metadata": {
    "collapsed": true
   },
   "outputs": [],
   "source": [
    "# this function can put in surprise\n",
    "def build_data_for_prediction(self,user_ids):\n",
    "    \"\"\"Return a list of ratings that can be used as a testset in the\n",
    "    :meth:`test() <surprise.prediction_algorithms.algo_base.AlgoBase.test>`\n",
    "    method.\n",
    "    \"\"\"\n",
    "    alldata = []\n",
    "    for i in range(len(user_ids)):\n",
    "        for j in range(self.n_items):\n",
    "            alldata.append((self.to_raw_uid(i),self.to_raw_iid(j),0))\n",
    "    return alldata"
   ]
  },
  {
   "cell_type": "code",
   "execution_count": 12,
   "metadata": {},
   "outputs": [],
   "source": [
    "# build a list to do the recommendation for user_ids\n",
    "user_ids = [0]\n",
    "userdata = build_data_for_prediction(trainset, user_ids)\n",
    "\n",
    "predictions = algo.test(userdata[0:len(user_ids)], clip=False)\n",
    "rec_list = evaluation.get_items_greater_threshold(predictions, -0.1)"
   ]
  },
  {
   "cell_type": "code",
   "execution_count": 13,
   "metadata": {},
   "outputs": [
    {
     "data": {
      "text/plain": [
       "defaultdict(list,\n",
       "            {'4d7e501c-a34b-403a-815b-e6226b4baa10': [('60c791c2-67de-43ec-b1da-05c28d4973e6',\n",
       "               0.45131383379134338)]})"
      ]
     },
     "execution_count": 13,
     "metadata": {},
     "output_type": "execute_result"
    }
   ],
   "source": [
    "# list of papers that recommend to user_id = 0\n",
    "rec_list"
   ]
  },
  {
   "cell_type": "code",
   "execution_count": null,
   "metadata": {
    "collapsed": true
   },
   "outputs": [],
   "source": []
  }
 ],
 "metadata": {
  "kernelspec": {
   "display_name": "Python 3",
   "language": "python",
   "name": "python3"
  },
  "language_info": {
   "codemirror_mode": {
    "name": "ipython",
    "version": 3
   },
   "file_extension": ".py",
   "mimetype": "text/x-python",
   "name": "python",
   "nbconvert_exporter": "python",
   "pygments_lexer": "ipython3",
   "version": "3.6.3"
  }
 },
 "nbformat": 4,
 "nbformat_minor": 2
}
