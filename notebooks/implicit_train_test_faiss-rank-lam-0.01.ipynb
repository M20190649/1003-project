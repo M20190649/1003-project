{
 "cells": [
  {
   "cell_type": "markdown",
   "metadata": {
    "colab_type": "text",
    "id": "3zh-ShVdzDHQ"
   },
   "source": [
    "# Train test split\n",
    "\n",
    "Here we try a very simple idea of train-test split. We just split r"
   ]
  },
  {
   "cell_type": "markdown",
   "metadata": {
    "colab_type": "text",
    "id": "aZf56wGkC3yJ"
   },
   "source": [
    "# Setup"
   ]
  },
  {
   "cell_type": "code",
   "execution_count": 1,
   "metadata": {
    "colab": {
     "autoexec": {
      "startup": false,
      "wait_interval": 0
     }
    },
    "colab_type": "code",
    "collapsed": true,
    "id": "iszyGF1kDpo-"
   },
   "outputs": [],
   "source": [
    "import sys\n",
    "sys.path.insert(0, '../src')\n",
    "import preprocess\n",
    "import utils\n",
    "import random\n",
    "import matplotlib.pyplot as plt\n",
    "from collections import defaultdict\n",
    "%matplotlib inline\n",
    "from matplotlib import rc\n",
    "rc('figure', figsize=(16, 8), max_open_warning=False)\n",
    "from surprise import SVD, SVDpp, NMF\n",
    "from surprise import Dataset\n",
    "from surprise.model_selection import cross_validate\n",
    "from surprise import accuracy\n",
    "from surprise.model_selection import train_test_split\n",
    "import pandas as pd\n",
    "import numpy as np\n",
    "import implicit\n",
    "import codecs\n",
    "import json"
   ]
  },
  {
   "cell_type": "code",
   "execution_count": 2,
   "metadata": {
    "collapsed": true
   },
   "outputs": [],
   "source": [
    "from sklearn.model_selection import train_test_split, KFold\n",
    "\n",
    "def aminer_implicit_train_test_split(filename):\n",
    "    # Now we create train test split\n",
    "    # this can also be used as train-val-test\n",
    "    df = pd.read_table(filename,\n",
    "                             usecols=[0, 1, 2],\n",
    "                             names=['user', 'ref', 'score'],\n",
    "                             na_filter=False)\n",
    "    train, test = train_test_split(df, test_size=0.1)\n",
    "    train.to_csv(filename[:-4]+'_train.tsv',sep='\\t', header=False, index=False)\n",
    "    test.to_csv(filename[:-4]+'_test.tsv',sep='\\t', header=False, index=False) # This should have some false entries as well???"
   ]
  },
  {
   "cell_type": "markdown",
   "metadata": {
    "colab_type": "text",
    "id": "dMD4xu3iOGPL"
   },
   "source": [
    "# Implicit"
   ]
  },
  {
   "cell_type": "code",
   "execution_count": 6,
   "metadata": {
    "colab": {
     "autoexec": {
      "startup": false,
      "wait_interval": 0
     }
    },
    "colab_type": "code",
    "collapsed": true,
    "id": "eg83S9c8af3X"
   },
   "outputs": [],
   "source": [
    "import argparse\n",
    "import codecs\n",
    "import logging\n",
    "import time\n",
    "\n",
    "import numpy\n",
    "import pandas\n",
    "from scipy.sparse import coo_matrix\n",
    "\n",
    "from implicit.als import AlternatingLeastSquares\n",
    "from implicit.approximate_als import (AnnoyAlternatingLeastSquares, FaissAlternatingLeastSquares,\n",
    "                                      NMSLibAlternatingLeastSquares)\n",
    "from implicit.bpr import BayesianPersonalizedRanking\n",
    "from implicit.nearest_neighbours import (BM25Recommender, CosineRecommender,\n",
    "                                         TFIDFRecommender, bm25_weight)\n",
    "\n",
    "# maps command line model argument to class name\n",
    "MODELS = {\"als\":  AlternatingLeastSquares,\n",
    "          \"nmslib_als\": NMSLibAlternatingLeastSquares,\n",
    "          \"annoy_als\": AnnoyAlternatingLeastSquares,\n",
    "          \"faiss_als\": FaissAlternatingLeastSquares,\n",
    "          \"tfidf\": TFIDFRecommender,\n",
    "          \"cosine\": CosineRecommender,\n",
    "          \"bpr\": BayesianPersonalizedRanking,\n",
    "          \"bm25\": BM25Recommender}\n",
    "\n",
    "\n",
    "def get_model(model_name,k,lam):\n",
    "    model_class = MODELS.get(model_name)\n",
    "    if not model_class:\n",
    "        raise ValueError(\"Unknown Model '%s'\" % model_name)\n",
    "\n",
    "    # some default params\n",
    "    if model_name == \"faiss_als\":\n",
    "        params = {'factors': k, 'dtype': numpy.float32, 'use_gpu': True, #training substantially slower if I don't use use_gpu\n",
    "                  #'gpu': True,  # keyerror -1\n",
    "                  \"calculate_training_loss\": True, \"regularization\": lam}\n",
    "    elif issubclass(model_class, AlternatingLeastSquares):\n",
    "        params = {'factors': k, 'dtype': numpy.float32, 'use_gpu': True, #training substantially slower if I don't use use_gpu\n",
    "                  #'gpu': True,  # keyerror -1\n",
    "                  \"calculate_training_loss\": True, \"regularization\": lam}\n",
    "    elif model_name == \"bm25\":\n",
    "        params = {'K1': 100, 'B': 0.5}\n",
    "    elif model_name == \"bpr\":\n",
    "        params = {'factors': 63, 'use_gpu': True}\n",
    "    else:\n",
    "        params = {}\n",
    "\n",
    "    return model_class(**params)\n",
    "\n",
    "\n",
    "def read_data(filename):\n",
    "    \"\"\" Reads in the AMINER dataset, and returns a tuple of a pandas dataframe\n",
    "    and a sparse matrix of artist/user/playcount \"\"\"\n",
    "    # read in triples of user/artist/playcount from the input dataset\n",
    "    # get a model based off the input params\n",
    "    start = time.time()\n",
    "    print(\"reading data from %s\"% (filename))\n",
    "    data = pandas.read_table(filename,\n",
    "                             usecols=[0, 1, 2],\n",
    "                             names=['user', 'ref', 'cites'],\n",
    "                             na_filter=False)\n",
    "\n",
    "    # map each artist and user to a unique numeric value\n",
    "    data['user'] = data['user'].astype(\"category\")\n",
    "    data['ref'] = data['ref'].astype(\"category\")\n",
    "\n",
    "    # create a sparse matrix of all the users/plays\n",
    "    cites = coo_matrix((data['cites'].astype(numpy.float32),\n",
    "                       (data['ref'].cat.codes.copy(),\n",
    "                        data['user'].cat.codes.copy())))\n",
    "\n",
    "    print(\"read data file in {}\".format( time.time() - start))\n",
    "    return data, cites\n",
    "\n",
    "'''\n",
    "def calculate_similar_artists(input_filename, output_filename, model_name=\"als\"):\n",
    "    \"\"\" generates a list of similar artists in lastfm by utiliizing the 'similar_items'\n",
    "    api of the models \"\"\"\n",
    "    df, plays = read_data(input_filename)\n",
    "\n",
    "    # create a model from the input data\n",
    "    model = get_model(model_name)\n",
    "\n",
    "    # if we're training an ALS based model, weight input for last.fm\n",
    "    # by bm25\n",
    "    if issubclass(model.__class__, AlternatingLeastSquares):\n",
    "        # lets weight these models by bm25weight.\n",
    "        print(\"weighting matrix by bm25_weight\")\n",
    "        plays = bm25_weight(plays, K1=100, B=0.8)\n",
    "\n",
    "        # also disable building approximate recommend index\n",
    "        model.approximate_recommend = False\n",
    "\n",
    "    # this is actually disturbingly expensive:\n",
    "    plays = plays.tocsr()\n",
    "\n",
    "    print(\"training model {}\".format( model_name))\n",
    "    start = time.time()\n",
    "    model.fit(plays)\n",
    "    print(\"trained model '%s' in %0.2f\"%( model_name, time.time() - start))\n",
    "\n",
    "    # write out similar artists by popularity\n",
    "    artists = dict(enumerate(df['artist'].cat.categories))\n",
    "    start = time.time()\n",
    "    print(\"calculating top artists\")\n",
    "    user_count = df.groupby('artist').size()\n",
    "    to_generate = sorted(list(artists), key=lambda x: -user_count[x])\n",
    "\n",
    "    # write out as a TSV of artistid, otherartistid, score\n",
    "    with codecs.open(output_filename, \"w\", \"utf8\") as o:\n",
    "        for artistid in to_generate:\n",
    "            artist = artists[artistid]\n",
    "            for other, score in model.similar_items(artistid, 11):\n",
    "                o.write(\"%s\\t%s\\t%s\\n\" % (artist, artists[other], score))\n",
    "\n",
    "    print(\"generated similar artists in %0.2f\"%(time.time() - start))\n",
    "'''\n",
    "\n",
    "def calculate_recommendations(k, lam, input_filename, output_filename, model_name=\"als\"):\n",
    "    \"\"\" Generates artist recommendations for each user in the dataset \"\"\"\n",
    "    # train the model based off input params\n",
    "    df, cites = read_data(input_filename)\n",
    "\n",
    "    # create a model from the input data\n",
    "    model = get_model(model_name,k,lam) \n",
    "\n",
    "    # if we're training an ALS based model, weight input for last.fm\n",
    "    # by bm25\n",
    "    if issubclass(model.__class__, AlternatingLeastSquares):\n",
    "        # lets weight these models by bm25weight.\n",
    "        print(\"weighting matrix by bm25_weight\")\n",
    "        cites = bm25_weight(cites, K1=100, B=0.8)\n",
    "\n",
    "        # also disable building approximate recommend index\n",
    "        model.approximate_similar_items = False\n",
    "\n",
    "    # this is actually disturbingly expensive:\n",
    "    cites = cites.tocsr()\n",
    "\n",
    "    print(\"training model {}\".format(model_name))\n",
    "    start = time.time()\n",
    "    model.fit(cites) \n",
    "    print(\"trained model '%s' in %0.2f\"%( model_name, time.time() - start))\n",
    "\n",
    "    # generate recommendations for each user and write out to a file\n",
    "    '''\n",
    "    artists = dict(enumerate(df['ref'].cat.categories))\n",
    "    start = time.time()\n",
    "    user_cites = cites.T.tocsr()\n",
    "    with codecs.open(output_filename, \"w\", \"utf8\") as o:\n",
    "        for userid, username in enumerate(df['user'].cat.categories):\n",
    "            for artistid, score in model.recommend(userid, user_cites):\n",
    "                o.write(\"%s\\t%s\\t%s\\n\" % (username, artists[artistid], score))\n",
    "    print(\"generated recommendations in %0.2f\"%(  time.time() - start))\n",
    "    '''\n",
    "\n",
    "def start(k, lam, inputfile='../dblp-ref/aminer-debug.tsv',outputfile='../output-debug.tsv', model='faiss_als'):\n",
    "\n",
    "    #if recommend:\n",
    "    calculate_recommendations(k, lam, inputfile, outputfile, model_name=model)\n",
    "    #else:\n",
    "        #calculate_similar_artists(inputfile, outputfile, model_name=model)\n",
    "       "
   ]
  },
  {
   "cell_type": "markdown",
   "metadata": {},
   "source": [
    "# Run it on debug data (wrong, arbitrary train-test split)"
   ]
  },
  {
   "cell_type": "code",
   "execution_count": 4,
   "metadata": {
    "collapsed": true
   },
   "outputs": [],
   "source": [
    "logging.getLogger(\"implicit\").addHandler(logging.FileHandler('output.log', 'a'))"
   ]
  },
  {
   "cell_type": "code",
   "execution_count": 5,
   "metadata": {
    "collapsed": true
   },
   "outputs": [],
   "source": [
    "logging.getLogger(\"implicit\").setLevel(logging.DEBUG)"
   ]
  },
  {
   "cell_type": "code",
   "execution_count": 7,
   "metadata": {
    "colab": {
     "autoexec": {
      "startup": false,
      "wait_interval": 0
     },
     "base_uri": "https://localhost:8080/",
     "height": 132,
     "output_extras": [
      {
       "item_id": 1
      },
      {
       "item_id": 2
      },
      {
       "item_id": 5
      }
     ]
    },
    "colab_type": "code",
    "id": "17w7vir8bVuL",
    "outputId": "c681084e-f36c-4101-d0d1-42f844bdd7ef"
   },
   "outputs": [
    {
     "name": "stdout",
     "output_type": "stream",
     "text": [
      "10 0.01\n",
      "reading data from ../dblp-ref/aminer-debug_train.tsv\n"
     ]
    },
    {
     "name": "stderr",
     "output_type": "stream",
     "text": [
      "WARNING:root:Intel MKL BLAS detected. Its highly recommend to set the environment variable 'export MKL_NUM_THREADS=1' to disable its internal multithreading\n"
     ]
    },
    {
     "name": "stdout",
     "output_type": "stream",
     "text": [
      "read data file in 1.5096197128295898\n",
      "weighting matrix by bm25_weight\n"
     ]
    },
    {
     "name": "stderr",
     "output_type": "stream",
     "text": [
      "DEBUG:implicit:Calculated transpose in 0.007s\n",
      "DEBUG:implicit:initialize factors in 0.05744028091430664\n"
     ]
    },
    {
     "name": "stdout",
     "output_type": "stream",
     "text": [
      "training model faiss_als\n"
     ]
    },
    {
     "name": "stderr",
     "output_type": "stream",
     "text": [
      "DEBUG:implicit:finished iteration 0 in 0.027s\n",
      "DEBUG:implicit:loss at iteration 0 is 0.0028188310097903013\n",
      "DEBUG:implicit:finished iteration 1 in 0.028s\n",
      "DEBUG:implicit:loss at iteration 1 is 0.002806367352604866\n",
      "DEBUG:implicit:finished iteration 2 in 0.029s\n",
      "DEBUG:implicit:loss at iteration 2 is 0.002800916787236929\n",
      "DEBUG:implicit:finished iteration 3 in 0.032s\n",
      "DEBUG:implicit:loss at iteration 3 is 0.002799402689561248\n",
      "DEBUG:implicit:finished iteration 4 in 0.034s\n",
      "DEBUG:implicit:loss at iteration 4 is 0.0027988534420728683\n",
      "DEBUG:implicit:finished iteration 5 in 0.030s\n",
      "DEBUG:implicit:loss at iteration 5 is 0.0027986024506390095\n",
      "DEBUG:implicit:finished iteration 6 in 0.029s\n",
      "DEBUG:implicit:loss at iteration 6 is 0.002798462985083461\n",
      "DEBUG:implicit:finished iteration 7 in 0.030s\n",
      "DEBUG:implicit:loss at iteration 7 is 0.002798376139253378\n",
      "DEBUG:implicit:finished iteration 8 in 0.028s\n",
      "DEBUG:implicit:loss at iteration 8 is 0.0027983197942376137\n",
      "DEBUG:implicit:finished iteration 9 in 0.027s\n",
      "DEBUG:implicit:loss at iteration 9 is 0.002798280445858836\n",
      "DEBUG:implicit:finished iteration 10 in 0.025s\n",
      "DEBUG:implicit:loss at iteration 10 is 0.0027982457540929317\n",
      "DEBUG:implicit:finished iteration 11 in 0.025s\n",
      "DEBUG:implicit:loss at iteration 11 is 0.00279822014272213\n",
      "DEBUG:implicit:finished iteration 12 in 0.025s\n",
      "DEBUG:implicit:loss at iteration 12 is 0.0027981996536254883\n",
      "DEBUG:implicit:finished iteration 13 in 0.024s\n",
      "DEBUG:implicit:loss at iteration 13 is 0.002798183122649789\n",
      "DEBUG:implicit:finished iteration 14 in 0.024s\n",
      "DEBUG:implicit:loss at iteration 14 is 0.002798164263367653\n"
     ]
    },
    {
     "name": "stdout",
     "output_type": "stream",
     "text": [
      "trained model 'faiss_als' in 2.22\n",
      "25 0.01\n",
      "reading data from ../dblp-ref/aminer-debug_train.tsv\n"
     ]
    },
    {
     "name": "stderr",
     "output_type": "stream",
     "text": [
      "WARNING:root:Intel MKL BLAS detected. Its highly recommend to set the environment variable 'export MKL_NUM_THREADS=1' to disable its internal multithreading\n"
     ]
    },
    {
     "name": "stdout",
     "output_type": "stream",
     "text": [
      "read data file in 1.4836468696594238\n",
      "weighting matrix by bm25_weight\n"
     ]
    },
    {
     "name": "stderr",
     "output_type": "stream",
     "text": [
      "DEBUG:implicit:Calculated transpose in 0.009s\n",
      "DEBUG:implicit:initialize factors in 0.13600420951843262\n"
     ]
    },
    {
     "name": "stdout",
     "output_type": "stream",
     "text": [
      "training model faiss_als\n"
     ]
    },
    {
     "name": "stderr",
     "output_type": "stream",
     "text": [
      "DEBUG:implicit:finished iteration 0 in 0.028s\n",
      "DEBUG:implicit:loss at iteration 0 is 0.0028011836111545563\n",
      "DEBUG:implicit:finished iteration 1 in 0.031s\n",
      "DEBUG:implicit:loss at iteration 1 is 0.0027780537493526936\n",
      "DEBUG:implicit:finished iteration 2 in 0.033s\n",
      "DEBUG:implicit:loss at iteration 2 is 0.0027706236578524113\n",
      "DEBUG:implicit:finished iteration 3 in 0.033s\n",
      "DEBUG:implicit:loss at iteration 3 is 0.0027684480883181095\n",
      "DEBUG:implicit:finished iteration 4 in 0.033s\n",
      "DEBUG:implicit:loss at iteration 4 is 0.0027675526216626167\n",
      "DEBUG:implicit:finished iteration 5 in 0.035s\n",
      "DEBUG:implicit:loss at iteration 5 is 0.0027670892886817455\n",
      "DEBUG:implicit:finished iteration 6 in 0.032s\n",
      "DEBUG:implicit:loss at iteration 6 is 0.0027668101247400045\n",
      "DEBUG:implicit:finished iteration 7 in 0.034s\n",
      "DEBUG:implicit:loss at iteration 7 is 0.0027666129171848297\n",
      "DEBUG:implicit:finished iteration 8 in 0.035s\n",
      "DEBUG:implicit:loss at iteration 8 is 0.002766469493508339\n",
      "DEBUG:implicit:finished iteration 9 in 0.031s\n",
      "DEBUG:implicit:loss at iteration 9 is 0.002766353078186512\n",
      "DEBUG:implicit:finished iteration 10 in 0.031s\n",
      "DEBUG:implicit:loss at iteration 10 is 0.0027662604115903378\n",
      "DEBUG:implicit:finished iteration 11 in 0.033s\n",
      "DEBUG:implicit:loss at iteration 11 is 0.002766182878986001\n",
      "DEBUG:implicit:finished iteration 12 in 0.033s\n",
      "DEBUG:implicit:loss at iteration 12 is 0.0027661093045026064\n",
      "DEBUG:implicit:finished iteration 13 in 0.032s\n",
      "DEBUG:implicit:loss at iteration 13 is 0.002766049699857831\n",
      "DEBUG:implicit:finished iteration 14 in 0.033s\n",
      "DEBUG:implicit:loss at iteration 14 is 0.0027659933548420668\n"
     ]
    },
    {
     "name": "stdout",
     "output_type": "stream",
     "text": [
      "trained model 'faiss_als' in 1.99\n",
      "50 0.01\n",
      "reading data from ../dblp-ref/aminer-debug_train.tsv\n"
     ]
    },
    {
     "name": "stderr",
     "output_type": "stream",
     "text": [
      "WARNING:root:Intel MKL BLAS detected. Its highly recommend to set the environment variable 'export MKL_NUM_THREADS=1' to disable its internal multithreading\n"
     ]
    },
    {
     "name": "stdout",
     "output_type": "stream",
     "text": [
      "read data file in 1.4491844177246094\n",
      "weighting matrix by bm25_weight\n",
      "training model faiss_als\n"
     ]
    },
    {
     "name": "stderr",
     "output_type": "stream",
     "text": [
      "DEBUG:implicit:Calculated transpose in 0.007s\n",
      "DEBUG:implicit:initialize factors in 0.26712965965270996\n",
      "DEBUG:implicit:finished iteration 0 in 0.065s\n",
      "DEBUG:implicit:loss at iteration 0 is 0.0028647612780332565\n",
      "DEBUG:implicit:finished iteration 1 in 0.135s\n",
      "DEBUG:implicit:loss at iteration 1 is nan\n",
      "DEBUG:implicit:finished iteration 2 in 0.047s\n",
      "DEBUG:implicit:loss at iteration 2 is 0.0028311999049037695\n",
      "DEBUG:implicit:finished iteration 3 in 0.133s\n",
      "DEBUG:implicit:loss at iteration 3 is nan\n",
      "DEBUG:implicit:finished iteration 4 in 0.044s\n",
      "DEBUG:implicit:loss at iteration 4 is 0.0028312443755567074\n",
      "DEBUG:implicit:finished iteration 5 in 0.141s\n",
      "DEBUG:implicit:loss at iteration 5 is nan\n",
      "DEBUG:implicit:finished iteration 6 in 0.039s\n",
      "DEBUG:implicit:loss at iteration 6 is 0.002831238554790616\n",
      "DEBUG:implicit:finished iteration 7 in 0.147s\n",
      "DEBUG:implicit:loss at iteration 7 is nan\n",
      "DEBUG:implicit:finished iteration 8 in 0.041s\n",
      "DEBUG:implicit:loss at iteration 8 is 0.0028312434442341328\n",
      "DEBUG:implicit:finished iteration 9 in 0.121s\n",
      "DEBUG:implicit:loss at iteration 9 is nan\n",
      "DEBUG:implicit:finished iteration 10 in 0.048s\n",
      "DEBUG:implicit:loss at iteration 10 is 0.0028311898931860924\n",
      "DEBUG:implicit:finished iteration 11 in 0.148s\n",
      "DEBUG:implicit:loss at iteration 11 is nan\n",
      "DEBUG:implicit:finished iteration 12 in 0.099s\n",
      "DEBUG:implicit:loss at iteration 12 is 0.0028312443755567074\n",
      "DEBUG:implicit:finished iteration 13 in 0.080s\n",
      "DEBUG:implicit:loss at iteration 13 is nan\n",
      "DEBUG:implicit:finished iteration 14 in 1.190s\n",
      "DEBUG:implicit:loss at iteration 14 is 0.002831244608387351\n"
     ]
    },
    {
     "name": "stdout",
     "output_type": "stream",
     "text": [
      "trained model 'faiss_als' in 5.21\n",
      "75 0.01\n",
      "reading data from ../dblp-ref/aminer-debug_train.tsv\n"
     ]
    },
    {
     "name": "stderr",
     "output_type": "stream",
     "text": [
      "WARNING:root:Intel MKL BLAS detected. Its highly recommend to set the environment variable 'export MKL_NUM_THREADS=1' to disable its internal multithreading\n"
     ]
    },
    {
     "name": "stdout",
     "output_type": "stream",
     "text": [
      "read data file in 1.6788642406463623\n",
      "weighting matrix by bm25_weight\n"
     ]
    },
    {
     "name": "stderr",
     "output_type": "stream",
     "text": [
      "DEBUG:implicit:Calculated transpose in 0.013s\n"
     ]
    },
    {
     "name": "stdout",
     "output_type": "stream",
     "text": [
      "training model faiss_als\n"
     ]
    },
    {
     "name": "stderr",
     "output_type": "stream",
     "text": [
      "DEBUG:implicit:initialize factors in 0.4050014019012451\n",
      "DEBUG:implicit:finished iteration 0 in 0.121s\n",
      "DEBUG:implicit:loss at iteration 0 is 0.002768352860584855\n",
      "DEBUG:implicit:finished iteration 1 in 0.144s\n",
      "DEBUG:implicit:loss at iteration 1 is 5.920126438140869\n",
      "DEBUG:implicit:finished iteration 2 in 0.141s\n",
      "DEBUG:implicit:loss at iteration 2 is 2.0068018436431885\n",
      "DEBUG:implicit:finished iteration 3 in 0.137s\n",
      "DEBUG:implicit:loss at iteration 3 is 0.31495827436447144\n",
      "DEBUG:implicit:finished iteration 4 in 0.144s\n",
      "DEBUG:implicit:loss at iteration 4 is 0.3155200481414795\n",
      "DEBUG:implicit:finished iteration 5 in 0.140s\n",
      "DEBUG:implicit:loss at iteration 5 is 0.2117840051651001\n",
      "DEBUG:implicit:finished iteration 6 in 0.128s\n",
      "DEBUG:implicit:loss at iteration 6 is 0.23009587824344635\n",
      "DEBUG:implicit:finished iteration 7 in 0.129s\n",
      "DEBUG:implicit:loss at iteration 7 is -0.012185148894786835\n",
      "DEBUG:implicit:finished iteration 8 in 0.125s\n",
      "DEBUG:implicit:loss at iteration 8 is 0.16417063772678375\n",
      "DEBUG:implicit:finished iteration 9 in 0.127s\n",
      "DEBUG:implicit:loss at iteration 9 is 0.2807346284389496\n",
      "DEBUG:implicit:finished iteration 10 in 0.128s\n",
      "DEBUG:implicit:loss at iteration 10 is 0.16354164481163025\n",
      "DEBUG:implicit:finished iteration 11 in 0.128s\n",
      "DEBUG:implicit:loss at iteration 11 is 0.14062246680259705\n",
      "DEBUG:implicit:finished iteration 12 in 0.126s\n",
      "DEBUG:implicit:loss at iteration 12 is 0.09468915313482285\n",
      "DEBUG:implicit:finished iteration 13 in 0.144s\n",
      "DEBUG:implicit:loss at iteration 13 is 0.12370842695236206\n",
      "DEBUG:implicit:finished iteration 14 in 0.141s\n",
      "DEBUG:implicit:loss at iteration 14 is 0.16120034456253052\n"
     ]
    },
    {
     "name": "stdout",
     "output_type": "stream",
     "text": [
      "trained model 'faiss_als' in 5.37\n",
      "100 0.01\n",
      "reading data from ../dblp-ref/aminer-debug_train.tsv\n"
     ]
    },
    {
     "name": "stderr",
     "output_type": "stream",
     "text": [
      "WARNING:root:Intel MKL BLAS detected. Its highly recommend to set the environment variable 'export MKL_NUM_THREADS=1' to disable its internal multithreading\n"
     ]
    },
    {
     "name": "stdout",
     "output_type": "stream",
     "text": [
      "read data file in 1.571303367614746\n",
      "weighting matrix by bm25_weight\n",
      "training model faiss_als\n"
     ]
    },
    {
     "name": "stderr",
     "output_type": "stream",
     "text": [
      "DEBUG:implicit:Calculated transpose in 0.007s\n",
      "DEBUG:implicit:initialize factors in 0.5423779487609863\n",
      "DEBUG:implicit:finished iteration 0 in 0.203s\n",
      "DEBUG:implicit:loss at iteration 0 is 0.0027237783651798964\n",
      "DEBUG:implicit:finished iteration 1 in 0.193s\n",
      "DEBUG:implicit:loss at iteration 1 is 1980.674072265625\n",
      "DEBUG:implicit:finished iteration 2 in 0.194s\n",
      "DEBUG:implicit:loss at iteration 2 is 1187.1552734375\n",
      "DEBUG:implicit:finished iteration 3 in 0.247s\n",
      "DEBUG:implicit:loss at iteration 3 is nan\n",
      "DEBUG:implicit:finished iteration 4 in 0.107s\n",
      "DEBUG:implicit:loss at iteration 4 is 0.002831244608387351\n",
      "DEBUG:implicit:finished iteration 5 in 0.240s\n",
      "DEBUG:implicit:loss at iteration 5 is nan\n",
      "DEBUG:implicit:finished iteration 6 in 0.104s\n",
      "DEBUG:implicit:loss at iteration 6 is 0.0028312443755567074\n",
      "DEBUG:implicit:finished iteration 7 in 0.258s\n",
      "DEBUG:implicit:loss at iteration 7 is nan\n",
      "DEBUG:implicit:finished iteration 8 in 0.107s\n",
      "DEBUG:implicit:loss at iteration 8 is 0.0028312434442341328\n",
      "DEBUG:implicit:finished iteration 9 in 0.246s\n",
      "DEBUG:implicit:loss at iteration 9 is nan\n",
      "DEBUG:implicit:finished iteration 10 in 0.105s\n",
      "DEBUG:implicit:loss at iteration 10 is 0.002831223187968135\n",
      "DEBUG:implicit:finished iteration 11 in 0.239s\n",
      "DEBUG:implicit:loss at iteration 11 is nan\n",
      "DEBUG:implicit:finished iteration 12 in 0.106s\n",
      "DEBUG:implicit:loss at iteration 12 is 0.0028312455397099257\n",
      "DEBUG:implicit:finished iteration 13 in 0.225s\n",
      "DEBUG:implicit:loss at iteration 13 is nan\n",
      "DEBUG:implicit:finished iteration 14 in 0.109s\n",
      "DEBUG:implicit:loss at iteration 14 is 0.0028312315698713064\n"
     ]
    },
    {
     "name": "stdout",
     "output_type": "stream",
     "text": [
      "trained model 'faiss_als' in 6.43\n",
      "200 0.01\n",
      "reading data from ../dblp-ref/aminer-debug_train.tsv\n"
     ]
    },
    {
     "name": "stderr",
     "output_type": "stream",
     "text": [
      "WARNING:root:Intel MKL BLAS detected. Its highly recommend to set the environment variable 'export MKL_NUM_THREADS=1' to disable its internal multithreading\n"
     ]
    },
    {
     "name": "stdout",
     "output_type": "stream",
     "text": [
      "read data file in 1.4590554237365723\n",
      "weighting matrix by bm25_weight\n"
     ]
    },
    {
     "name": "stderr",
     "output_type": "stream",
     "text": [
      "DEBUG:implicit:Calculated transpose in 0.009s\n"
     ]
    },
    {
     "name": "stdout",
     "output_type": "stream",
     "text": [
      "training model faiss_als\n"
     ]
    },
    {
     "name": "stderr",
     "output_type": "stream",
     "text": [
      "DEBUG:implicit:initialize factors in 1.0761346817016602\n",
      "DEBUG:implicit:finished iteration 0 in 0.582s\n",
      "DEBUG:implicit:loss at iteration 0 is 0.002694434253498912\n",
      "DEBUG:implicit:finished iteration 1 in 0.590s\n",
      "DEBUG:implicit:loss at iteration 1 is 0.00262020924128592\n",
      "DEBUG:implicit:finished iteration 2 in 0.594s\n",
      "DEBUG:implicit:loss at iteration 2 is 0.0026027236599475145\n",
      "DEBUG:implicit:finished iteration 3 in 0.594s\n",
      "DEBUG:implicit:loss at iteration 3 is 0.0025661822874099016\n",
      "DEBUG:implicit:finished iteration 4 in 0.591s\n",
      "DEBUG:implicit:loss at iteration 4 is 0.0025594253093004227\n",
      "DEBUG:implicit:finished iteration 5 in 0.590s\n",
      "DEBUG:implicit:loss at iteration 5 is 0.0025530599523335695\n",
      "DEBUG:implicit:finished iteration 6 in 0.595s\n",
      "DEBUG:implicit:loss at iteration 6 is 0.0025472294073551893\n",
      "DEBUG:implicit:finished iteration 7 in 0.595s\n",
      "DEBUG:implicit:loss at iteration 7 is 0.0025435981806367636\n",
      "DEBUG:implicit:finished iteration 8 in 0.587s\n",
      "DEBUG:implicit:loss at iteration 8 is 0.002541059162467718\n",
      "DEBUG:implicit:finished iteration 9 in 0.591s\n",
      "DEBUG:implicit:loss at iteration 9 is 0.002539006993174553\n",
      "DEBUG:implicit:finished iteration 10 in 0.593s\n",
      "DEBUG:implicit:loss at iteration 10 is 0.002537218853831291\n",
      "DEBUG:implicit:finished iteration 11 in 0.595s\n",
      "DEBUG:implicit:loss at iteration 11 is 0.002535721752792597\n",
      "DEBUG:implicit:finished iteration 12 in 0.593s\n",
      "DEBUG:implicit:loss at iteration 12 is 0.0025344390887767076\n",
      "DEBUG:implicit:finished iteration 13 in 0.594s\n",
      "DEBUG:implicit:loss at iteration 13 is 0.0025333533994853497\n",
      "DEBUG:implicit:finished iteration 14 in 0.636s\n",
      "DEBUG:implicit:loss at iteration 14 is 0.002532460493966937\n"
     ]
    },
    {
     "name": "stdout",
     "output_type": "stream",
     "text": [
      "trained model 'faiss_als' in 16.15\n"
     ]
    }
   ],
   "source": [
    "!export OPENBLAS_NUM_THREADS=1\n",
    "!export MKL_NUM_THREADS=1\n",
    "\n",
    "#logging.basicConfig(filename='example.log',level=logging.DEBUG)\n",
    "#This file should be used to draw plots; but it is not closing.\n",
    "\n",
    "#k = 100\n",
    "lam = 0.01\n",
    "for k in [10,25,50,75,100,200]:\n",
    "    print(k,lam)\n",
    "    start(k, lam, '../dblp-ref/aminer-debug_train.tsv', \"../faiss_rank_{}_output_debug_train.tsv\".format(k))"
   ]
  },
  {
   "cell_type": "code",
   "execution_count": null,
   "metadata": {
    "collapsed": true
   },
   "outputs": [],
   "source": []
  }
 ],
 "metadata": {
  "accelerator": "GPU",
  "colab": {
   "collapsed_sections": [],
   "default_view": {},
   "name": "implicit-gpu",
   "provenance": [
    {
     "file_id": "1pKI6tFJYzzEBmVLhgoX68hPBIq4ya_1I",
     "timestamp": 1522520520508
    },
    {
     "file_id": "1SRTLWrrMWplNQFy9oHIhM7XJJFtv9xCP",
     "timestamp": 1522338031582
    }
   ],
   "version": "0.3.2",
   "views": {}
  },
  "kernelspec": {
   "display_name": "Python 3",
   "language": "python",
   "name": "python3"
  },
  "language_info": {
   "codemirror_mode": {
    "name": "ipython",
    "version": 3
   },
   "file_extension": ".py",
   "mimetype": "text/x-python",
   "name": "python",
   "nbconvert_exporter": "python",
   "pygments_lexer": "ipython3",
   "version": "3.6.3"
  }
 },
 "nbformat": 4,
 "nbformat_minor": 1
}
