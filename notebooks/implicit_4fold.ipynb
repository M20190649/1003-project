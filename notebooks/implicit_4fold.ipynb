{
 "cells": [
  {
   "cell_type": "markdown",
   "metadata": {
    "colab_type": "text",
    "id": "3zh-ShVdzDHQ"
   },
   "source": [
    "# 4fold\n",
    "\n",
    "If you wish to use GPU, change 'gpu' and 'use_gpu' in get_model accordingly.\n",
    "\n",
    "if using faiss_als, make sure you have faiss installed. if annoy_als, annoy must be installed."
   ]
  },
  {
   "cell_type": "markdown",
   "metadata": {
    "colab_type": "text",
    "id": "aZf56wGkC3yJ"
   },
   "source": [
    "# Setup"
   ]
  },
  {
   "cell_type": "code",
   "execution_count": 5,
   "metadata": {
    "colab": {
     "autoexec": {
      "startup": false,
      "wait_interval": 0
     }
    },
    "colab_type": "code",
    "collapsed": true,
    "id": "iszyGF1kDpo-"
   },
   "outputs": [],
   "source": [
    "import sys\n",
    "sys.path.insert(0, '../src')\n",
    "import preprocess\n",
    "import utils\n",
    "import random\n",
    "import matplotlib.pyplot as plt\n",
    "from collections import defaultdict\n",
    "%matplotlib inline\n",
    "from matplotlib import rc\n",
    "rc('figure', figsize=(16, 8), max_open_warning=False)\n",
    "from surprise import SVD, SVDpp, NMF\n",
    "from surprise import Dataset\n",
    "from surprise.model_selection import cross_validate\n",
    "from surprise import accuracy\n",
    "from surprise.model_selection import train_test_split\n",
    "import pandas as pd\n",
    "import numpy as np\n",
    "import implicit\n",
    "import codecs\n",
    "import json\n",
    "from sklearn.model_selection import train_test_split, KFold"
   ]
  },
  {
   "cell_type": "markdown",
   "metadata": {
    "colab_type": "text",
    "id": "dMD4xu3iOGPL"
   },
   "source": [
    "# Implicit"
   ]
  },
  {
   "cell_type": "code",
   "execution_count": 11,
   "metadata": {
    "colab": {
     "autoexec": {
      "startup": false,
      "wait_interval": 0
     }
    },
    "colab_type": "code",
    "collapsed": true,
    "id": "eg83S9c8af3X"
   },
   "outputs": [],
   "source": [
    "import argparse\n",
    "import codecs\n",
    "import logging\n",
    "import time\n",
    "\n",
    "import numpy\n",
    "import pandas\n",
    "from scipy.sparse import coo_matrix\n",
    "\n",
    "from implicit.als import AlternatingLeastSquares\n",
    "from implicit.approximate_als import (AnnoyAlternatingLeastSquares, FaissAlternatingLeastSquares,\n",
    "                                      NMSLibAlternatingLeastSquares)\n",
    "from implicit.bpr import BayesianPersonalizedRanking\n",
    "from implicit.nearest_neighbours import (BM25Recommender, CosineRecommender,\n",
    "                                         TFIDFRecommender, bm25_weight)\n",
    "\n",
    "# maps command line model argument to class name\n",
    "MODELS = {\"als\":  AlternatingLeastSquares,\n",
    "          \"nmslib_als\": NMSLibAlternatingLeastSquares,\n",
    "          \"annoy_als\": AnnoyAlternatingLeastSquares,\n",
    "          \"faiss_als\": FaissAlternatingLeastSquares,\n",
    "          \"tfidf\": TFIDFRecommender,\n",
    "          \"cosine\": CosineRecommender,\n",
    "          \"bpr\": BayesianPersonalizedRanking,\n",
    "          \"bm25\": BM25Recommender}\n",
    "\n",
    "\n",
    "\n",
    "# NOT USING GPU?? CHANGE CODE HERE\n",
    "def get_model(model_name,k,lam):\n",
    "    model_class = MODELS.get(model_name)\n",
    "    if not model_class:\n",
    "        raise ValueError(\"Unknown Model '%s'\" % model_name)\n",
    "\n",
    "    # some default params\n",
    "    if model_name == \"faiss_als\":\n",
    "        params = {'factors': k, 'dtype': numpy.float32, 'use_gpu': False, \n",
    "                  'gpu': False,  # keyerror -1\n",
    "                  \"calculate_training_loss\": True, \"regularization\": lam, \"iterations\": 15}\n",
    "    elif issubclass(model_class, AlternatingLeastSquares):\n",
    "        params = {'factors': k, 'dtype': numpy.float32, 'use_gpu': False, \n",
    "                  #'gpu': True,  # keyerror -1\n",
    "                  \"calculate_training_loss\": True, \"regularization\": lam, \"iterations\": 15}\n",
    "    elif model_name == \"bm25\":\n",
    "        params = {'K1': 100, 'B': 0.5}\n",
    "    elif model_name == \"bpr\":\n",
    "        params = {'factors': 63, 'use_gpu': True}\n",
    "    else:\n",
    "        params = {}\n",
    "\n",
    "    return model_class(**params)\n",
    "\n",
    "\n",
    "def read_data(filename):\n",
    "    \"\"\" Reads in the AMINER dataset, and returns a tuple of a pandas dataframe\n",
    "    and a sparse matrix of artist/user/playcount \"\"\"\n",
    "    # read in triples of user/artist/playcount from the input dataset\n",
    "    # get a model based off the input params\n",
    "    start = time.time()\n",
    "    print(\"reading data from %s\"% (filename))\n",
    "    data = pandas.read_table(filename,\n",
    "                             usecols=[0, 1, 2],\n",
    "                             names=['user', 'ref', 'cites'],\n",
    "                             na_filter=False)\n",
    "\n",
    "    # map each artist and user to a unique numeric value\n",
    "    data['user'] = data['user'].astype(\"category\")\n",
    "    data['ref'] = data['ref'].astype(\"category\")\n",
    "\n",
    "    # create a sparse matrix of all the users/plays\n",
    "    cites = coo_matrix((data['cites'].astype(numpy.float32),\n",
    "                       (data['ref'].cat.codes.copy(),\n",
    "                        data['user'].cat.codes.copy())))\n",
    "\n",
    "    print(\"read data file in {}\".format( time.time() - start))\n",
    "    return data, cites\n",
    "\n",
    "def calculate_recommendations(k, lam, input_filename, recommend_filename, similar_filename, model_name=\"als\"):\n",
    "    \"\"\" Generates artist recommendations for each user in the dataset \"\"\"\n",
    "    # train the model based off input params\n",
    "    df, cites = read_data(input_filename)\n",
    "\n",
    "    # create a model from the input data\n",
    "    model = get_model(model_name,k,lam) \n",
    "\n",
    "    # if we're training an ALS based model, weight input for last.fm\n",
    "    # by bm25\n",
    "    if issubclass(model.__class__, AlternatingLeastSquares):\n",
    "        # lets weight these models by bm25weight.\n",
    "        print(\"weighting matrix by bm25_weight\")\n",
    "        #cites = bm25_weight(cites, K1=100, B=0.8)\n",
    "\n",
    "        # also disable building approximate recommend index\n",
    "        model.approximate_similar_items = True\n",
    "\n",
    "    # this is actually disturbingly expensive:\n",
    "    cites = cites.tocsr()\n",
    "\n",
    "    print(\"training model {}\".format(model_name))\n",
    "    start = time.time()\n",
    "    model.fit(cites) \n",
    "    print(\"trained model '%s' in %0.2f\"%( model_name, time.time() - start))\n",
    "\n",
    "    # generate recommendations for each user and write out to a file\n",
    "    LEN_RECOMMENDATION = 50\n",
    "    artists = dict(enumerate(df['ref'].cat.categories))\n",
    "    start = time.time()\n",
    "    user_cites = cites.T.tocsr()\n",
    "    with codecs.open(recommend_filename, \"w\", \"utf8\") as o:\n",
    "        for userid, username in enumerate(df['user'].cat.categories):\n",
    "            for artistid, score in model.recommend(userid, user_cites, N=LEN_RECOMMENDATION):\n",
    "                try:\n",
    "                    o.write(\"%s\\t%s\\t%s\\n\" % (username, artists[artistid], score))\n",
    "                except:\n",
    "                    print(\"artistid {} had an error\".format(artistid))\n",
    "                    print(artistid in artists)\n",
    "                    print(artistid in df['user'].cat.categories)\n",
    "    print(\"generated recommendations in %0.2f\"%(  time.time() - start))\n",
    "    #'''\n",
    "    \n",
    "    # write out similar papers being cited\n",
    "    start = time.time()\n",
    "    user_count = df.groupby('ref').size()\n",
    "    to_generate = list(artists)#sorted(list(artists), key=lambda x: -user_count[x])\n",
    "    \n",
    "    # This might be useful for visualizing what we learned so far\n",
    "    LEN_SIMILAR_LIST = 10\n",
    "    print(\"returning similar papers depending on being cited by which\")\n",
    "    # write out as a TSV of artistid, otherartistid, score\n",
    "    with codecs.open(similar_filename, \"w\", \"utf8\") as o:\n",
    "        for artistid in to_generate:\n",
    "            try:\n",
    "                artist = artists[artistid]\n",
    "            except:\n",
    "                print(\"artistid {} had an error\".format(artistid))\n",
    "            for other, score in model.similar_items(artistid, LEN_SIMILAR_LIST):\n",
    "                try:\n",
    "                    o.write(\"%s\\t%s\\t%s\\n\" % (artist, artists[other], score))\n",
    "                except:\n",
    "                    print(\"other {} had an error\".format(other))\n",
    "\n",
    "    print(\"generated similar artists in %0.2f\"%(time.time() - start))\n",
    "def start(k, lam, inputfile, outputfile, similarfile, model='faiss_als'):\n",
    "\n",
    "    #if recommend:\n",
    "    calculate_recommendations(k, lam, inputfile, outputfile, similarfile, model_name=model)"
   ]
  },
  {
   "cell_type": "markdown",
   "metadata": {},
   "source": [
    "# Run it on debug data"
   ]
  },
  {
   "cell_type": "code",
   "execution_count": 7,
   "metadata": {
    "collapsed": true
   },
   "outputs": [],
   "source": [
    "logging.getLogger(\"implicit\").addHandler(logging.FileHandler('output.log', 'a'))"
   ]
  },
  {
   "cell_type": "code",
   "execution_count": 8,
   "metadata": {
    "collapsed": true
   },
   "outputs": [],
   "source": [
    "logging.getLogger(\"implicit\").setLevel(logging.DEBUG)"
   ]
  },
  {
   "cell_type": "code",
   "execution_count": 9,
   "metadata": {
    "collapsed": true
   },
   "outputs": [],
   "source": [
    "!export OPENBLAS_NUM_THREADS=1\n",
    "!export MKL_NUM_THREADS=1"
   ]
  },
  {
   "cell_type": "code",
   "execution_count": 12,
   "metadata": {
    "colab": {
     "autoexec": {
      "startup": false,
      "wait_interval": 0
     },
     "base_uri": "https://localhost:8080/",
     "height": 132,
     "output_extras": [
      {
       "item_id": 1
      },
      {
       "item_id": 2
      },
      {
       "item_id": 5
      }
     ]
    },
    "colab_type": "code",
    "id": "17w7vir8bVuL",
    "outputId": "c681084e-f36c-4101-d0d1-42f844bdd7ef",
    "scrolled": true
   },
   "outputs": [
    {
     "name": "stdout",
     "output_type": "stream",
     "text": [
      "reading data from ../dblp-ref/4fold/4fold_0_train.tsv\n"
     ]
    },
    {
     "name": "stderr",
     "output_type": "stream",
     "text": [
      "WARNING:root:OpenBLAS detected. Its highly recommend to set the environment variable 'export OPENBLAS_NUM_THREADS=1' to disable its internal multithreading\n",
      "DEBUG:implicit:Calculated transpose in 0.007s\n"
     ]
    },
    {
     "name": "stdout",
     "output_type": "stream",
     "text": [
      "read data file in 0.20790553092956543\n",
      "weighting matrix by bm25_weight\n",
      "training model als\n"
     ]
    },
    {
     "name": "stderr",
     "output_type": "stream",
     "text": [
      "DEBUG:implicit:initialize factors in 0.6113927364349365\n",
      "DEBUG:implicit:finished iteration 0 in 7.417s\n",
      "DEBUG:implicit:loss at iteration 0 is 3.146730179519389e-05\n",
      "DEBUG:implicit:finished iteration 1 in 7.631s\n",
      "DEBUG:implicit:loss at iteration 1 is 3.105404629254139e-05\n",
      "DEBUG:implicit:finished iteration 2 in 8.786s\n",
      "DEBUG:implicit:loss at iteration 2 is 3.0848161006273824e-05\n",
      "DEBUG:implicit:finished iteration 3 in 9.359s\n",
      "DEBUG:implicit:loss at iteration 3 is 3.077759015666236e-05\n",
      "DEBUG:implicit:finished iteration 4 in 9.483s\n",
      "DEBUG:implicit:loss at iteration 4 is 3.07484721668607e-05\n"
     ]
    },
    {
     "name": "stdout",
     "output_type": "stream",
     "text": [
      "trained model 'als' in 46.20\n",
      "generated recommendations in 690.59\n"
     ]
    }
   ],
   "source": [
    "lam = 0.1\n",
    "k = 100\n",
    "start(k, lam, '../dblp-ref/4fold/4fold_0_train.tsv', \n",
    "      \"../faiss_4fold_rank_{}_lam_{}_recommend.tsv\".format(k,lam), \n",
    "      \"../faiss_4fold_rank_{}_lam_{}_similar.tsv\".format(k,lam) , \n",
    "      model='als') # You can also choose 'faiss_als' which is best with gpu or 'annoy_als' with cpu"
   ]
  },
  {
   "cell_type": "code",
   "execution_count": 14,
   "metadata": {},
   "outputs": [],
   "source": [
    "data = pandas.read_table('../faiss_4fold_rank_100_lam_0.1_recommend.tsv',\n",
    "                             usecols=[0, 1, 2],\n",
    "                             names=['user', 'ref', 'cites'],\n",
    "                             na_filter=False)"
   ]
  },
  {
   "cell_type": "code",
   "execution_count": 19,
   "metadata": {},
   "outputs": [],
   "source": [
    "from collections import defaultdict\n",
    "result = defaultdict(list)\n",
    "\n",
    "for index, row in data.iterrows():\n",
    "    result[row['user']].append(row['ref'])"
   ]
  },
  {
   "cell_type": "code",
   "execution_count": 20,
   "metadata": {},
   "outputs": [
    {
     "data": {
      "text/plain": [
       "47018"
      ]
     },
     "execution_count": 20,
     "metadata": {},
     "output_type": "execute_result"
    }
   ],
   "source": [
    "len(result)"
   ]
  },
  {
   "cell_type": "code",
   "execution_count": 21,
   "metadata": {
    "collapsed": true
   },
   "outputs": [],
   "source": [
    "trainDict = defaultdict(list)\n",
    "trainDF = pandas.read_table('../dblp-ref/4fold/4fold_0_train.tsv',\n",
    "                             usecols=[0, 1, 2],\n",
    "                             names=['user', 'ref', 'cites'],\n",
    "                             na_filter=False)\n",
    "for index, row in trainDF.iterrows():\n",
    "    trainDict[row['user']].append(row['ref'])\n",
    "removeDict = defaultdict(list)\n",
    "for key, values in result.items():\n",
    "    for value in values:\n",
    "        if value in trainDict[key]:\n",
    "            removeDict[key].append(value)\n",
    "for key, values in removeDict.items():\n",
    "    for value in values:\n",
    "        result[key].remove(value)"
   ]
  },
  {
   "cell_type": "code",
   "execution_count": 25,
   "metadata": {
    "collapsed": true
   },
   "outputs": [],
   "source": [
    "testDF = pandas.read_table('../dblp-ref/4fold/4fold_test.tsv',\n",
    "                             usecols=[0, 1, 2],\n",
    "                             names=['user', 'ref', 'cites'],\n",
    "                             na_filter=False)\n",
    "testDict = defaultdict(list)\n",
    "for index, row in testDF.iterrows():\n",
    "    testDict[row['user']].append(row['ref'])"
   ]
  },
  {
   "cell_type": "code",
   "execution_count": 26,
   "metadata": {},
   "outputs": [],
   "source": [
    "validDF = pandas.read_table('../dblp-ref/4fold/4fold_0_val.tsv',\n",
    "                             usecols=[0, 1, 2],\n",
    "                             names=['user', 'ref', 'cites'],\n",
    "                             na_filter=False)\n",
    "validDict = defaultdict(list)\n",
    "for index, row in validDF.iterrows():\n",
    "    validDict[row['user']].append(row['ref'])"
   ]
  },
  {
   "cell_type": "code",
   "execution_count": 28,
   "metadata": {},
   "outputs": [],
   "source": [
    "precisions_val = []\n",
    "recalls_val = []\n",
    "f1_val = []\n",
    "klist = list(range(1,51))\n",
    "for k in klist:\n",
    "    topDict = dict()\n",
    "    for key, value in result.items():\n",
    "        if len(value) >= k:\n",
    "            topDict[key]=value[:k]\n",
    "        else:\n",
    "            topDict[key]=value\n",
    "    precisions, recalls = [], []\n",
    "    for key, values in topDict.items():\n",
    "        n_rel = len(validDict[key])\n",
    "        if n_rel == 0:\n",
    "            continue\n",
    "        n_rec_k = len(values)\n",
    "        n_rel_and_rec_k = 0\n",
    "        for value in values:\n",
    "            if value in validDict[key]:\n",
    "                n_rel_and_rec_k += 1\n",
    "        precisions.append( n_rel_and_rec_k / n_rec_k if n_rec_k != 0 else 0 )\n",
    "        recalls.append( n_rel_and_rec_k / n_rel if n_rel != 0 else 0 )\n",
    "    precision=np.sum(precisions)/len(precisions)\n",
    "    recall=np.sum(recalls)/len(recalls)\n",
    "    precisions_val.append(precision) \n",
    "    recalls_val.append(recall) \n",
    "    f1_val.append(2*(precision*recall)/(precision+recall)) "
   ]
  },
  {
   "cell_type": "code",
   "execution_count": 32,
   "metadata": {},
   "outputs": [],
   "source": [
    "precisions_test = []\n",
    "recalls_test = []\n",
    "f1_test = []\n",
    "for k in klist:\n",
    "    topDict = dict()\n",
    "    for key, value in result.items():\n",
    "        if len(value) >= k:\n",
    "            topDict[key]=value[:k]\n",
    "        else:\n",
    "            topDict[key]=value\n",
    "    precisions, recalls = [], []\n",
    "    for key, values in topDict.items():\n",
    "        n_rel = len(testDict[key])\n",
    "        if n_rel == 0:\n",
    "            continue\n",
    "        n_rec_k = len(values)\n",
    "        n_rel_and_rec_k = 0\n",
    "        for value in values:\n",
    "            if value in testDict[key]:\n",
    "                n_rel_and_rec_k += 1\n",
    "        precisions.append( n_rel_and_rec_k / n_rec_k if n_rec_k != 0 else 0 )\n",
    "        recalls.append( n_rel_and_rec_k / n_rel if n_rel != 0 else 0 ) \n",
    "    precision=np.sum(precisions)/len(precisions)\n",
    "    recall=np.sum(recalls)/len(recalls)\n",
    "    precisions_test.append(precision)\n",
    "    recalls_test.append(recall)\n",
    "    f1_test.append(2*(precision*recall)/(precision+recall))"
   ]
  },
  {
   "cell_type": "code",
   "execution_count": 29,
   "metadata": {
    "collapsed": true
   },
   "outputs": [],
   "source": [
    "import matplotlib.pyplot as plt\n",
    "%matplotlib inline\n",
    "from matplotlib import rc\n",
    "rc('figure', figsize=(16, 8), max_open_warning=False)"
   ]
  },
  {
   "cell_type": "code",
   "execution_count": 33,
   "metadata": {},
   "outputs": [
    {
     "data": {
      "image/png": "[encoded data removed]",
      "text/plain": [
       "<matplotlib.figure.Figure at 0x7f407204d908>"
      ]
     },
     "metadata": {},
     "output_type": "display_data"
    }
   ],
   "source": [
    "plt.plot(klist, f1_val, label=\"validation\")\n",
    "plt.plot(klist, f1_test, label=\"test\")\n",
    "plt.legend()\n",
    "plt.show()"
   ]
  },
  {
   "cell_type": "code",
   "execution_count": 34,
   "metadata": {},
   "outputs": [
    {
     "data": {
      "image/png": "[encoded data removed]",
      "text/plain": [
       "<matplotlib.figure.Figure at 0x7f407388fb38>"
      ]
     },
     "metadata": {},
     "output_type": "display_data"
    }
   ],
   "source": [
    "plt.plot(precisions_val, recalls_val, label=\"validation\")\n",
    "plt.plot(precisions_test, recalls_test, label=\"test\")\n",
    "plt.legend()\n",
    "plt.show()"
   ]
  },
  {
   "cell_type": "code",
   "execution_count": null,
   "metadata": {
    "collapsed": true
   },
   "outputs": [],
   "source": []
  }
 ],
 "metadata": {
  "accelerator": "GPU",
  "colab": {
   "collapsed_sections": [],
   "default_view": {},
   "name": "implicit-gpu",
   "provenance": [
    {
     "file_id": "1pKI6tFJYzzEBmVLhgoX68hPBIq4ya_1I",
     "timestamp": 1522520520508
    },
    {
     "file_id": "1SRTLWrrMWplNQFy9oHIhM7XJJFtv9xCP",
     "timestamp": 1522338031582
    }
   ],
   "version": "0.3.2",
   "views": {}
  },
  "kernelspec": {
   "display_name": "Python 3",
   "language": "python",
   "name": "python3"
  },
  "language_info": {
   "codemirror_mode": {
    "name": "ipython",
    "version": 3
   },
   "file_extension": ".py",
   "mimetype": "text/x-python",
   "name": "python",
   "nbconvert_exporter": "python",
   "pygments_lexer": "ipython3",
   "version": "3.6.3"
  }
 },
 "nbformat": 4,
 "nbformat_minor": 1
}
