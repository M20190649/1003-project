{
 "cells": [
  {
   "cell_type": "markdown",
   "metadata": {},
   "source": [
    "# Recommendation & Accuracy "
   ]
  },
  {
   "cell_type": "markdown",
   "metadata": {},
   "source": [
    "GOALS:::\n",
    "\n",
    "Recommendation Strategies\n",
    "1. k constant: recommend with k many papers\n",
    "2. k parameter: threshold on the papers\n",
    "\n",
    "Evaluation Strategies\n",
    "1. Accuracy metrics\n",
    "2. Discovery-oriented metrics\n",
    "\"\"\"\n"
   ]
  },
  {
   "cell_type": "markdown",
   "metadata": {},
   "source": [
    "# Example"
   ]
  },
  {
   "cell_type": "code",
   "execution_count": 3,
   "metadata": {
    "collapsed": true
   },
   "outputs": [],
   "source": [
    "import sys\n",
    "sys.path.insert(0, '../src')\n",
    "sys.path.insert(0, '../../')\n",
    "import random\n",
    "import preprocess\n",
    "import numpy as np\n",
    "import pandas as pd\n",
    "import matplotlib.pyplot as plt\n",
    "from functools import partial\n",
    "from collections import defaultdict\n",
    "%matplotlib inline\n",
    "from matplotlib import rc\n",
    "rc('figure', figsize=(16, 8), max_open_warning=False)\n",
    "from surprise import SVD, SVDpp, NMF\n",
    "from surprise import Dataset, Reader\n",
    "from surprise import accuracy\n",
    "from surprise.model_selection import train_test_split, cross_validate,  KFold\n",
    "\n",
    "\n",
    "### Below tic toc from https://stackoverflow.com/questions/5849800/tic-toc-functions-analog-in-python\n",
    "import time\n",
    "def TicTocGenerator():\n",
    "    # Generator that returns time differences\n",
    "    ti = 0           # initial time\n",
    "    tf = time.time() # final time\n",
    "    while True:\n",
    "        ti = tf\n",
    "        tf = time.time()\n",
    "        yield tf-ti # returns the time difference\n",
    "\n",
    "TicToc = TicTocGenerator() # create an instance of the TicTocGen generator\n",
    "\n",
    "# This will be the main function through which we define both tic() and toc()\n",
    "def toc(tempBool=True):\n",
    "    # Prints the time difference yielded by generator instance TicToc\n",
    "    tempTimeInterval = next(TicToc)\n",
    "    if tempBool:\n",
    "        print( \"Elapsed time: %f seconds.\\n\" %tempTimeInterval )\n",
    "\n",
    "def tic():\n",
    "    # Records a time in TicToc, marks the beginning of a time interval\n",
    "    toc(False)\n",
    "\n",
    "###all rights to below for these functions\n",
    "###http://surprise.readthedocs.io/en/stable/FAQ.html#how-to-get-the-top-n-recommendations-for-each-user\n",
    "def get_top_n(predictions, n=10):\n",
    "    '''Return the top-N recommendation for each user from a set of predictions.\n",
    "\n",
    "    Args:\n",
    "        predictions(list of Prediction objects): The list of predictions, as\n",
    "            returned by the test method of an algorithm.\n",
    "        n(int): The number of recommendation to output for each user. Default\n",
    "            is 10.\n",
    "\n",
    "    Returns:\n",
    "    A dict where keys are user (raw) ids and values are lists of tuples:\n",
    "        [(raw item id, rating estimation), ...] of size n.\n",
    "    '''\n",
    "\n",
    "    # First map the predictions to each user.\n",
    "    top_n = defaultdict(list)\n",
    "    for uid, iid, true_r, est, _ in predictions:\n",
    "        top_n[uid].append((iid, est))\n",
    "\n",
    "    # Then sort the predictions for each user and retrieve the k highest ones.\n",
    "    for uid, user_ratings in top_n.items():\n",
    "        user_ratings.sort(key=lambda x: x[1], reverse=True)\n",
    "        top_n[uid] = user_ratings[:n]\n",
    "\n",
    "    return top_n\n",
    "\n",
    "def precision_recall_at_k(predictions, k=10, threshold=3.5):\n",
    "    '''Return precision and recall at k metrics for each user.'''\n",
    "\n",
    "    # First map the predictions to each user.\n",
    "    user_est_true = defaultdict(list)\n",
    "    for uid, _, true_r, est, _ in predictions:\n",
    "        user_est_true[uid].append((est, true_r))\n",
    "\n",
    "    precisions = dict()\n",
    "    recalls = dict()\n",
    "    for uid, user_ratings in user_est_true.items():\n",
    "\n",
    "        # Sort user ratings by estimated value\n",
    "        user_ratings.sort(key=lambda x: x[0], reverse=True)\n",
    "\n",
    "        # Number of relevant items\n",
    "        n_rel = sum((true_r >= threshold) for (_, true_r) in user_ratings)\n",
    "\n",
    "        # Number of recommended items in top k\n",
    "        n_rec_k = sum((est >= threshold) for (est, _) in user_ratings[:k])\n",
    "\n",
    "        # Number of relevant and recommended items in top k\n",
    "        n_rel_and_rec_k = sum(((true_r >= threshold) and (est >= threshold))\n",
    "                              for (est, true_r) in user_ratings[:k])\n",
    "\n",
    "        # Precision@K: Proportion of recommended items that are relevant\n",
    "        precisions[uid] = n_rel_and_rec_k / n_rec_k if n_rec_k != 0 else 0\n",
    "\n",
    "        # Recall@K: Proportion of relevant items that are recommended\n",
    "        recalls[uid] = n_rel_and_rec_k / n_rel if n_rel != 0 else 0\n",
    "\n",
    "    return precisions, recalls\n",
    "\n",
    "\n"
   ]
  },
  {
   "cell_type": "markdown",
   "metadata": {},
   "source": [
    "# Recommendation System\n",
    "## 1. Un-Normalized Case.\n",
    "### 1.1 Regularization Hyperparameter search\n"
   ]
  },
  {
   "cell_type": "code",
   "execution_count": 2,
   "metadata": {
    "collapsed": true
   },
   "outputs": [],
   "source": [
    "\"\"\"\n",
    "Un-Normalized Case.\n",
    "\"\"\"\n",
    "\n",
    "random_dict = preprocess.create_random_subset_user_paper_data(debug=True)\n",
    "rating_scale = (1,11)\n",
    "trainset, testset = preprocess.user_paper_train_test_split(random_dict, test_size = .2)\n",
    "trainset = preprocess.create_surprise_user_paper_data(trainset, rating_scale).build_full_trainset()\n",
    "testset = preprocess.create_surprise_user_paper_data(testset, rating_scale).build_full_trainset().build_testset()\n",
    "\n",
    "\n",
    "# data = preprocess.create_surprise_user_paper_data(random_dict,rating_scale)\n",
    "# trainset, testset = train_test_split(data, test_size=.25)\n",
    "# algo = SVD(biased=False, n_epochs = 100)\n",
    "# algo.fit(trainset)\n",
    "# predictions = algo.test(testset,clip=False)\n",
    "# df = pd.DataFrame(predictions, columns=['uid', 'iid', 'rui', 'est', 'details'])\n"
   ]
  },
  {
   "cell_type": "code",
   "execution_count": 5,
   "metadata": {
    "collapsed": true
   },
   "outputs": [
    {
     "name": "stdout",
     "output_type": "stream",
     "text": [
      "hihihihihihi\n",
      "RMSE: 1.0537\n",
      "RMSE: 0.8594\n",
      "MAE:  0.9844\n",
      "MAE:  0.6615\n",
      "hihihihihihi\n",
      "RMSE: 1.0552\n",
      "RMSE: 0.8607\n",
      "MAE:  0.9870\n",
      "MAE:  0.6632\n",
      "hihihihihihi\n",
      "RMSE: 1.0562\n",
      "RMSE: 0.8614\n",
      "MAE:  0.9892\n",
      "MAE:  0.6646\n",
      "hihihihihihi\n",
      "RMSE: 1.0518\n",
      "RMSE: 0.8580\n",
      "MAE:  0.9850\n",
      "MAE:  0.6619\n",
      "hihihihihihi\n",
      "RMSE: 1.0534\n",
      "RMSE: 0.8593\n",
      "MAE:  0.9865\n",
      "MAE:  0.6629\n",
      "hihihihihihi\n",
      "RMSE: 1.0456\n",
      "RMSE: 0.8530\n",
      "MAE:  0.9846\n",
      "MAE:  0.6617\n",
      "hihihihihihi\n",
      "RMSE: 1.0265\n",
      "RMSE: 0.8378\n",
      "MAE:  0.9820\n",
      "MAE:  0.6599\n",
      "hihihihihihi\n",
      "RMSE: 1.0675\n",
      "RMSE: 0.8705\n",
      "MAE:  1.0407\n",
      "MAE:  0.6981\n",
      "hihihihihihi\n",
      "RMSE: 1.0704\n",
      "RMSE: 0.8728\n",
      "MAE:  1.0436\n",
      "MAE:  0.7000\n",
      "hihihihihihi\n",
      "RMSE: 1.0704\n",
      "RMSE: 0.8728\n",
      "MAE:  1.0436\n",
      "MAE:  0.7000\n"
     ]
    }
   ],
   "source": [
    "# Regularization Hyperparameter Search 1.\n",
    "lambdas = 10.0**np.arange(-7,3)\n",
    "test_loss_possible_rmse = np.zeros(len(lambdas))\n",
    "test_loss_all_rmse = np.zeros(len(lambdas))\n",
    "test_loss_possible_mae = np.zeros(len(lambdas))\n",
    "test_loss_all_mae = np.zeros(len(lambdas))\n",
    "\n",
    "for i in range(len(lambdas)):\n",
    "    algo = SVD(biased=False, n_epochs = 100,reg_all=lambdas[i])\n",
    "    algo.fit(trainset)\n",
    "    predictions = algo.test(testset, clip=False)\n",
    "    possible_predictions = [predictions[idx] for idx in range(len(predictions)) if predictions[idx].details['was_impossible']==False]\n",
    "    test_loss_possible_rmse[i] = accuracy.rmse(possible_predictions)\n",
    "    test_loss_all_rmse[i] = accuracy.rmse(predictions)\n",
    "    test_loss_possible_mae[i] = accuracy.mae(possible_predictions)\n",
    "    test_loss_all_mae[i] = accuracy.mae(predictions)\n",
    "    \n",
    "    \n",
    "# df = pd.DataFrame(predictions, columns=['uid', 'iid', 'rui', 'est', 'details'])"
   ]
  },
  {
   "cell_type": "code",
   "execution_count": 54,
   "metadata": {},
   "outputs": [
    {
     "name": "stdout",
     "output_type": "stream",
     "text": [
      "hihihihihihi\n"
     ]
    }
   ],
   "source": [
    "# lambda = 10^-1 works best for all four accuracies.\n",
    "# Set reg_all = 10^-1\n",
    "# Now let's do precision and recall.\n",
    "algo = SVD(biased=False, n_epochs = 100,reg_all=10**(-1))\n",
    "algo.fit(trainset)\n",
    "predictions = algo.test(testset, clip=False)\n",
    "possible_predictions = [predictions[idx] for idx in range(len(predictions)) if predictions[idx].details['was_impossible']==False]\n",
    "    "
   ]
  },
  {
   "cell_type": "code",
   "execution_count": 66,
   "metadata": {},
   "outputs": [
    {
     "data": {
      "image/png": "[encoded data removed]",
      "text/plain": [
       "<matplotlib.figure.Figure at 0x10de34588>"
      ]
     },
     "metadata": {},
     "output_type": "display_data"
    },
    {
     "data": {
      "text/plain": [
       "(0.058535069763064863, 0.25363236414386225, 1.5003439834864005)"
      ]
     },
     "execution_count": 66,
     "metadata": {},
     "output_type": "execute_result"
    }
   ],
   "source": [
    "\"\"\"\n",
    "Estimation is a gaussian distribution.\n",
    "Below is a histogram of estimations.\n",
    "\"\"\"\n",
    "estimations = []\n",
    "for idx in range(len(possible_predictions)):\n",
    "    estimations.append(possible_predictions[idx].est)\n",
    "\n",
    "plt.hist(estimations,bins=1000)\n",
    "plt.show()\n",
    "\n",
    "np.mean(estimations),np.std(estimations),max(estimations)"
   ]
  },
  {
   "cell_type": "markdown",
   "metadata": {},
   "source": [
    "\n",
    "### 1.2 Precision and Recall\n"
   ]
  },
  {
   "cell_type": "code",
   "execution_count": 74,
   "metadata": {},
   "outputs": [
    {
     "name": "stdout",
     "output_type": "stream",
     "text": [
      "Precision for all:   0.992842535787\n",
      "Recall for all:      0.711353160904\n",
      "Precision for possible:   0.90684508492\n",
      "Recall for possible:      0.58508776762\n"
     ]
    }
   ],
   "source": [
    "# top_n_all = get_top_n(predictions, n=k)\n",
    "# top_n_possible = get_top_n(possible_predictions, n=k)\n",
    "# # Print the recommended items for each user\n",
    "# for uid, user_ratings in top_n_possible.items():\n",
    "#     print(uid, [iid for (iid, _) in user_ratings], '\\n')\n",
    "\n",
    "k = 20\n",
    "threshold = 0\n",
    "\n",
    "precisions_all, recalls_all = precision_recall_at_k(predictions, k=k, threshold=threshold)\n",
    "precisions_possible, recalls_possible = precision_recall_at_k(possible_predictions, k=k, threshold=threshold)\n",
    "\n",
    "# Precision and recall can then be averaged over all users\n",
    "print('Precision for all:   '+str(sum(prec for prec in precisions_all.values()) / len(precisions_all)))\n",
    "print('Recall for all:      '+str(sum(rec for rec in recalls_all.values()) / len(recalls_all)))\n",
    "print('Precision for possible:   '+str(sum(prec for prec in precisions_possible.values()) / len(precisions_possible)))\n",
    "print('Recall for possible:      '+str(sum(rec for rec in recalls_possible.values()) / len(recalls_possible)))"
   ]
  },
  {
   "cell_type": "code",
   "execution_count": null,
   "metadata": {
    "collapsed": true
   },
   "outputs": [],
   "source": []
  }
 ],
 "metadata": {
  "kernelspec": {
   "display_name": "Python 3",
   "language": "python",
   "name": "python3"
  },
  "language_info": {
   "codemirror_mode": {
    "name": "ipython",
    "version": 3
   },
   "file_extension": ".py",
   "mimetype": "text/x-python",
   "name": "python",
   "nbconvert_exporter": "python",
   "pygments_lexer": "ipython3",
   "version": "3.6.3"
  }
 },
 "nbformat": 4,
 "nbformat_minor": 2
}
