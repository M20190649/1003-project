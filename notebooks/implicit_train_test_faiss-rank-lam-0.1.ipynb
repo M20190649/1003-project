{
 "cells": [
  {
   "cell_type": "markdown",
   "metadata": {
    "colab_type": "text",
    "id": "3zh-ShVdzDHQ"
   },
   "source": [
    "# Train test split\n",
    "\n",
    "Here we try a very simple idea of train-test split. We just split r"
   ]
  },
  {
   "cell_type": "markdown",
   "metadata": {
    "colab_type": "text",
    "id": "aZf56wGkC3yJ"
   },
   "source": [
    "# Setup"
   ]
  },
  {
   "cell_type": "code",
   "execution_count": 1,
   "metadata": {
    "colab": {
     "autoexec": {
      "startup": false,
      "wait_interval": 0
     }
    },
    "colab_type": "code",
    "collapsed": true,
    "id": "iszyGF1kDpo-"
   },
   "outputs": [],
   "source": [
    "import sys\n",
    "sys.path.insert(0, '../src')\n",
    "import preprocess\n",
    "import utils\n",
    "import random\n",
    "import matplotlib.pyplot as plt\n",
    "from collections import defaultdict\n",
    "%matplotlib inline\n",
    "from matplotlib import rc\n",
    "rc('figure', figsize=(16, 8), max_open_warning=False)\n",
    "from surprise import SVD, SVDpp, NMF\n",
    "from surprise import Dataset\n",
    "from surprise.model_selection import cross_validate\n",
    "from surprise import accuracy\n",
    "from surprise.model_selection import train_test_split\n",
    "import pandas as pd\n",
    "import numpy as np\n",
    "import implicit\n",
    "import codecs\n",
    "import json"
   ]
  },
  {
   "cell_type": "code",
   "execution_count": 2,
   "metadata": {
    "collapsed": true
   },
   "outputs": [],
   "source": [
    "from sklearn.model_selection import train_test_split, KFold\n",
    "\n",
    "def aminer_implicit_train_test_split(filename):\n",
    "    # Now we create train test split\n",
    "    # this can also be used as train-val-test\n",
    "    df = pd.read_table(filename,\n",
    "                             usecols=[0, 1, 2],\n",
    "                             names=['user', 'ref', 'score'],\n",
    "                             na_filter=False)\n",
    "    train, test = train_test_split(df, test_size=0.1)\n",
    "    train.to_csv(filename[:-4]+'_train.tsv',sep='\\t', header=False, index=False)\n",
    "    test.to_csv(filename[:-4]+'_test.tsv',sep='\\t', header=False, index=False) # This should have some false entries as well???"
   ]
  },
  {
   "cell_type": "markdown",
   "metadata": {
    "colab_type": "text",
    "id": "dMD4xu3iOGPL"
   },
   "source": [
    "# Implicit"
   ]
  },
  {
   "cell_type": "code",
   "execution_count": 8,
   "metadata": {
    "colab": {
     "autoexec": {
      "startup": false,
      "wait_interval": 0
     }
    },
    "colab_type": "code",
    "collapsed": true,
    "id": "eg83S9c8af3X"
   },
   "outputs": [],
   "source": [
    "import argparse\n",
    "import codecs\n",
    "import logging\n",
    "import time\n",
    "\n",
    "import numpy\n",
    "import pandas\n",
    "from scipy.sparse import coo_matrix\n",
    "\n",
    "from implicit.als import AlternatingLeastSquares\n",
    "from implicit.approximate_als import (AnnoyAlternatingLeastSquares, FaissAlternatingLeastSquares,\n",
    "                                      NMSLibAlternatingLeastSquares)\n",
    "from implicit.bpr import BayesianPersonalizedRanking\n",
    "from implicit.nearest_neighbours import (BM25Recommender, CosineRecommender,\n",
    "                                         TFIDFRecommender, bm25_weight)\n",
    "\n",
    "# maps command line model argument to class name\n",
    "MODELS = {\"als\":  AlternatingLeastSquares,\n",
    "          \"nmslib_als\": NMSLibAlternatingLeastSquares,\n",
    "          \"annoy_als\": AnnoyAlternatingLeastSquares,\n",
    "          \"faiss_als\": FaissAlternatingLeastSquares,\n",
    "          \"tfidf\": TFIDFRecommender,\n",
    "          \"cosine\": CosineRecommender,\n",
    "          \"bpr\": BayesianPersonalizedRanking,\n",
    "          \"bm25\": BM25Recommender}\n",
    "\n",
    "\n",
    "def get_model(model_name,k,lam):\n",
    "    model_class = MODELS.get(model_name)\n",
    "    if not model_class:\n",
    "        raise ValueError(\"Unknown Model '%s'\" % model_name)\n",
    "\n",
    "    # some default params\n",
    "    if model_name == \"faiss_als\":\n",
    "        params = {'factors': k, 'dtype': numpy.float32, 'use_gpu': True, #training substantially slower if I don't use use_gpu\n",
    "                  #'gpu': True,  # keyerror -1\n",
    "                  \"calculate_training_loss\": True, \"regularization\": lam}\n",
    "    elif issubclass(model_class, AlternatingLeastSquares):\n",
    "        params = {'factors': k, 'dtype': numpy.float32, 'use_gpu': True, #training substantially slower if I don't use use_gpu\n",
    "                  #'gpu': True,  # keyerror -1\n",
    "                  \"calculate_training_loss\": True, \"regularization\": lam}\n",
    "    elif model_name == \"bm25\":\n",
    "        params = {'K1': 100, 'B': 0.5}\n",
    "    elif model_name == \"bpr\":\n",
    "        params = {'factors': 63, 'use_gpu': True}\n",
    "    else:\n",
    "        params = {}\n",
    "\n",
    "    return model_class(**params)\n",
    "\n",
    "\n",
    "def read_data(filename):\n",
    "    \"\"\" Reads in the AMINER dataset, and returns a tuple of a pandas dataframe\n",
    "    and a sparse matrix of artist/user/playcount \"\"\"\n",
    "    # read in triples of user/artist/playcount from the input dataset\n",
    "    # get a model based off the input params\n",
    "    start = time.time()\n",
    "    print(\"reading data from %s\"% (filename))\n",
    "    data = pandas.read_table(filename,\n",
    "                             usecols=[0, 1, 2],\n",
    "                             names=['user', 'ref', 'cites'],\n",
    "                             na_filter=False)\n",
    "\n",
    "    # map each artist and user to a unique numeric value\n",
    "    data['user'] = data['user'].astype(\"category\")\n",
    "    data['ref'] = data['ref'].astype(\"category\")\n",
    "\n",
    "    # create a sparse matrix of all the users/plays\n",
    "    cites = coo_matrix((data['cites'].astype(numpy.float32),\n",
    "                       (data['ref'].cat.codes.copy(),\n",
    "                        data['user'].cat.codes.copy())))\n",
    "\n",
    "    print(\"read data file in {}\".format( time.time() - start))\n",
    "    return data, cites\n",
    "\n",
    "'''\n",
    "def calculate_similar_artists(input_filename, output_filename, model_name=\"als\"):\n",
    "    \"\"\" generates a list of similar artists in lastfm by utiliizing the 'similar_items'\n",
    "    api of the models \"\"\"\n",
    "    df, plays = read_data(input_filename)\n",
    "\n",
    "    # create a model from the input data\n",
    "    model = get_model(model_name)\n",
    "\n",
    "    # if we're training an ALS based model, weight input for last.fm\n",
    "    # by bm25\n",
    "    if issubclass(model.__class__, AlternatingLeastSquares):\n",
    "        # lets weight these models by bm25weight.\n",
    "        print(\"weighting matrix by bm25_weight\")\n",
    "        plays = bm25_weight(plays, K1=100, B=0.8)\n",
    "\n",
    "        # also disable building approximate recommend index\n",
    "        model.approximate_recommend = False\n",
    "\n",
    "    # this is actually disturbingly expensive:\n",
    "    plays = plays.tocsr()\n",
    "\n",
    "    print(\"training model {}\".format( model_name))\n",
    "    start = time.time()\n",
    "    model.fit(plays)\n",
    "    print(\"trained model '%s' in %0.2f\"%( model_name, time.time() - start))\n",
    "\n",
    "    # write out similar artists by popularity\n",
    "    artists = dict(enumerate(df['artist'].cat.categories))\n",
    "    start = time.time()\n",
    "    print(\"calculating top artists\")\n",
    "    user_count = df.groupby('artist').size()\n",
    "    to_generate = sorted(list(artists), key=lambda x: -user_count[x])\n",
    "\n",
    "    # write out as a TSV of artistid, otherartistid, score\n",
    "    with codecs.open(output_filename, \"w\", \"utf8\") as o:\n",
    "        for artistid in to_generate:\n",
    "            artist = artists[artistid]\n",
    "            for other, score in model.similar_items(artistid, 11):\n",
    "                o.write(\"%s\\t%s\\t%s\\n\" % (artist, artists[other], score))\n",
    "\n",
    "    print(\"generated similar artists in %0.2f\"%(time.time() - start))\n",
    "'''\n",
    "\n",
    "def calculate_recommendations(k, lam, input_filename, output_filename, model_name=\"als\"):\n",
    "    \"\"\" Generates artist recommendations for each user in the dataset \"\"\"\n",
    "    # train the model based off input params\n",
    "    df, cites = read_data(input_filename)\n",
    "\n",
    "    # create a model from the input data\n",
    "    model = get_model(model_name,k,lam) \n",
    "\n",
    "    # if we're training an ALS based model, weight input for last.fm\n",
    "    # by bm25\n",
    "    if issubclass(model.__class__, AlternatingLeastSquares):\n",
    "        # lets weight these models by bm25weight.\n",
    "        print(\"weighting matrix by bm25_weight\")\n",
    "        cites = bm25_weight(cites, K1=100, B=0.8)\n",
    "\n",
    "        # also disable building approximate recommend index\n",
    "        model.approximate_similar_items = False\n",
    "\n",
    "    # this is actually disturbingly expensive:\n",
    "    cites = cites.tocsr()\n",
    "\n",
    "    print(\"training model {}\".format(model_name))\n",
    "    start = time.time()\n",
    "    model.fit(cites) \n",
    "    print(\"trained model '%s' in %0.2f\"%( model_name, time.time() - start))\n",
    "\n",
    "    # generate recommendations for each user and write out to a file\n",
    "\n",
    "    artists = dict(enumerate(df['ref'].cat.categories))\n",
    "    start = time.time()\n",
    "    user_cites = cites.T.tocsr()\n",
    "    with codecs.open(output_filename, \"w\", \"utf8\") as o:\n",
    "        for userid, username in enumerate(df['user'].cat.categories):\n",
    "            for artistid, score in model.recommend(userid, user_cites):\n",
    "                o.write(\"%s\\t%s\\t%s\\n\" % (username, artists[artistid], score))\n",
    "    print(\"generated recommendations in %0.2f\"%(  time.time() - start))\n",
    "\n",
    "\n",
    "def start(k, lam, inputfile='../dblp-ref/aminer-debug.tsv',outputfile='../output-debug.tsv', model='faiss_als'):\n",
    "\n",
    "    #if recommend:\n",
    "    calculate_recommendations(k, lam, inputfile, outputfile, model_name=model)\n",
    "    #else:\n",
    "        #calculate_similar_artists(inputfile, outputfile, model_name=model)\n",
    "       "
   ]
  },
  {
   "cell_type": "markdown",
   "metadata": {},
   "source": [
    "# Run it on debug data (proper train-test split, but negative or nan loss error!)"
   ]
  },
  {
   "cell_type": "code",
   "execution_count": 4,
   "metadata": {
    "collapsed": true
   },
   "outputs": [],
   "source": [
    "logging.getLogger(\"implicit\").addHandler(logging.FileHandler('output.log', 'a'))"
   ]
  },
  {
   "cell_type": "code",
   "execution_count": 5,
   "metadata": {
    "collapsed": true
   },
   "outputs": [],
   "source": [
    "logging.getLogger(\"implicit\").setLevel(logging.DEBUG)"
   ]
  },
  {
   "cell_type": "code",
   "execution_count": 7,
   "metadata": {
    "colab": {
     "autoexec": {
      "startup": false,
      "wait_interval": 0
     },
     "base_uri": "https://localhost:8080/",
     "height": 132,
     "output_extras": [
      {
       "item_id": 1
      },
      {
       "item_id": 2
      },
      {
       "item_id": 5
      }
     ]
    },
    "colab_type": "code",
    "id": "17w7vir8bVuL",
    "outputId": "c681084e-f36c-4101-d0d1-42f844bdd7ef"
   },
   "outputs": [
    {
     "name": "stdout",
     "output_type": "stream",
     "text": [
      "10 0.1\n",
      "reading data from ../dblp-ref/merged_train.tsv\n"
     ]
    },
    {
     "name": "stderr",
     "output_type": "stream",
     "text": [
      "WARNING:root:Intel MKL BLAS detected. Its highly recommend to set the environment variable 'export MKL_NUM_THREADS=1' to disable its internal multithreading\n",
      "DEBUG:implicit:Calculated transpose in 0.006s\n"
     ]
    },
    {
     "name": "stdout",
     "output_type": "stream",
     "text": [
      "read data file in 1.5308563709259033\n",
      "weighting matrix by bm25_weight\n",
      "training model faiss_als\n"
     ]
    },
    {
     "name": "stderr",
     "output_type": "stream",
     "text": [
      "DEBUG:implicit:initialize factors in 0.052545785903930664\n",
      "DEBUG:implicit:finished iteration 0 in 0.029s\n",
      "DEBUG:implicit:loss at iteration 0 is -0.0035676476545631886\n",
      "DEBUG:implicit:finished iteration 1 in 0.031s\n",
      "DEBUG:implicit:loss at iteration 1 is -0.0035522643011063337\n",
      "DEBUG:implicit:finished iteration 2 in 0.032s\n",
      "DEBUG:implicit:loss at iteration 2 is -0.0035453555174171925\n",
      "DEBUG:implicit:finished iteration 3 in 0.028s\n",
      "DEBUG:implicit:loss at iteration 3 is -0.003543371334671974\n",
      "DEBUG:implicit:finished iteration 4 in 0.029s\n",
      "DEBUG:implicit:loss at iteration 4 is -0.0035426183603703976\n",
      "DEBUG:implicit:finished iteration 5 in 0.028s\n",
      "DEBUG:implicit:loss at iteration 5 is -0.003542246762663126\n",
      "DEBUG:implicit:finished iteration 6 in 0.029s\n",
      "DEBUG:implicit:loss at iteration 6 is -0.0035420204512774944\n",
      "DEBUG:implicit:finished iteration 7 in 0.028s\n",
      "DEBUG:implicit:loss at iteration 7 is -0.00354186724871397\n",
      "DEBUG:implicit:finished iteration 8 in 0.026s\n",
      "DEBUG:implicit:loss at iteration 8 is -0.003541748970746994\n",
      "DEBUG:implicit:finished iteration 9 in 0.025s\n",
      "DEBUG:implicit:loss at iteration 9 is -0.003541656769812107\n",
      "DEBUG:implicit:finished iteration 10 in 0.024s\n",
      "DEBUG:implicit:loss at iteration 10 is -0.003541582031175494\n",
      "DEBUG:implicit:finished iteration 11 in 0.026s\n",
      "DEBUG:implicit:loss at iteration 11 is -0.0035415173042565584\n",
      "DEBUG:implicit:finished iteration 12 in 0.024s\n",
      "DEBUG:implicit:loss at iteration 12 is -0.0035414600279182196\n",
      "DEBUG:implicit:finished iteration 13 in 0.023s\n",
      "DEBUG:implicit:loss at iteration 13 is -0.003541409969329834\n",
      "DEBUG:implicit:finished iteration 14 in 0.023s\n",
      "DEBUG:implicit:loss at iteration 14 is -0.003541365033015609\n"
     ]
    },
    {
     "name": "stdout",
     "output_type": "stream",
     "text": [
      "trained model 'faiss_als' in 1.13\n",
      "25 0.1\n",
      "reading data from ../dblp-ref/merged_train.tsv\n"
     ]
    },
    {
     "name": "stderr",
     "output_type": "stream",
     "text": [
      "WARNING:root:Intel MKL BLAS detected. Its highly recommend to set the environment variable 'export MKL_NUM_THREADS=1' to disable its internal multithreading\n"
     ]
    },
    {
     "name": "stdout",
     "output_type": "stream",
     "text": [
      "read data file in 1.4623689651489258\n",
      "weighting matrix by bm25_weight\n",
      "training model faiss_als\n"
     ]
    },
    {
     "name": "stderr",
     "output_type": "stream",
     "text": [
      "DEBUG:implicit:Calculated transpose in 0.010s\n",
      "DEBUG:implicit:initialize factors in 0.13492965698242188\n",
      "DEBUG:implicit:finished iteration 0 in 0.029s\n",
      "DEBUG:implicit:loss at iteration 0 is -0.0035481788218021393\n",
      "DEBUG:implicit:finished iteration 1 in 0.032s\n",
      "DEBUG:implicit:loss at iteration 1 is -0.0035198030527681112\n",
      "DEBUG:implicit:finished iteration 2 in 0.034s\n",
      "DEBUG:implicit:loss at iteration 2 is -0.0035102202091366053\n",
      "DEBUG:implicit:finished iteration 3 in 0.034s\n",
      "DEBUG:implicit:loss at iteration 3 is -0.003507304936647415\n",
      "DEBUG:implicit:finished iteration 4 in 0.035s\n",
      "DEBUG:implicit:loss at iteration 4 is -0.0035060355439782143\n",
      "DEBUG:implicit:finished iteration 5 in 0.033s\n",
      "DEBUG:implicit:loss at iteration 5 is -0.0035053223837167025\n",
      "DEBUG:implicit:finished iteration 6 in 0.033s\n",
      "DEBUG:implicit:loss at iteration 6 is -0.003504849271848798\n",
      "DEBUG:implicit:finished iteration 7 in 0.034s\n",
      "DEBUG:implicit:loss at iteration 7 is -0.0035045037511736155\n",
      "DEBUG:implicit:finished iteration 8 in 0.034s\n",
      "DEBUG:implicit:loss at iteration 8 is -0.0035042271483689547\n",
      "DEBUG:implicit:finished iteration 9 in 0.035s\n",
      "DEBUG:implicit:loss at iteration 9 is -0.0035040033981204033\n",
      "DEBUG:implicit:finished iteration 10 in 0.033s\n",
      "DEBUG:implicit:loss at iteration 10 is -0.0035038164351135492\n",
      "DEBUG:implicit:finished iteration 11 in 0.032s\n",
      "DEBUG:implicit:loss at iteration 11 is -0.003503644373267889\n",
      "DEBUG:implicit:finished iteration 12 in 0.034s\n",
      "DEBUG:implicit:loss at iteration 12 is -0.0035035000182688236\n",
      "DEBUG:implicit:finished iteration 13 in 0.032s\n",
      "DEBUG:implicit:loss at iteration 13 is -0.0035033696331083775\n",
      "DEBUG:implicit:finished iteration 14 in 0.034s\n",
      "DEBUG:implicit:loss at iteration 14 is -0.0035032532177865505\n"
     ]
    },
    {
     "name": "stdout",
     "output_type": "stream",
     "text": [
      "trained model 'faiss_als' in 1.49\n",
      "50 0.1\n",
      "reading data from ../dblp-ref/merged_train.tsv\n"
     ]
    },
    {
     "name": "stderr",
     "output_type": "stream",
     "text": [
      "WARNING:root:Intel MKL BLAS detected. Its highly recommend to set the environment variable 'export MKL_NUM_THREADS=1' to disable its internal multithreading\n",
      "DEBUG:implicit:Calculated transpose in 0.011s\n"
     ]
    },
    {
     "name": "stdout",
     "output_type": "stream",
     "text": [
      "read data file in 1.3290276527404785\n",
      "weighting matrix by bm25_weight\n",
      "training model faiss_als\n"
     ]
    },
    {
     "name": "stderr",
     "output_type": "stream",
     "text": [
      "DEBUG:implicit:initialize factors in 0.3344898223876953\n",
      "DEBUG:implicit:finished iteration 0 in 0.067s\n",
      "DEBUG:implicit:loss at iteration 0 is -0.0036145022604614496\n",
      "DEBUG:implicit:finished iteration 1 in 0.126s\n",
      "DEBUG:implicit:loss at iteration 1 is nan\n",
      "DEBUG:implicit:finished iteration 2 in 0.045s\n",
      "DEBUG:implicit:loss at iteration 2 is -0.0035811373963952065\n",
      "DEBUG:implicit:finished iteration 3 in 0.140s\n",
      "DEBUG:implicit:loss at iteration 3 is nan\n",
      "DEBUG:implicit:finished iteration 4 in 0.045s\n",
      "DEBUG:implicit:loss at iteration 4 is -0.003581139026209712\n",
      "DEBUG:implicit:finished iteration 5 in 0.138s\n",
      "DEBUG:implicit:loss at iteration 5 is nan\n",
      "DEBUG:implicit:finished iteration 6 in 0.045s\n",
      "DEBUG:implicit:loss at iteration 6 is -0.003581139724701643\n",
      "DEBUG:implicit:finished iteration 7 in 0.050s\n",
      "DEBUG:implicit:loss at iteration 7 is nan\n",
      "DEBUG:implicit:finished iteration 8 in 1.077s\n",
      "DEBUG:implicit:loss at iteration 8 is -0.003581139026209712\n",
      "DEBUG:implicit:finished iteration 9 in 0.044s\n",
      "DEBUG:implicit:loss at iteration 9 is -0.0035811106208711863\n",
      "DEBUG:implicit:finished iteration 10 in 0.122s\n",
      "DEBUG:implicit:loss at iteration 10 is nan\n",
      "DEBUG:implicit:finished iteration 11 in 0.046s\n",
      "DEBUG:implicit:loss at iteration 11 is -0.003581139026209712\n",
      "DEBUG:implicit:finished iteration 12 in 0.051s\n",
      "DEBUG:implicit:loss at iteration 12 is nan\n",
      "DEBUG:implicit:finished iteration 13 in 1.136s\n",
      "DEBUG:implicit:loss at iteration 13 is -0.003581139026209712\n",
      "DEBUG:implicit:finished iteration 14 in 0.065s\n",
      "DEBUG:implicit:loss at iteration 14 is nan\n"
     ]
    },
    {
     "name": "stdout",
     "output_type": "stream",
     "text": [
      "trained model 'faiss_als' in 5.59\n",
      "75 0.1\n",
      "reading data from ../dblp-ref/merged_train.tsv\n"
     ]
    },
    {
     "name": "stderr",
     "output_type": "stream",
     "text": [
      "WARNING:root:Intel MKL BLAS detected. Its highly recommend to set the environment variable 'export MKL_NUM_THREADS=1' to disable its internal multithreading\n",
      "DEBUG:implicit:Calculated transpose in 0.010s\n"
     ]
    },
    {
     "name": "stdout",
     "output_type": "stream",
     "text": [
      "read data file in 1.3236982822418213\n",
      "weighting matrix by bm25_weight\n",
      "training model faiss_als\n"
     ]
    },
    {
     "name": "stderr",
     "output_type": "stream",
     "text": [
      "DEBUG:implicit:initialize factors in 0.5168826580047607\n",
      "DEBUG:implicit:finished iteration 0 in 0.124s\n",
      "DEBUG:implicit:loss at iteration 0 is -0.003587933024391532\n",
      "DEBUG:implicit:finished iteration 1 in 0.187s\n",
      "DEBUG:implicit:loss at iteration 1 is nan\n",
      "DEBUG:implicit:finished iteration 2 in 0.077s\n",
      "DEBUG:implicit:loss at iteration 2 is -0.0035811320412904024\n",
      "DEBUG:implicit:finished iteration 3 in 0.182s\n",
      "DEBUG:implicit:loss at iteration 3 is nan\n",
      "DEBUG:implicit:finished iteration 4 in 0.080s\n",
      "DEBUG:implicit:loss at iteration 4 is -0.003581129014492035\n",
      "DEBUG:implicit:finished iteration 5 in 0.184s\n",
      "DEBUG:implicit:loss at iteration 5 is nan\n",
      "DEBUG:implicit:finished iteration 6 in 0.073s\n",
      "DEBUG:implicit:loss at iteration 6 is -0.003581134369596839\n",
      "DEBUG:implicit:finished iteration 7 in 0.185s\n",
      "DEBUG:implicit:loss at iteration 7 is nan\n",
      "DEBUG:implicit:finished iteration 8 in 0.077s\n",
      "DEBUG:implicit:loss at iteration 8 is -0.0035811339039355516\n",
      "DEBUG:implicit:finished iteration 9 in 0.172s\n",
      "DEBUG:implicit:loss at iteration 9 is nan\n",
      "DEBUG:implicit:finished iteration 10 in 0.080s\n",
      "DEBUG:implicit:loss at iteration 10 is -0.003581116907298565\n",
      "DEBUG:implicit:finished iteration 11 in 0.201s\n",
      "DEBUG:implicit:loss at iteration 11 is nan\n",
      "DEBUG:implicit:finished iteration 12 in 0.094s\n",
      "DEBUG:implicit:loss at iteration 12 is -0.003581139026209712\n",
      "DEBUG:implicit:finished iteration 13 in 0.175s\n",
      "DEBUG:implicit:loss at iteration 13 is nan\n",
      "DEBUG:implicit:finished iteration 14 in 0.134s\n",
      "DEBUG:implicit:loss at iteration 14 is -0.003581134369596839\n"
     ]
    },
    {
     "name": "stdout",
     "output_type": "stream",
     "text": [
      "trained model 'faiss_als' in 5.44\n",
      "100 0.1\n",
      "reading data from ../dblp-ref/merged_train.tsv\n"
     ]
    },
    {
     "name": "stderr",
     "output_type": "stream",
     "text": [
      "WARNING:root:Intel MKL BLAS detected. Its highly recommend to set the environment variable 'export MKL_NUM_THREADS=1' to disable its internal multithreading\n",
      "DEBUG:implicit:Calculated transpose in 0.006s\n"
     ]
    },
    {
     "name": "stdout",
     "output_type": "stream",
     "text": [
      "read data file in 1.3758156299591064\n",
      "weighting matrix by bm25_weight\n",
      "training model faiss_als\n"
     ]
    },
    {
     "name": "stderr",
     "output_type": "stream",
     "text": [
      "DEBUG:implicit:initialize factors in 0.5780715942382812\n",
      "DEBUG:implicit:finished iteration 0 in 0.213s\n",
      "DEBUG:implicit:loss at iteration 0 is -0.0037069013342261314\n",
      "DEBUG:implicit:finished iteration 1 in 0.197s\n",
      "DEBUG:implicit:loss at iteration 1 is -0.004564741626381874\n",
      "DEBUG:implicit:finished iteration 2 in 0.203s\n",
      "DEBUG:implicit:loss at iteration 2 is -1.161307692527771\n",
      "DEBUG:implicit:finished iteration 3 in 0.193s\n",
      "DEBUG:implicit:loss at iteration 3 is -7.569947242736816\n",
      "DEBUG:implicit:finished iteration 4 in 0.200s\n",
      "DEBUG:implicit:loss at iteration 4 is -0.0979917049407959\n",
      "DEBUG:implicit:finished iteration 5 in 0.224s\n",
      "DEBUG:implicit:loss at iteration 5 is 0.009082394652068615\n",
      "DEBUG:implicit:finished iteration 6 in 0.208s\n",
      "DEBUG:implicit:loss at iteration 6 is 0.160442054271698\n",
      "DEBUG:implicit:finished iteration 7 in 0.202s\n",
      "DEBUG:implicit:loss at iteration 7 is -0.01064402237534523\n",
      "DEBUG:implicit:finished iteration 8 in 0.201s\n",
      "DEBUG:implicit:loss at iteration 8 is -0.008704557083547115\n",
      "DEBUG:implicit:finished iteration 9 in 0.202s\n",
      "DEBUG:implicit:loss at iteration 9 is -0.03254294395446777\n",
      "DEBUG:implicit:finished iteration 10 in 0.201s\n",
      "DEBUG:implicit:loss at iteration 10 is -0.017402010038495064\n",
      "DEBUG:implicit:finished iteration 11 in 0.203s\n",
      "DEBUG:implicit:loss at iteration 11 is -0.009387325495481491\n",
      "DEBUG:implicit:finished iteration 12 in 0.203s\n",
      "DEBUG:implicit:loss at iteration 12 is -0.012373077683150768\n",
      "DEBUG:implicit:finished iteration 13 in 0.203s\n",
      "DEBUG:implicit:loss at iteration 13 is -0.004565110430121422\n",
      "DEBUG:implicit:finished iteration 14 in 0.203s\n",
      "DEBUG:implicit:loss at iteration 14 is -0.008899163454771042\n"
     ]
    },
    {
     "name": "stdout",
     "output_type": "stream",
     "text": [
      "trained model 'faiss_als' in 6.72\n",
      "200 0.1\n",
      "reading data from ../dblp-ref/merged_train.tsv\n"
     ]
    },
    {
     "name": "stderr",
     "output_type": "stream",
     "text": [
      "WARNING:root:Intel MKL BLAS detected. Its highly recommend to set the environment variable 'export MKL_NUM_THREADS=1' to disable its internal multithreading\n",
      "DEBUG:implicit:Calculated transpose in 0.011s\n"
     ]
    },
    {
     "name": "stdout",
     "output_type": "stream",
     "text": [
      "read data file in 1.3966021537780762\n",
      "weighting matrix by bm25_weight\n",
      "training model faiss_als\n"
     ]
    },
    {
     "name": "stderr",
     "output_type": "stream",
     "text": [
      "DEBUG:implicit:initialize factors in 1.2033517360687256\n",
      "DEBUG:implicit:finished iteration 0 in 0.665s\n",
      "DEBUG:implicit:loss at iteration 0 is -0.003416931489482522\n",
      "DEBUG:implicit:finished iteration 1 in 0.647s\n",
      "DEBUG:implicit:loss at iteration 1 is -0.0033125898335129023\n",
      "DEBUG:implicit:finished iteration 2 in 0.649s\n",
      "DEBUG:implicit:loss at iteration 2 is -0.0032741837203502655\n",
      "DEBUG:implicit:finished iteration 3 in 0.651s\n",
      "DEBUG:implicit:loss at iteration 3 is nan\n",
      "DEBUG:implicit:finished iteration 4 in 0.915s\n",
      "DEBUG:implicit:loss at iteration 4 is -0.003581139724701643\n",
      "DEBUG:implicit:finished iteration 5 in 0.405s\n",
      "DEBUG:implicit:loss at iteration 5 is -0.003580586751922965\n",
      "DEBUG:implicit:finished iteration 6 in 0.657s\n",
      "DEBUG:implicit:loss at iteration 6 is -3678.474365234375\n",
      "DEBUG:implicit:finished iteration 7 in 0.670s\n",
      "DEBUG:implicit:loss at iteration 7 is -209.8435821533203\n",
      "DEBUG:implicit:finished iteration 8 in 0.665s\n",
      "DEBUG:implicit:loss at iteration 8 is -145.05694580078125\n",
      "DEBUG:implicit:finished iteration 9 in 0.656s\n",
      "DEBUG:implicit:loss at iteration 9 is -2054.526123046875\n",
      "DEBUG:implicit:finished iteration 10 in 0.713s\n",
      "DEBUG:implicit:loss at iteration 10 is -2986.917724609375\n",
      "DEBUG:implicit:finished iteration 11 in 0.644s\n",
      "DEBUG:implicit:loss at iteration 11 is 1979.9520263671875\n",
      "DEBUG:implicit:finished iteration 12 in 0.664s\n",
      "DEBUG:implicit:loss at iteration 12 is -19399.908203125\n",
      "DEBUG:implicit:finished iteration 13 in 0.664s\n",
      "DEBUG:implicit:loss at iteration 13 is -3113.407958984375\n",
      "DEBUG:implicit:finished iteration 14 in 0.658s\n",
      "DEBUG:implicit:loss at iteration 14 is -87199.0859375\n"
     ]
    },
    {
     "name": "stdout",
     "output_type": "stream",
     "text": [
      "trained model 'faiss_als' in 16.85\n"
     ]
    }
   ],
   "source": [
    "!export OPENBLAS_NUM_THREADS=1\n",
    "!export MKL_NUM_THREADS=1\n",
    "\n",
    "#logging.basicConfig(filename='example.log',level=logging.DEBUG)\n",
    "#This file should be used to draw plots; but it is not closing.\n",
    "\n",
    "#k = 100\n",
    "lam = 0.1\n",
    "for k in [10,25,50,75,100,200]:\n",
    "    print(k,lam)\n",
    "    start(k, lam, '../dblp-ref/merged_train.tsv', \"../faiss_rank_{}_lam_0.1_output_debug_train.tsv\".format(k))"
   ]
  },
  {
   "cell_type": "code",
   "execution_count": 9,
   "metadata": {},
   "outputs": [
    {
     "name": "stdout",
     "output_type": "stream",
     "text": [
      "reading data from ../dblp-ref/merged_train.tsv\n"
     ]
    },
    {
     "name": "stderr",
     "output_type": "stream",
     "text": [
      "WARNING:root:Intel MKL BLAS detected. Its highly recommend to set the environment variable 'export MKL_NUM_THREADS=1' to disable its internal multithreading\n",
      "DEBUG:implicit:Calculated transpose in 0.006s\n"
     ]
    },
    {
     "name": "stdout",
     "output_type": "stream",
     "text": [
      "read data file in 1.49714994430542\n",
      "weighting matrix by bm25_weight\n",
      "training model faiss_als\n"
     ]
    },
    {
     "name": "stderr",
     "output_type": "stream",
     "text": [
      "DEBUG:implicit:initialize factors in 0.4359250068664551\n",
      "DEBUG:implicit:finished iteration 0 in 0.137s\n",
      "DEBUG:implicit:loss at iteration 0 is -0.003520719241350889\n",
      "DEBUG:implicit:finished iteration 1 in 0.151s\n",
      "DEBUG:implicit:loss at iteration 1 is -1465.019775390625\n",
      "DEBUG:implicit:finished iteration 2 in 0.186s\n",
      "DEBUG:implicit:loss at iteration 2 is nan\n",
      "DEBUG:implicit:finished iteration 3 in 0.556s\n",
      "DEBUG:implicit:loss at iteration 3 is -0.0035811392590403557\n",
      "DEBUG:implicit:finished iteration 4 in 0.180s\n",
      "DEBUG:implicit:loss at iteration 4 is -0.00358113506808877\n",
      "DEBUG:implicit:finished iteration 5 in 0.217s\n",
      "DEBUG:implicit:loss at iteration 5 is nan\n",
      "DEBUG:implicit:finished iteration 6 in 0.111s\n",
      "DEBUG:implicit:loss at iteration 6 is -0.003581071738153696\n",
      "DEBUG:implicit:finished iteration 7 in 0.203s\n",
      "DEBUG:implicit:loss at iteration 7 is nan\n",
      "DEBUG:implicit:finished iteration 8 in 0.106s\n",
      "DEBUG:implicit:loss at iteration 8 is -0.003581122262403369\n",
      "DEBUG:implicit:finished iteration 9 in 0.199s\n",
      "DEBUG:implicit:loss at iteration 9 is nan\n",
      "DEBUG:implicit:finished iteration 10 in 0.123s\n",
      "DEBUG:implicit:loss at iteration 10 is -0.0035811045672744513\n",
      "DEBUG:implicit:finished iteration 11 in 0.193s\n",
      "DEBUG:implicit:loss at iteration 11 is nan\n",
      "DEBUG:implicit:finished iteration 12 in 0.135s\n",
      "DEBUG:implicit:loss at iteration 12 is -0.003581139724701643\n",
      "DEBUG:implicit:finished iteration 13 in 0.239s\n",
      "DEBUG:implicit:loss at iteration 13 is nan\n",
      "DEBUG:implicit:finished iteration 14 in 0.111s\n",
      "DEBUG:implicit:loss at iteration 14 is -0.0035811392590403557\n"
     ]
    },
    {
     "name": "stdout",
     "output_type": "stream",
     "text": [
      "trained model 'faiss_als' in 5.61\n",
      "generated recommendations in 84.49\n"
     ]
    }
   ],
   "source": [
    "k=75\n",
    "reg=0.1\n",
    "start(k, reg, '../dblp-ref/merged_train.tsv', \"../faiss_rank_{}_lam_{}_output_merged_train.tsv\".format(k,reg))"
   ]
  },
  {
   "cell_type": "code",
   "execution_count": 16,
   "metadata": {},
   "outputs": [
    {
     "name": "stdout",
     "output_type": "stream",
     "text": [
      "reading data from ../dblp-ref/aminer-debug_train.tsv\n"
     ]
    },
    {
     "name": "stderr",
     "output_type": "stream",
     "text": [
      "WARNING:root:Intel MKL BLAS detected. Its highly recommend to set the environment variable 'export MKL_NUM_THREADS=1' to disable its internal multithreading\n"
     ]
    },
    {
     "name": "stdout",
     "output_type": "stream",
     "text": [
      "read data file in 1.5024960041046143\n",
      "weighting matrix by bm25_weight\n",
      "training model faiss_als\n"
     ]
    },
    {
     "name": "stderr",
     "output_type": "stream",
     "text": [
      "DEBUG:implicit:Calculated transpose in 0.012s\n",
      "DEBUG:implicit:initialize factors in 0.35889697074890137\n",
      "DEBUG:implicit:finished iteration 0 in 0.107s\n",
      "DEBUG:implicit:loss at iteration 0 is 0.0027605979703366756\n",
      "DEBUG:implicit:finished iteration 1 in 0.118s\n",
      "DEBUG:implicit:loss at iteration 1 is 29.408891677856445\n",
      "DEBUG:implicit:finished iteration 2 in 0.118s\n",
      "DEBUG:implicit:loss at iteration 2 is 22.787931442260742\n",
      "DEBUG:implicit:finished iteration 3 in 0.118s\n",
      "DEBUG:implicit:loss at iteration 3 is 22.739137649536133\n",
      "DEBUG:implicit:finished iteration 4 in 0.117s\n",
      "DEBUG:implicit:loss at iteration 4 is 0.9866578578948975\n",
      "DEBUG:implicit:finished iteration 5 in 0.115s\n",
      "DEBUG:implicit:loss at iteration 5 is 0.031559694558382034\n",
      "DEBUG:implicit:finished iteration 6 in 0.123s\n",
      "DEBUG:implicit:loss at iteration 6 is 0.029237857088446617\n",
      "DEBUG:implicit:finished iteration 7 in 0.119s\n",
      "DEBUG:implicit:loss at iteration 7 is 0.019538160413503647\n",
      "DEBUG:implicit:finished iteration 8 in 0.119s\n",
      "DEBUG:implicit:loss at iteration 8 is 0.014533155597746372\n",
      "DEBUG:implicit:finished iteration 9 in 0.117s\n",
      "DEBUG:implicit:loss at iteration 9 is 0.012720734812319279\n",
      "DEBUG:implicit:finished iteration 10 in 0.120s\n",
      "DEBUG:implicit:loss at iteration 10 is 0.012913431972265244\n",
      "DEBUG:implicit:finished iteration 11 in 0.118s\n",
      "DEBUG:implicit:loss at iteration 11 is 0.01140675414353609\n",
      "DEBUG:implicit:finished iteration 12 in 0.119s\n",
      "DEBUG:implicit:loss at iteration 12 is 0.010911509394645691\n",
      "DEBUG:implicit:finished iteration 13 in 0.119s\n",
      "DEBUG:implicit:loss at iteration 13 is 0.007487849798053503\n",
      "DEBUG:implicit:finished iteration 14 in 0.117s\n",
      "DEBUG:implicit:loss at iteration 14 is 0.008087079040706158\n"
     ]
    },
    {
     "name": "stdout",
     "output_type": "stream",
     "text": [
      "trained model 'faiss_als' in 4.59\n"
     ]
    },
    {
     "ename": "KeyboardInterrupt",
     "evalue": "",
     "output_type": "error",
     "traceback": [
      "\u001b[0;31m---------------------------------------------------------------------------\u001b[0m",
      "\u001b[0;31mKeyboardInterrupt\u001b[0m                         Traceback (most recent call last)",
      "\u001b[0;32m<ipython-input-16-cd933cff133f>\u001b[0m in \u001b[0;36m<module>\u001b[0;34m()\u001b[0m\n\u001b[1;32m      2\u001b[0m \u001b[0mreg\u001b[0m\u001b[0;34m=\u001b[0m\u001b[0;36m0.01\u001b[0m\u001b[0;34m\u001b[0m\u001b[0m\n\u001b[1;32m      3\u001b[0m \u001b[0mmodel\u001b[0m\u001b[0;34m=\u001b[0m\u001b[0;34m\"faiss_als\"\u001b[0m\u001b[0;34m\u001b[0m\u001b[0m\n\u001b[0;32m----> 4\u001b[0;31m \u001b[0mstart\u001b[0m\u001b[0;34m(\u001b[0m\u001b[0mk\u001b[0m\u001b[0;34m,\u001b[0m \u001b[0mreg\u001b[0m\u001b[0;34m,\u001b[0m \u001b[0;34m'../dblp-ref/aminer-debug_train.tsv'\u001b[0m\u001b[0;34m,\u001b[0m \u001b[0;34m\"../{}_rank_{}_lam_{}_output_merged_train.tsv\"\u001b[0m\u001b[0;34m.\u001b[0m\u001b[0mformat\u001b[0m\u001b[0;34m(\u001b[0m\u001b[0mmodel\u001b[0m\u001b[0;34m,\u001b[0m\u001b[0mk\u001b[0m\u001b[0;34m,\u001b[0m\u001b[0mreg\u001b[0m\u001b[0;34m)\u001b[0m\u001b[0;34m,\u001b[0m \u001b[0mmodel\u001b[0m\u001b[0;34m=\u001b[0m\u001b[0mmodel\u001b[0m\u001b[0;34m)\u001b[0m\u001b[0;34m\u001b[0m\u001b[0m\n\u001b[0m",
      "\u001b[0;32m<ipython-input-8-85c3bbab8dcb>\u001b[0m in \u001b[0;36mstart\u001b[0;34m(k, lam, inputfile, outputfile, model)\u001b[0m\n\u001b[1;32m    159\u001b[0m \u001b[0;34m\u001b[0m\u001b[0m\n\u001b[1;32m    160\u001b[0m     \u001b[0;31m#if recommend:\u001b[0m\u001b[0;34m\u001b[0m\u001b[0;34m\u001b[0m\u001b[0m\n\u001b[0;32m--> 161\u001b[0;31m     \u001b[0mcalculate_recommendations\u001b[0m\u001b[0;34m(\u001b[0m\u001b[0mk\u001b[0m\u001b[0;34m,\u001b[0m \u001b[0mlam\u001b[0m\u001b[0;34m,\u001b[0m \u001b[0minputfile\u001b[0m\u001b[0;34m,\u001b[0m \u001b[0moutputfile\u001b[0m\u001b[0;34m,\u001b[0m \u001b[0mmodel_name\u001b[0m\u001b[0;34m=\u001b[0m\u001b[0mmodel\u001b[0m\u001b[0;34m)\u001b[0m\u001b[0;34m\u001b[0m\u001b[0m\n\u001b[0m\u001b[1;32m    162\u001b[0m     \u001b[0;31m#else:\u001b[0m\u001b[0;34m\u001b[0m\u001b[0;34m\u001b[0m\u001b[0m\n\u001b[1;32m    163\u001b[0m         \u001b[0;31m#calculate_similar_artists(inputfile, outputfile, model_name=model)\u001b[0m\u001b[0;34m\u001b[0m\u001b[0;34m\u001b[0m\u001b[0m\n",
      "\u001b[0;32m<ipython-input-8-85c3bbab8dcb>\u001b[0m in \u001b[0;36mcalculate_recommendations\u001b[0;34m(k, lam, input_filename, output_filename, model_name)\u001b[0m\n\u001b[1;32m    151\u001b[0m     \u001b[0;32mwith\u001b[0m \u001b[0mcodecs\u001b[0m\u001b[0;34m.\u001b[0m\u001b[0mopen\u001b[0m\u001b[0;34m(\u001b[0m\u001b[0moutput_filename\u001b[0m\u001b[0;34m,\u001b[0m \u001b[0;34m\"w\"\u001b[0m\u001b[0;34m,\u001b[0m \u001b[0;34m\"utf8\"\u001b[0m\u001b[0;34m)\u001b[0m \u001b[0;32mas\u001b[0m \u001b[0mo\u001b[0m\u001b[0;34m:\u001b[0m\u001b[0;34m\u001b[0m\u001b[0m\n\u001b[1;32m    152\u001b[0m         \u001b[0;32mfor\u001b[0m \u001b[0muserid\u001b[0m\u001b[0;34m,\u001b[0m \u001b[0musername\u001b[0m \u001b[0;32min\u001b[0m \u001b[0menumerate\u001b[0m\u001b[0;34m(\u001b[0m\u001b[0mdf\u001b[0m\u001b[0;34m[\u001b[0m\u001b[0;34m'user'\u001b[0m\u001b[0;34m]\u001b[0m\u001b[0;34m.\u001b[0m\u001b[0mcat\u001b[0m\u001b[0;34m.\u001b[0m\u001b[0mcategories\u001b[0m\u001b[0;34m)\u001b[0m\u001b[0;34m:\u001b[0m\u001b[0;34m\u001b[0m\u001b[0m\n\u001b[0;32m--> 153\u001b[0;31m             \u001b[0;32mfor\u001b[0m \u001b[0martistid\u001b[0m\u001b[0;34m,\u001b[0m \u001b[0mscore\u001b[0m \u001b[0;32min\u001b[0m \u001b[0mmodel\u001b[0m\u001b[0;34m.\u001b[0m\u001b[0mrecommend\u001b[0m\u001b[0;34m(\u001b[0m\u001b[0muserid\u001b[0m\u001b[0;34m,\u001b[0m \u001b[0muser_cites\u001b[0m\u001b[0;34m)\u001b[0m\u001b[0;34m:\u001b[0m\u001b[0;34m\u001b[0m\u001b[0m\n\u001b[0m\u001b[1;32m    154\u001b[0m                 \u001b[0mo\u001b[0m\u001b[0;34m.\u001b[0m\u001b[0mwrite\u001b[0m\u001b[0;34m(\u001b[0m\u001b[0;34m\"%s\\t%s\\t%s\\n\"\u001b[0m \u001b[0;34m%\u001b[0m \u001b[0;34m(\u001b[0m\u001b[0musername\u001b[0m\u001b[0;34m,\u001b[0m \u001b[0martists\u001b[0m\u001b[0;34m[\u001b[0m\u001b[0martistid\u001b[0m\u001b[0;34m]\u001b[0m\u001b[0;34m,\u001b[0m \u001b[0mscore\u001b[0m\u001b[0;34m)\u001b[0m\u001b[0;34m)\u001b[0m\u001b[0;34m\u001b[0m\u001b[0m\n\u001b[1;32m    155\u001b[0m     \u001b[0mprint\u001b[0m\u001b[0;34m(\u001b[0m\u001b[0;34m\"generated recommendations in %0.2f\"\u001b[0m\u001b[0;34m%\u001b[0m\u001b[0;34m(\u001b[0m  \u001b[0mtime\u001b[0m\u001b[0;34m.\u001b[0m\u001b[0mtime\u001b[0m\u001b[0;34m(\u001b[0m\u001b[0;34m)\u001b[0m \u001b[0;34m-\u001b[0m \u001b[0mstart\u001b[0m\u001b[0;34m)\u001b[0m\u001b[0;34m)\u001b[0m\u001b[0;34m\u001b[0m\u001b[0m\n",
      "\u001b[0;32m~/anaconda3/lib/python3.6/site-packages/implicit/approximate_als.py\u001b[0m in \u001b[0;36mrecommend\u001b[0;34m(self, userid, user_items, N, filter_items, recalculate_user)\u001b[0m\n\u001b[1;32m    379\u001b[0m         \u001b[0;31m# and results back to single vectors\u001b[0m\u001b[0;34m\u001b[0m\u001b[0;34m\u001b[0m\u001b[0m\n\u001b[1;32m    380\u001b[0m         \u001b[0mquery\u001b[0m \u001b[0;34m=\u001b[0m \u001b[0muser\u001b[0m\u001b[0;34m.\u001b[0m\u001b[0mreshape\u001b[0m\u001b[0;34m(\u001b[0m\u001b[0;36m1\u001b[0m\u001b[0;34m,\u001b[0m \u001b[0;34m-\u001b[0m\u001b[0;36m1\u001b[0m\u001b[0;34m)\u001b[0m\u001b[0;34m.\u001b[0m\u001b[0mastype\u001b[0m\u001b[0;34m(\u001b[0m\u001b[0;34m'float32'\u001b[0m\u001b[0;34m)\u001b[0m\u001b[0;34m\u001b[0m\u001b[0m\n\u001b[0;32m--> 381\u001b[0;31m         \u001b[0;34m(\u001b[0m\u001b[0mdist\u001b[0m\u001b[0;34m,\u001b[0m\u001b[0;34m)\u001b[0m\u001b[0;34m,\u001b[0m \u001b[0;34m(\u001b[0m\u001b[0mids\u001b[0m\u001b[0;34m,\u001b[0m\u001b[0;34m)\u001b[0m \u001b[0;34m=\u001b[0m \u001b[0mself\u001b[0m\u001b[0;34m.\u001b[0m\u001b[0mrecommend_index\u001b[0m\u001b[0;34m.\u001b[0m\u001b[0msearch\u001b[0m\u001b[0;34m(\u001b[0m\u001b[0mquery\u001b[0m\u001b[0;34m,\u001b[0m \u001b[0mcount\u001b[0m\u001b[0;34m)\u001b[0m\u001b[0;34m\u001b[0m\u001b[0m\n\u001b[0m\u001b[1;32m    382\u001b[0m \u001b[0;34m\u001b[0m\u001b[0m\n\u001b[1;32m    383\u001b[0m         \u001b[0;31m# convert the distances from euclidean to cosine distance,\u001b[0m\u001b[0;34m\u001b[0m\u001b[0;34m\u001b[0m\u001b[0m\n",
      "\u001b[0;32m~/anaconda3/lib/python3.6/site-packages/faiss/__init__.py\u001b[0m in \u001b[0;36mreplacement_search\u001b[0;34m(self, x, k)\u001b[0m\n\u001b[1;32m    119\u001b[0m         self.search_c(n, swig_ptr(x),\n\u001b[1;32m    120\u001b[0m                       \u001b[0mk\u001b[0m\u001b[0;34m,\u001b[0m \u001b[0mswig_ptr\u001b[0m\u001b[0;34m(\u001b[0m\u001b[0mdistances\u001b[0m\u001b[0;34m)\u001b[0m\u001b[0;34m,\u001b[0m\u001b[0;34m\u001b[0m\u001b[0m\n\u001b[0;32m--> 121\u001b[0;31m                       swig_ptr(labels))\n\u001b[0m\u001b[1;32m    122\u001b[0m         \u001b[0;32mreturn\u001b[0m \u001b[0mdistances\u001b[0m\u001b[0;34m,\u001b[0m \u001b[0mlabels\u001b[0m\u001b[0;34m\u001b[0m\u001b[0m\n\u001b[1;32m    123\u001b[0m \u001b[0;34m\u001b[0m\u001b[0m\n",
      "\u001b[0;32m~/anaconda3/lib/python3.6/site-packages/faiss/swigfaiss_gpu.py\u001b[0m in \u001b[0;36msearch\u001b[0;34m(self, n, x, k, distances, labels)\u001b[0m\n\u001b[1;32m   2911\u001b[0m \u001b[0;34m\u001b[0m\u001b[0m\n\u001b[1;32m   2912\u001b[0m     \u001b[0;32mdef\u001b[0m \u001b[0msearch\u001b[0m\u001b[0;34m(\u001b[0m\u001b[0mself\u001b[0m\u001b[0;34m,\u001b[0m \u001b[0mn\u001b[0m\u001b[0;34m,\u001b[0m \u001b[0mx\u001b[0m\u001b[0;34m,\u001b[0m \u001b[0mk\u001b[0m\u001b[0;34m,\u001b[0m \u001b[0mdistances\u001b[0m\u001b[0;34m,\u001b[0m \u001b[0mlabels\u001b[0m\u001b[0;34m)\u001b[0m\u001b[0;34m:\u001b[0m\u001b[0;34m\u001b[0m\u001b[0m\n\u001b[0;32m-> 2913\u001b[0;31m         \u001b[0;32mreturn\u001b[0m \u001b[0m_swigfaiss_gpu\u001b[0m\u001b[0;34m.\u001b[0m\u001b[0mIndexIVF_search\u001b[0m\u001b[0;34m(\u001b[0m\u001b[0mself\u001b[0m\u001b[0;34m,\u001b[0m \u001b[0mn\u001b[0m\u001b[0;34m,\u001b[0m \u001b[0mx\u001b[0m\u001b[0;34m,\u001b[0m \u001b[0mk\u001b[0m\u001b[0;34m,\u001b[0m \u001b[0mdistances\u001b[0m\u001b[0;34m,\u001b[0m \u001b[0mlabels\u001b[0m\u001b[0;34m)\u001b[0m\u001b[0;34m\u001b[0m\u001b[0m\n\u001b[0m\u001b[1;32m   2914\u001b[0m \u001b[0;34m\u001b[0m\u001b[0m\n\u001b[1;32m   2915\u001b[0m     \u001b[0;32mdef\u001b[0m \u001b[0mreconstruct\u001b[0m\u001b[0;34m(\u001b[0m\u001b[0mself\u001b[0m\u001b[0;34m,\u001b[0m \u001b[0mkey\u001b[0m\u001b[0;34m,\u001b[0m \u001b[0mrecons\u001b[0m\u001b[0;34m)\u001b[0m\u001b[0;34m:\u001b[0m\u001b[0;34m\u001b[0m\u001b[0m\n",
      "\u001b[0;31mKeyboardInterrupt\u001b[0m: "
     ]
    }
   ],
   "source": [
    "k=68\n",
    "reg=0.01\n",
    "model=\"faiss_als\"\n",
    "start(k, reg, '../dblp-ref/aminer-debug_train.tsv', \"../{}_rank_{}_lam_{}_output_merged_train.tsv\".format(model,k,reg), model=model)"
   ]
  },
  {
   "cell_type": "code",
   "execution_count": 18,
   "metadata": {},
   "outputs": [
    {
     "name": "stdout",
     "output_type": "stream",
     "text": [
      "reading data from ../dblp-ref/test.tsv\n"
     ]
    },
    {
     "name": "stderr",
     "output_type": "stream",
     "text": [
      "WARNING:root:Intel MKL BLAS detected. Its highly recommend to set the environment variable 'export MKL_NUM_THREADS=1' to disable its internal multithreading\n",
      "DEBUG:implicit:Calculated transpose in 0.003s\n"
     ]
    },
    {
     "name": "stdout",
     "output_type": "stream",
     "text": [
      "read data file in 0.5276312828063965\n",
      "weighting matrix by bm25_weight\n",
      "training model faiss_als\n"
     ]
    },
    {
     "name": "stderr",
     "output_type": "stream",
     "text": [
      "DEBUG:implicit:initialize factors in 0.12929058074951172\n",
      "DEBUG:implicit:finished iteration 0 in 0.042s\n",
      "DEBUG:implicit:loss at iteration 0 is -0.0031484595965594053\n",
      "DEBUG:implicit:finished iteration 1 in 0.049s\n",
      "DEBUG:implicit:loss at iteration 1 is -171920.921875\n",
      "DEBUG:implicit:finished iteration 2 in 0.053s\n",
      "DEBUG:implicit:loss at iteration 2 is -1139844.875\n",
      "DEBUG:implicit:finished iteration 3 in 0.051s\n",
      "DEBUG:implicit:loss at iteration 3 is -11634379.0\n",
      "DEBUG:implicit:finished iteration 4 in 0.063s\n",
      "DEBUG:implicit:loss at iteration 4 is -6728624640.0\n",
      "DEBUG:implicit:finished iteration 5 in 0.049s\n",
      "DEBUG:implicit:loss at iteration 5 is nan\n",
      "DEBUG:implicit:finished iteration 6 in 0.157s\n",
      "DEBUG:implicit:loss at iteration 6 is -0.0032769700046628714\n",
      "DEBUG:implicit:finished iteration 7 in 0.034s\n",
      "DEBUG:implicit:loss at iteration 7 is -0.003288082778453827\n",
      "DEBUG:implicit:finished iteration 8 in 0.104s\n",
      "DEBUG:implicit:loss at iteration 8 is nan\n",
      "DEBUG:implicit:finished iteration 9 in 0.025s\n",
      "DEBUG:implicit:loss at iteration 9 is -0.003276970237493515\n",
      "DEBUG:implicit:finished iteration 10 in 0.035s\n",
      "DEBUG:implicit:loss at iteration 10 is nan\n",
      "DEBUG:implicit:finished iteration 11 in 0.154s\n",
      "DEBUG:implicit:loss at iteration 11 is -0.0032769697718322277\n",
      "DEBUG:implicit:finished iteration 12 in 0.033s\n",
      "DEBUG:implicit:loss at iteration 12 is nan\n",
      "DEBUG:implicit:finished iteration 13 in 0.164s\n",
      "DEBUG:implicit:loss at iteration 13 is -0.0032769697718322277\n",
      "DEBUG:implicit:finished iteration 14 in 0.033s\n",
      "DEBUG:implicit:loss at iteration 14 is nan\n"
     ]
    },
    {
     "name": "stdout",
     "output_type": "stream",
     "text": [
      "trained model 'faiss_als' in 2.52\n"
     ]
    },
    {
     "ename": "KeyError",
     "evalue": "-1",
     "output_type": "error",
     "traceback": [
      "\u001b[0;31m---------------------------------------------------------------------------\u001b[0m",
      "\u001b[0;31mKeyError\u001b[0m                                  Traceback (most recent call last)",
      "\u001b[0;32m<ipython-input-18-7304f1faeccc>\u001b[0m in \u001b[0;36m<module>\u001b[0;34m()\u001b[0m\n\u001b[1;32m      2\u001b[0m \u001b[0mreg\u001b[0m\u001b[0;34m=\u001b[0m\u001b[0;36m0.01\u001b[0m\u001b[0;34m\u001b[0m\u001b[0m\n\u001b[1;32m      3\u001b[0m \u001b[0mmodel\u001b[0m\u001b[0;34m=\u001b[0m\u001b[0;34m\"faiss_als\"\u001b[0m\u001b[0;34m\u001b[0m\u001b[0m\n\u001b[0;32m----> 4\u001b[0;31m \u001b[0mstart\u001b[0m\u001b[0;34m(\u001b[0m\u001b[0mk\u001b[0m\u001b[0;34m,\u001b[0m \u001b[0mreg\u001b[0m\u001b[0;34m,\u001b[0m \u001b[0;34m'../dblp-ref/test.tsv'\u001b[0m\u001b[0;34m,\u001b[0m \u001b[0;34m\"../{}_rank_{}_lam_{}_output_merged_train.tsv\"\u001b[0m\u001b[0;34m.\u001b[0m\u001b[0mformat\u001b[0m\u001b[0;34m(\u001b[0m\u001b[0mmodel\u001b[0m\u001b[0;34m,\u001b[0m\u001b[0mk\u001b[0m\u001b[0;34m,\u001b[0m\u001b[0mreg\u001b[0m\u001b[0;34m)\u001b[0m\u001b[0;34m,\u001b[0m \u001b[0mmodel\u001b[0m\u001b[0;34m=\u001b[0m\u001b[0mmodel\u001b[0m\u001b[0;34m)\u001b[0m\u001b[0;34m\u001b[0m\u001b[0m\n\u001b[0m",
      "\u001b[0;32m<ipython-input-8-85c3bbab8dcb>\u001b[0m in \u001b[0;36mstart\u001b[0;34m(k, lam, inputfile, outputfile, model)\u001b[0m\n\u001b[1;32m    159\u001b[0m \u001b[0;34m\u001b[0m\u001b[0m\n\u001b[1;32m    160\u001b[0m     \u001b[0;31m#if recommend:\u001b[0m\u001b[0;34m\u001b[0m\u001b[0;34m\u001b[0m\u001b[0m\n\u001b[0;32m--> 161\u001b[0;31m     \u001b[0mcalculate_recommendations\u001b[0m\u001b[0;34m(\u001b[0m\u001b[0mk\u001b[0m\u001b[0;34m,\u001b[0m \u001b[0mlam\u001b[0m\u001b[0;34m,\u001b[0m \u001b[0minputfile\u001b[0m\u001b[0;34m,\u001b[0m \u001b[0moutputfile\u001b[0m\u001b[0;34m,\u001b[0m \u001b[0mmodel_name\u001b[0m\u001b[0;34m=\u001b[0m\u001b[0mmodel\u001b[0m\u001b[0;34m)\u001b[0m\u001b[0;34m\u001b[0m\u001b[0m\n\u001b[0m\u001b[1;32m    162\u001b[0m     \u001b[0;31m#else:\u001b[0m\u001b[0;34m\u001b[0m\u001b[0;34m\u001b[0m\u001b[0m\n\u001b[1;32m    163\u001b[0m         \u001b[0;31m#calculate_similar_artists(inputfile, outputfile, model_name=model)\u001b[0m\u001b[0;34m\u001b[0m\u001b[0;34m\u001b[0m\u001b[0m\n",
      "\u001b[0;32m<ipython-input-8-85c3bbab8dcb>\u001b[0m in \u001b[0;36mcalculate_recommendations\u001b[0;34m(k, lam, input_filename, output_filename, model_name)\u001b[0m\n\u001b[1;32m    152\u001b[0m         \u001b[0;32mfor\u001b[0m \u001b[0muserid\u001b[0m\u001b[0;34m,\u001b[0m \u001b[0musername\u001b[0m \u001b[0;32min\u001b[0m \u001b[0menumerate\u001b[0m\u001b[0;34m(\u001b[0m\u001b[0mdf\u001b[0m\u001b[0;34m[\u001b[0m\u001b[0;34m'user'\u001b[0m\u001b[0;34m]\u001b[0m\u001b[0;34m.\u001b[0m\u001b[0mcat\u001b[0m\u001b[0;34m.\u001b[0m\u001b[0mcategories\u001b[0m\u001b[0;34m)\u001b[0m\u001b[0;34m:\u001b[0m\u001b[0;34m\u001b[0m\u001b[0m\n\u001b[1;32m    153\u001b[0m             \u001b[0;32mfor\u001b[0m \u001b[0martistid\u001b[0m\u001b[0;34m,\u001b[0m \u001b[0mscore\u001b[0m \u001b[0;32min\u001b[0m \u001b[0mmodel\u001b[0m\u001b[0;34m.\u001b[0m\u001b[0mrecommend\u001b[0m\u001b[0;34m(\u001b[0m\u001b[0muserid\u001b[0m\u001b[0;34m,\u001b[0m \u001b[0muser_cites\u001b[0m\u001b[0;34m)\u001b[0m\u001b[0;34m:\u001b[0m\u001b[0;34m\u001b[0m\u001b[0m\n\u001b[0;32m--> 154\u001b[0;31m                 \u001b[0mo\u001b[0m\u001b[0;34m.\u001b[0m\u001b[0mwrite\u001b[0m\u001b[0;34m(\u001b[0m\u001b[0;34m\"%s\\t%s\\t%s\\n\"\u001b[0m \u001b[0;34m%\u001b[0m \u001b[0;34m(\u001b[0m\u001b[0musername\u001b[0m\u001b[0;34m,\u001b[0m \u001b[0martists\u001b[0m\u001b[0;34m[\u001b[0m\u001b[0martistid\u001b[0m\u001b[0;34m]\u001b[0m\u001b[0;34m,\u001b[0m \u001b[0mscore\u001b[0m\u001b[0;34m)\u001b[0m\u001b[0;34m)\u001b[0m\u001b[0;34m\u001b[0m\u001b[0m\n\u001b[0m\u001b[1;32m    155\u001b[0m     \u001b[0mprint\u001b[0m\u001b[0;34m(\u001b[0m\u001b[0;34m\"generated recommendations in %0.2f\"\u001b[0m\u001b[0;34m%\u001b[0m\u001b[0;34m(\u001b[0m  \u001b[0mtime\u001b[0m\u001b[0;34m.\u001b[0m\u001b[0mtime\u001b[0m\u001b[0;34m(\u001b[0m\u001b[0;34m)\u001b[0m \u001b[0;34m-\u001b[0m \u001b[0mstart\u001b[0m\u001b[0;34m)\u001b[0m\u001b[0;34m)\u001b[0m\u001b[0;34m\u001b[0m\u001b[0m\n\u001b[1;32m    156\u001b[0m \u001b[0;34m\u001b[0m\u001b[0m\n",
      "\u001b[0;31mKeyError\u001b[0m: -1"
     ]
    }
   ],
   "source": [
    "k=68\n",
    "reg=0.01\n",
    "model=\"faiss_als\"\n",
    "start(k, reg, '../dblp-ref/test.tsv', \"../{}_rank_{}_lam_{}_output_merged_train.tsv\".format(model,k,reg), model=model)"
   ]
  },
  {
   "cell_type": "code",
   "execution_count": null,
   "metadata": {
    "collapsed": true
   },
   "outputs": [],
   "source": []
  },
  {
   "cell_type": "code",
   "execution_count": null,
   "metadata": {
    "collapsed": true
   },
   "outputs": [],
   "source": []
  },
  {
   "cell_type": "markdown",
   "metadata": {},
   "source": [
    "# Result"
   ]
  },
  {
   "cell_type": "code",
   "execution_count": null,
   "metadata": {
    "collapsed": true
   },
   "outputs": [],
   "source": []
  }
 ],
 "metadata": {
  "accelerator": "GPU",
  "colab": {
   "collapsed_sections": [],
   "default_view": {},
   "name": "implicit-gpu",
   "provenance": [
    {
     "file_id": "1pKI6tFJYzzEBmVLhgoX68hPBIq4ya_1I",
     "timestamp": 1522520520508
    },
    {
     "file_id": "1SRTLWrrMWplNQFy9oHIhM7XJJFtv9xCP",
     "timestamp": 1522338031582
    }
   ],
   "version": "0.3.2",
   "views": {}
  },
  "kernelspec": {
   "display_name": "Python 3",
   "language": "python",
   "name": "python3"
  },
  "language_info": {
   "codemirror_mode": {
    "name": "ipython",
    "version": 3
   },
   "file_extension": ".py",
   "mimetype": "text/x-python",
   "name": "python",
   "nbconvert_exporter": "python",
   "pygments_lexer": "ipython3",
   "version": "3.6.3"
  }
 },
 "nbformat": 4,
 "nbformat_minor": 1
}
