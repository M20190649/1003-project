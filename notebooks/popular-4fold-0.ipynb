{
 "cells": [
  {
   "cell_type": "code",
   "execution_count": 3,
   "metadata": {},
   "outputs": [],
   "source": [
    "from collections import defaultdict\n",
    "import pandas\n",
    "trainDict = defaultdict(list)\n",
    "trainDF = pandas.read_table('../dblp-ref/4fold/4fold_0_train.tsv',\n",
    "                             usecols=[0, 1, 2],\n",
    "                             names=['user', 'ref', 'cites'],\n",
    "                             na_filter=False)\n",
    "for index, row in trainDF.iterrows():\n",
    "    trainDict[row['user']].append(row['ref'])"
   ]
  },
  {
   "cell_type": "code",
   "execution_count": 4,
   "metadata": {
    "collapsed": true
   },
   "outputs": [],
   "source": [
    "popularDict = defaultdict(int)\n",
    "for index, row in trainDF.iterrows():\n",
    "    popularDict[row['ref']]+=1"
   ]
  },
  {
   "cell_type": "code",
   "execution_count": 7,
   "metadata": {},
   "outputs": [],
   "source": [
    "import operator\n",
    "sorted_popular = sorted(popularDict.items(), key=operator.itemgetter(1))\n",
    "sorted_popular.reverse()"
   ]
  },
  {
   "cell_type": "code",
   "execution_count": 9,
   "metadata": {},
   "outputs": [
    {
     "data": {
      "text/plain": [
       "[(2458466, 336),\n",
       " (566845, 301),\n",
       " (2358174, 242),\n",
       " (2716671, 239),\n",
       " (2332760, 229),\n",
       " (337046, 208),\n",
       " (1789325, 200),\n",
       " (2442067, 195),\n",
       " (2570279, 175),\n",
       " (2381049, 172)]"
      ]
     },
     "execution_count": 9,
     "metadata": {},
     "output_type": "execute_result"
    }
   ],
   "source": [
    "sorted_popular[:10]"
   ]
  },
  {
   "cell_type": "code",
   "execution_count": 10,
   "metadata": {
    "collapsed": true
   },
   "outputs": [],
   "source": [
    "testDF = pandas.read_table('../dblp-ref/4fold/4fold_test.tsv',\n",
    "                             usecols=[0, 1, 2],\n",
    "                             names=['user', 'ref', 'cites'],\n",
    "                             na_filter=False)\n",
    "testDict = defaultdict(list)\n",
    "for index, row in testDF.iterrows():\n",
    "    testDict[row['user']].append(row['ref'])"
   ]
  },
  {
   "cell_type": "code",
   "execution_count": 11,
   "metadata": {
    "collapsed": true
   },
   "outputs": [],
   "source": [
    "validDF = pandas.read_table('../dblp-ref/4fold/4fold_0_val.tsv',\n",
    "                             usecols=[0, 1, 2],\n",
    "                             names=['user', 'ref', 'cites'],\n",
    "                             na_filter=False)\n",
    "validDict = defaultdict(list)\n",
    "for index, row in validDF.iterrows():\n",
    "    validDict[row['user']].append(row['ref'])"
   ]
  },
  {
   "cell_type": "code",
   "execution_count": 53,
   "metadata": {},
   "outputs": [],
   "source": [
    "import numpy as np\n",
    "precisions_val = []\n",
    "recalls_val = []\n",
    "f1_val = []\n",
    "klist = list(range(1,51))\n",
    "for k in klist:\n",
    "    \n",
    "    precisions, recalls = [], []\n",
    "    \n",
    "    for key, value in validDict.items():\n",
    "        n_rel = len(value)\n",
    "        train_for_key = trainDict[key]\n",
    "        save = [] \n",
    "        for ref, num_cites in sorted_popular[:100]:\n",
    "            if not ref in train_for_key:\n",
    "                save.append(ref)\n",
    "        recommendations = save[:k]\n",
    "        n_rec_k = len(recommendations)\n",
    "        n_rel_and_rec_k = 0\n",
    "        for each in value:\n",
    "            if each in recommendations:\n",
    "                n_rel_and_rec_k += 1\n",
    "        precisions.append( n_rel_and_rec_k / n_rec_k if n_rec_k != 0 else 0 )\n",
    "        recalls.append( n_rel_and_rec_k / n_rel if n_rel != 0 else 0 )\n",
    "    precision=np.sum(precisions)/len(precisions)\n",
    "    recall=np.sum(recalls)/len(recalls)\n",
    "    precisions_val.append(precision) \n",
    "    recalls_val.append(recall) \n",
    "    f1_val.append(2*(precision*recall)/(precision+recall)) "
   ]
  },
  {
   "cell_type": "code",
   "execution_count": 55,
   "metadata": {},
   "outputs": [],
   "source": [
    "precisions_test = []\n",
    "recalls_test = []\n",
    "f1_test = []\n",
    "for k in klist:\n",
    "    \n",
    "    precisions, recalls = [], []\n",
    "    \n",
    "    for key, value in testDict.items():\n",
    "        n_rel = len(value)\n",
    "        train_for_key = trainDict[key]\n",
    "        save = [] \n",
    "        for ref, num_cites in sorted_popular[:50]:\n",
    "            if not ref in train_for_key:\n",
    "                save.append(ref)\n",
    "        recommendations = save[:k]\n",
    "        n_rec_k = len(recommendations)\n",
    "        n_rel_and_rec_k = 0\n",
    "        for each in value:\n",
    "            if each in recommendations:\n",
    "                n_rel_and_rec_k += 1\n",
    "        precisions.append( n_rel_and_rec_k / n_rec_k if n_rec_k != 0 else 0 )\n",
    "        recalls.append( n_rel_and_rec_k / n_rel if n_rel != 0 else 0 )\n",
    "    precision=np.sum(precisions)/len(precisions)\n",
    "    recall=np.sum(recalls)/len(recalls)\n",
    "    precisions_test.append(precision) \n",
    "    recalls_test.append(recall) \n",
    "    f1_test.append(2*(precision*recall)/(precision+recall)) "
   ]
  },
  {
   "cell_type": "code",
   "execution_count": 56,
   "metadata": {},
   "outputs": [
    {
     "data": {
      "image/png": "[encoded data removed]",
      "text/plain": [
       "<matplotlib.figure.Figure at 0x7fbea8cf1400>"
      ]
     },
     "metadata": {},
     "output_type": "display_data"
    }
   ],
   "source": [
    "plt.plot(klist, f1_val, label=\"validation\")\n",
    "plt.plot(klist, f1_test, label=\"test\")\n",
    "plt.legend()\n",
    "plt.show()"
   ]
  },
  {
   "cell_type": "code",
   "execution_count": 57,
   "metadata": {},
   "outputs": [
    {
     "data": {
      "image/png": "[encoded data removed]",
      "text/plain": [
       "<matplotlib.figure.Figure at 0x7fbea8c553c8>"
      ]
     },
     "metadata": {},
     "output_type": "display_data"
    }
   ],
   "source": [
    "plt.plot(precisions_val, recalls_val, label=\"validation\")\n",
    "plt.plot(precisions_test, recalls_test, label=\"test\")\n",
    "plt.legend()\n",
    "plt.show()"
   ]
  },
  {
   "cell_type": "code",
   "execution_count": 58,
   "metadata": {},
   "outputs": [
    {
     "data": {
      "text/plain": [
       "[0.0036005594065489505,\n",
       " 0.0037151926186627104,\n",
       " 0.00455843828834764,\n",
       " 0.005112627547705582,\n",
       " 0.00518736076496459,\n",
       " 0.00524348972917869,\n",
       " 0.00516472039969695,\n",
       " 0.005287945529033249,\n",
       " 0.00508743583461132,\n",
       " 0.00484530373062533,\n",
       " 0.004694041557492536,\n",
       " 0.004504710106930419,\n",
       " 0.004481652827933891,\n",
       " 0.004465394535236576,\n",
       " 0.004331713192080622,\n",
       " 0.004228249285593427,\n",
       " 0.00425182947937773,\n",
       " 0.004145278173012694,\n",
       " 0.004048815965935081,\n",
       " 0.004072620407927371,\n",
       " 0.004016266464344131,\n",
       " 0.0040698127822894805,\n",
       " 0.004020593775521417,\n",
       " 0.0039314683571663265,\n",
       " 0.0038324693846862926,\n",
       " 0.0037873290570068943,\n",
       " 0.003730528666785939,\n",
       " 0.0036729105701162213,\n",
       " 0.0036149480252858765,\n",
       " 0.0036134713775280354,\n",
       " 0.0035704396423711,\n",
       " 0.0035568614347926187,\n",
       " 0.0035080967253037706,\n",
       " 0.0034614481492489806,\n",
       " 0.003429115993095291,\n",
       " 0.0033828116515326506,\n",
       " 0.0033419988912472,\n",
       " 0.00329315292527629,\n",
       " 0.003268470155454541,\n",
       " 0.0032616516388301944,\n",
       " 0.0032102805777028975,\n",
       " 0.003206707428600821,\n",
       " 0.0031643926150968574,\n",
       " 0.003140802570686171,\n",
       " 0.003116623617447729,\n",
       " 0.0030970905423431663,\n",
       " 0.003064486902445593,\n",
       " 0.0030224092323653832,\n",
       " 0.0029922058849846077,\n",
       " 0.0029631500254156447]"
      ]
     },
     "execution_count": 58,
     "metadata": {},
     "output_type": "execute_result"
    }
   ],
   "source": [
    "f1_val"
   ]
  },
  {
   "cell_type": "code",
   "execution_count": 59,
   "metadata": {},
   "outputs": [
    {
     "data": {
      "text/plain": [
       "[0.0034421413501165856,\n",
       " 0.0037171451933454332,\n",
       " 0.0045168144491181065,\n",
       " 0.005014405931027949,\n",
       " 0.00521381546806363,\n",
       " 0.00539279872571101,\n",
       " 0.005094403235411283,\n",
       " 0.005404643787967354,\n",
       " 0.0052740558753956125,\n",
       " 0.005064680257920483,\n",
       " 0.004884432808773551,\n",
       " 0.004799824219348591,\n",
       " 0.004747132409094749,\n",
       " 0.0047160410724628385,\n",
       " 0.004552328498881431,\n",
       " 0.004428854102417127,\n",
       " 0.004421735772870702,\n",
       " 0.004320996258160123,\n",
       " 0.00416955447076258,\n",
       " 0.004213914849890405,\n",
       " 0.004197124124475474,\n",
       " 0.004236721752017982,\n",
       " 0.004160504536574128,\n",
       " 0.004079024261292732,\n",
       " 0.003975027567058496,\n",
       " 0.00394208544021904,\n",
       " 0.003875357634900711,\n",
       " 0.0037930343915898042,\n",
       " 0.003741362994371867,\n",
       " 0.003708031111753904,\n",
       " 0.003694757210329524,\n",
       " 0.003679737750277939,\n",
       " 0.003642348122237069,\n",
       " 0.003580462732664389,\n",
       " 0.0035123400917054346,\n",
       " 0.003474129521760217,\n",
       " 0.0034398963971443647,\n",
       " 0.0033933482758052814,\n",
       " 0.003347000634505776,\n",
       " 0.0033083234916605124,\n",
       " 0.003258152608763282,\n",
       " 0.003259081009457399,\n",
       " 0.003210361692456417,\n",
       " 0.003181133251434875,\n",
       " 0.003141344952294272,\n",
       " 0.0031337771886060318,\n",
       " 0.0031069810858272086,\n",
       " 0.0030717389131777735,\n",
       " 0.0030532263797827487,\n",
       " 0.0030443030221466434]"
      ]
     },
     "execution_count": 59,
     "metadata": {},
     "output_type": "execute_result"
    }
   ],
   "source": [
    "f1_test"
   ]
  },
  {
   "cell_type": "code",
   "execution_count": 61,
   "metadata": {},
   "outputs": [
    {
     "name": "stdout",
     "output_type": "stream",
     "text": [
      "0.9964427567543974\n"
     ]
    }
   ],
   "source": [
    "#Discovery ratio\n",
    "precisions_test = []\n",
    "recalls_test = []\n",
    "f1_test = []\n",
    "k = 8\n",
    "    \n",
    "numerator, denominator = 0, 0\n",
    "    \n",
    "for key, value in testDict.items():\n",
    "    n_rel = len(value)\n",
    "    train_for_key = trainDict[key]\n",
    "    save = [] \n",
    "    for ref, num_cites in sorted_popular[:50]:\n",
    "        if not ref in train_for_key:\n",
    "            save.append(ref)\n",
    "    recommendations = save[:k]\n",
    "    n_rec_k = len(recommendations)\n",
    "    n_rel_and_rec_k = 0\n",
    "    for each in value:\n",
    "        if each in recommendations:\n",
    "            n_rel_and_rec_k += 1\n",
    "    numerator += n_rec_k - n_rel_and_rec_k\n",
    "    denominator += n_rec_k\n",
    "print(numerator/denominator)"
   ]
  },
  {
   "cell_type": "code",
   "execution_count": null,
   "metadata": {
    "collapsed": true
   },
   "outputs": [],
   "source": []
  }
 ],
 "metadata": {
  "kernelspec": {
   "display_name": "Python 3",
   "language": "python",
   "name": "python3"
  },
  "language_info": {
   "codemirror_mode": {
    "name": "ipython",
    "version": 3
   },
   "file_extension": ".py",
   "mimetype": "text/x-python",
   "name": "python",
   "nbconvert_exporter": "python",
   "pygments_lexer": "ipython3",
   "version": "3.6.3"
  }
 },
 "nbformat": 4,
 "nbformat_minor": 2
}
