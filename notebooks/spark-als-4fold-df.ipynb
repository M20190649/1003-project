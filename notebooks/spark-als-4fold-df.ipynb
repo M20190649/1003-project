{
 "cells": [
  {
   "cell_type": "code",
   "execution_count": 2,
   "metadata": {},
   "outputs": [],
   "source": [
    "import findspark\n",
    "findspark.init()"
   ]
  },
  {
   "cell_type": "code",
   "execution_count": 3,
   "metadata": {},
   "outputs": [],
   "source": [
    "import pyspark\n",
    "import random\n",
    "#sc = pyspark.SparkContext(appName=\"Pi\")"
   ]
  },
  {
   "cell_type": "code",
   "execution_count": 4,
   "metadata": {},
   "outputs": [],
   "source": [
    "from pyspark.sql import SparkSession\n",
    "spark = SparkSession \\\n",
    "                .builder \\\n",
    "                .appName(\"als-implicit\") \\\n",
    "                .config(\"spark.some.config.option\", \"some-value\") \\\n",
    "                .getOrCreate()"
   ]
  },
  {
   "cell_type": "code",
   "execution_count": 8,
   "metadata": {},
   "outputs": [],
   "source": [
    "from pyspark.mllib.recommendation import ALS, MatrixFactorizationModel, Rating\n",
    "from pyspark.ml.evaluation import RegressionEvaluator\n",
    "from pyspark.ml.recommendation import ALS\n",
    "from pyspark.sql import Row\n",
    "\n",
    "# Load and parse the data\n",
    "train = spark.read.text(\"4fold/4fold_0_train.tsv\").rdd\n",
    "trainParts = train.map(lambda row: row.value.split(\"\\t\"))\n",
    "#column type must be integer\n",
    "trainRatingsRDD = trainParts.map(lambda p: Row(userId=int(p[0]), movieId=int(p[1]),\n",
    "                                     rating=float(p[2])))#, timestamp=int(p[3])))\n",
    "train = spark.createDataFrame(trainRatingsRDD)"
   ]
  },
  {
   "cell_type": "code",
   "execution_count": 9,
   "metadata": {},
   "outputs": [],
   "source": [
    "valid = spark.read.text(\"4fold/4fold_0_val.tsv\").rdd\n",
    "validParts = valid.map(lambda row: row.value.split(\"\\t\"))\n",
    "#column type must be integer\n",
    "validRatingsRDD = validParts.map(lambda p: Row(userId=int(p[0]), movieId=int(p[1]),\n",
    "                                     rating=float(p[2])))#, timestamp=int(p[3])))\n",
    "validation = spark.createDataFrame(validRatingsRDD)\n",
    "\n",
    "test = spark.read.text(\"4fold/4fold_test.tsv\").rdd\n",
    "testParts = test.map(lambda row: row.value.split(\"\\t\"))\n",
    "#column type must be integer\n",
    "testRatingsRDD = testParts.map(lambda p: Row(userId=int(p[0]), movieId=int(p[1]),\n",
    "                                     rating=float(p[2])))#, timestamp=int(p[3])))\n",
    "test = spark.createDataFrame(testRatingsRDD)"
   ]
  },
  {
   "cell_type": "code",
   "execution_count": 10,
   "metadata": {},
   "outputs": [
    {
     "name": "stdout",
     "output_type": "stream",
     "text": [
      "train Root-mean-square error = 0.978051245978662\n",
      "valid Root-mean-square error = 0.9790378641484552\n",
      "test Root-mean-square error = 0.9789048479500252\n"
     ]
    }
   ],
   "source": [
    "def print_mse(model, data, text):\n",
    "    predictions = model.transform(data)\n",
    "    evaluator = RegressionEvaluator(metricName=\"rmse\", labelCol=\"rating\",\n",
    "                                predictionCol=\"prediction\")\n",
    "    rmse = evaluator.evaluate(predictions)\n",
    "    print(text+\" Root-mean-square error = \" + str(rmse))\n",
    "# Build the recommendation model using ALS on the training data\n",
    "# Note we set cold start strategy to 'drop' to ensure we don't get NaN evaluation metrics\n",
    "als = ALS(rank = 70, maxIter=10, regParam=0.1, userCol=\"userId\", itemCol=\"movieId\", ratingCol=\"rating\",\n",
    "          coldStartStrategy=\"drop\", implicitPrefs=True, alpha=1)\n",
    "model = als.fit(train)\n",
    "\n",
    "# Evaluate the model by computing the RMSE on the test data\n",
    "print_mse(model, train, \"train\")\n",
    "print_mse(model, validation, \"valid\")\n",
    "print_mse(model, test, \"test\")"
   ]
  },
  {
   "cell_type": "code",
   "execution_count": 11,
   "metadata": {},
   "outputs": [],
   "source": [
    "top50 = model.recommendForAllUsers(50)"
   ]
  },
  {
   "cell_type": "code",
   "execution_count": 13,
   "metadata": {},
   "outputs": [],
   "source": [
    "from pyspark.sql.functions import *"
   ]
  },
  {
   "cell_type": "code",
   "execution_count": 15,
   "metadata": {},
   "outputs": [],
   "source": [
    "top50.select(format_string('%d\\t%s',top50.userId, top50.recommendations)).write.save(\"implicit_70_0.1_1_top50rec.out\",format=\"text\")"
   ]
  },
  {
   "cell_type": "code",
   "execution_count": null,
   "metadata": {},
   "outputs": [],
   "source": [
    "def run(numIterations, alpha, lam, rank, train, validation, test):\n",
    "    print(\"iter: {}, alpha:{}, lam: {}, rank: {}\".format(numIterations, alpha, lam, rank))\n",
    "    als = ALS(rank = rank, maxIter=numIterations, regParam=lam, userCol=\"userId\", itemCol=\"movieId\", ratingCol=\"rating\",\n",
    "                      coldStartStrategy=\"drop\", implicitPrefs=True, alpha=alpha)\n",
    "    model = als.fit(train)\n",
    "\n",
    "    # Evaluate the model by computing the RMSE on the test data\n",
    "    print_mse(model, train, \"train\")\n",
    "    print_mse(model, validation, \"valid\")\n",
    "    print_mse(model, test, \"test\")\n",
    "\n",
    "for numIterations in [15]:\n",
    "    for rank in [10, 75, 200]:\n",
    "        for alpha in [0.01,0.1,1]:\n",
    "            for lam in [0.01,0.1]:\n",
    "                run(numIterations, alpha, lam, rank, train, validation, test)"
   ]
  },
  {
   "cell_type": "markdown",
   "metadata": {},
   "source": [
    "안돼면 그거 머냐 rdd말고 다른쪽으로 해보자"
   ]
  },
  {
   "cell_type": "code",
   "execution_count": 18,
   "metadata": {},
   "outputs": [],
   "source": [
    "result = dict()\n",
    "with open('top50rec') as f:\n",
    "    line = f.readline()\n",
    "    while line:\n",
    "        a = int(line[:7])\n",
    "        b = eval(line[8:])\n",
    "        result[a] = b\n",
    "        line = f.readline()"
   ]
  },
  {
   "cell_type": "code",
   "execution_count": 19,
   "metadata": {},
   "outputs": [
    {
     "data": {
      "text/plain": [
       "47018"
      ]
     },
     "execution_count": 19,
     "metadata": {},
     "output_type": "execute_result"
    }
   ],
   "source": [
    "len(result)"
   ]
  },
  {
   "cell_type": "code",
   "execution_count": 20,
   "metadata": {},
   "outputs": [],
   "source": [
    "trainDF = train.collect()\n",
    "from collections import defaultdict\n",
    "trainDict = defaultdict(list)\n",
    "for row in trainDF:\n",
    "    trainDict[row.userId].append(row.movieId)\n",
    "removeDict = defaultdict(list)\n",
    "for key, values in result.items():\n",
    "    for value in values:\n",
    "        if value[0] in trainDict[key]:\n",
    "            removeDict[key].append(value)\n",
    "for key, values in removeDict.items():\n",
    "    for value in values:\n",
    "        result[key].remove(value)"
   ]
  },
  {
   "cell_type": "code",
   "execution_count": 21,
   "metadata": {},
   "outputs": [
    {
     "name": "stdout",
     "output_type": "stream",
     "text": [
      "50\n"
     ]
    }
   ],
   "source": [
    "for key, value in result.items():\n",
    "    print(len(value))\n",
    "    break"
   ]
  },
  {
   "cell_type": "code",
   "execution_count": 22,
   "metadata": {},
   "outputs": [
    {
     "data": {
      "text/plain": [
       "0.004055643924019291"
      ]
     },
     "execution_count": 22,
     "metadata": {},
     "output_type": "execute_result"
    }
   ],
   "source": [
    "testDF = test.collect()\n",
    "testDict = defaultdict(list)\n",
    "for row in testDF:\n",
    "    testDict[row.userId].append(row.movieId)\n",
    "precisions, recalls = [], []\n",
    "for key, values in result.items():\n",
    "    n_rel = len(testDict[key])\n",
    "    n_rec_k = len(values)\n",
    "    n_rel_and_rec_k = 0\n",
    "    for value in values:\n",
    "        if value[0] in testDict[key]:\n",
    "            n_rel_and_rec_k += 1\n",
    "    precisions.append( n_rel_and_rec_k / n_rec_k if n_rec_k != 0 else 1 )\n",
    "    recalls.append( n_rel_and_rec_k / n_rel if n_rel != 0 else 1 )\n"
   ]
  },
  {
   "cell_type": "code",
   "execution_count": 29,
   "metadata": {},
   "outputs": [],
   "source": [
    "import numpy as np\n",
    "\n",
    "klist = list(range(1,51))\n",
    "precisions_test = []\n",
    "recalls_test = []\n",
    "f1_test = []\n",
    "for k in klist:\n",
    "    topDict = dict()\n",
    "    for key, value in result.items():\n",
    "        if len(value) >= k:\n",
    "            topDict[key]=value[:k]\n",
    "        else:\n",
    "            topDict[key]=value\n",
    "    precisions, recalls = [], []\n",
    "    for key, values in topDict.items():\n",
    "        n_rel = len(testDict[key])\n",
    "        if n_rel == 0:\n",
    "            continue\n",
    "        n_rec_k = len(values)\n",
    "        n_rel_and_rec_k = 0\n",
    "        for value in values:\n",
    "            if value[0] in testDict[key]:\n",
    "                n_rel_and_rec_k += 1\n",
    "        precisions.append( n_rel_and_rec_k / n_rec_k if n_rec_k != 0 else 1 )\n",
    "        recalls.append( n_rel_and_rec_k / n_rel if n_rel != 0 else 1 )\n",
    "    precision=np.sum(precisions)/len(precisions)\n",
    "    recall=np.sum(recalls)/len(recalls)\n",
    "    precisions_test.append(precision)\n",
    "    recalls_test.append(recall)\n",
    "    f1_test.append(2*(precision*recall)/(precision+recall))"
   ]
  },
  {
   "cell_type": "code",
   "execution_count": 26,
   "metadata": {},
   "outputs": [],
   "source": [
    "validDF = validation.collect()\n",
    "validDict = defaultdict(list)\n",
    "for row in validDF:\n",
    "    validDict[row.userId].append(row.movieId)\n",
    "precisions, recalls = [], []\n",
    "for key, values in result.items():\n",
    "    n_rel = len(validDict[key])\n",
    "    n_rec_k = len(values)\n",
    "    n_rel_and_rec_k = 0\n",
    "    for value in values:\n",
    "        if value[0] in validDict[key]:\n",
    "            n_rel_and_rec_k += 1\n",
    "    precisions.append( n_rel_and_rec_k / n_rec_k if n_rec_k != 0 else 1 )\n",
    "    recalls.append( n_rel_and_rec_k / n_rel if n_rel != 0 else 1 )"
   ]
  },
  {
   "cell_type": "code",
   "execution_count": 30,
   "metadata": {},
   "outputs": [],
   "source": [
    "precisions_val = []\n",
    "recalls_val = []\n",
    "f1_val = []\n",
    "for k in klist:\n",
    "    topDict = dict()\n",
    "    for key, value in result.items():\n",
    "        if len(value) >= k:\n",
    "            topDict[key]=value[:k]\n",
    "        else:\n",
    "            topDict[key]=value\n",
    "    precisions, recalls = [], []\n",
    "    for key, values in topDict.items():\n",
    "        n_rel = len(validDict[key])\n",
    "        if n_rel == 0:\n",
    "            continue\n",
    "        n_rec_k = len(values)\n",
    "        n_rel_and_rec_k = 0\n",
    "        for value in values:\n",
    "            if value[0] in validDict[key]:\n",
    "                n_rel_and_rec_k += 1\n",
    "        precisions.append( n_rel_and_rec_k / n_rec_k if n_rec_k != 0 else 1 )\n",
    "        recalls.append( n_rel_and_rec_k / n_rel if n_rel != 0 else 1 )\n",
    "    precision=np.sum(precisions)/len(precisions)\n",
    "    recall=np.sum(recalls)/len(recalls)\n",
    "    precisions_val.append(precision) \n",
    "    recalls_val.append(recall) \n",
    "    f1_val.append(2*(precision*recall)/(precision+recall)) \n",
    "    #print(\"precision at k={}: \".format(k),precision)\n",
    "    #print(\"recall at k={}: \".format(k),recall)\n",
    "    #print(\"f1 score at k={}\".format(k),2*(precision*recall)/(precision+recall))"
   ]
  },
  {
   "cell_type": "code",
   "execution_count": null,
   "metadata": {},
   "outputs": [],
   "source": [
    "import matplotlib.pyplot as plt\n",
    "%matplotlib inline\n",
    "from matplotlib import rc\n",
    "rc('figure', figsize=(16, 8), max_open_warning=False)"
   ]
  },
  {
   "cell_type": "code",
   "execution_count": 41,
   "metadata": {},
   "outputs": [
    {
     "data": {
      "image/png": "[encoded data removed]",
      "text/plain": [
       "<Figure size 1152x576 with 1 Axes>"
      ]
     },
     "metadata": {},
     "output_type": "display_data"
    }
   ],
   "source": [
    "plt.plot(klist, f1_val, label=\"validation\")\n",
    "plt.plot(klist, f1_test, label=\"test\")\n",
    "plt.legend()\n",
    "plt.show()"
   ]
  },
  {
   "cell_type": "code",
   "execution_count": 40,
   "metadata": {},
   "outputs": [
    {
     "data": {
      "image/png": "[encoded data removed]",
      "text/plain": [
       "<Figure size 1152x576 with 1 Axes>"
      ]
     },
     "metadata": {},
     "output_type": "display_data"
    }
   ],
   "source": [
    "plt.plot(precisions_val, recalls_val, label=\"validation\")\n",
    "plt.plot(precisions_test, recalls_test, label=\"test\")\n",
    "plt.legend()\n",
    "plt.show()"
   ]
  },
  {
   "cell_type": "code",
   "execution_count": null,
   "metadata": {},
   "outputs": [],
   "source": []
  }
 ],
 "metadata": {
  "kernelspec": {
   "display_name": "Python 3",
   "language": "python",
   "name": "python3"
  },
  "language_info": {
   "codemirror_mode": {
    "name": "ipython",
    "version": 3
   },
   "file_extension": ".py",
   "mimetype": "text/x-python",
   "name": "python",
   "nbconvert_exporter": "python",
   "pygments_lexer": "ipython3",
   "version": "3.4.4"
  }
 },
 "nbformat": 4,
 "nbformat_minor": 2
}
