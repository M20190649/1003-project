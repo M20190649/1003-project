{
 "cells": [
  {
   "cell_type": "markdown",
   "metadata": {
    "colab_type": "text",
    "id": "3zh-ShVdzDHQ"
   },
   "source": [
    "# implicit"
   ]
  },
  {
   "cell_type": "raw",
   "metadata": {},
   "source": [
    "Structure of this notebook:\n",
    "    1. Setup\n",
    "    2. necessary functions for implicit\n",
    "    3. the 'run' function that runs everything and returns nDCG value for given setting.\n",
    "    4. plots below (you won't need this, but I still include it just so that you get a sense)\n",
    "    \n",
    "Things that you can take away from this notebook // I will put them in the next box:\n",
    "    1. functions: ndcg() and get_top_k() \n",
    "    2. some code excerpts\n",
    "    \n",
    "This notebook file uses \"inner_ids\" of user and items."
   ]
  },
  {
   "cell_type": "code",
   "execution_count": null,
   "metadata": {
    "collapsed": true
   },
   "outputs": [],
   "source": [
    "'''\n",
    "1. functions ndcg and get_top_k\n",
    "'''\n",
    "\n",
    "def ndcg(recs, gt):\n",
    "    '''\n",
    "    input: 1. recs = recommendation list for one user.\n",
    "                recs = \n",
    "           2. gt = ratings of a user in the test set.\n",
    "                gt = a dictionary of lists with (key = each user) and (value = a list of items for this user)\n",
    "           \n",
    "    output: ndcg for a MODEL (not for each user) with a specific setting.\n",
    "    '''\n",
    "    Q, S = 0.0, 0.0\n",
    "    for u, vs in gt.items():\n",
    "        rec = recs.get(u, [])\n",
    "        if not rec:\n",
    "            continue\n",
    "\n",
    "        idcg = sum([1.0 / math.log(i + 2, 2) for i in range(len(vs))])\n",
    "        dcg = 0.0\n",
    "        for i, r in enumerate(rec):\n",
    "            if r not in vs:\n",
    "                continue\n",
    "            rank = i + 1\n",
    "            dcg += 1.0 / math.log(rank + 1, 2)\n",
    "        ndcg = dcg / idcg\n",
    "        S += ndcg\n",
    "        Q += 1\n",
    "    return S / Q\n",
    "\n",
    "def get_top_k(k,user,songs_of_user_in_trainDict,result):\n",
    "    '''\n",
    "    input:  k = number of recommendations to be made\n",
    "            user = user's id\n",
    "            songs_of... = a user's songs in the train set\n",
    "            result = a dict of dicts of estimations; e.g. result[user][item] = estimation\n",
    "    \n",
    "    output: rec = a ranked list (in descending. i.e. the first entry is top-1) of recommendations of length k for this user.\n",
    "    '''\n",
    "    estimations = result[user]\n",
    "    songs, ests = list(estimations.keys()), list(estimations.values())\n",
    "    idx = np.argsort(-np.array(ests))\n",
    "    recs = []\n",
    "    for i in idx:\n",
    "        song = songs[i]\n",
    "        if song not in songs_of_user_in_trainDict:\n",
    "            recs.append(song)\n",
    "        if len(recs) == k:\n",
    "            break\n",
    "    return rec\n",
    "\n",
    "\n",
    "'''\n",
    "2. code excerpts in the run() function \n",
    "'''\n",
    "# compute nDCG.\n",
    "k=n_recommendations\n",
    "gt = validDict         # validDict is nothing but a dictionary of lists e.g. validDict[user] = [item1, item2,...] in test set\n",
    "\n",
    "# fill in the recommendation list for each user\n",
    "recs = defaultdict(list)\n",
    "for user in validDict:\n",
    "    songs_of_user_in_trainDict = list(trainDict[user].keys())\n",
    "    recs[user] = get_top_k(k,user,songs_of_user_in_trainDict,result)\n",
    "val = ndcg(recs,gt)\n",
    "print('nDCG for rank={} and lambda={} is : {}'.format(n_factors, lam, val))"
   ]
  },
  {
   "cell_type": "markdown",
   "metadata": {
    "colab_type": "text",
    "id": "aZf56wGkC3yJ"
   },
   "source": [
    "# Setup"
   ]
  },
  {
   "cell_type": "code",
   "execution_count": 37,
   "metadata": {
    "colab": {
     "autoexec": {
      "startup": false,
      "wait_interval": 0
     }
    },
    "colab_type": "code",
    "collapsed": true,
    "id": "iszyGF1kDpo-"
   },
   "outputs": [],
   "source": [
    "import sys\n",
    "import random\n",
    "import matplotlib.pyplot as plt\n",
    "from collections import defaultdict\n",
    "from functools import partial\n",
    "# %matplotlib inline\n",
    "from matplotlib import rc\n",
    "rc('figure', figsize=(16, 8), max_open_warning=False)\n",
    "import pandas as pd\n",
    "import numpy as np\n",
    "import implicit\n",
    "import codecs\n",
    "import argparse\n",
    "import logging\n",
    "import time\n",
    "import math\n",
    "from scipy.sparse import coo_matrix\n",
    "from implicit.als import AlternatingLeastSquares\n",
    "from implicit.approximate_als import (AnnoyAlternatingLeastSquares, FaissAlternatingLeastSquares,\n",
    "                                      NMSLibAlternatingLeastSquares)\n",
    "from implicit.bpr import BayesianPersonalizedRanking\n",
    "from implicit.nearest_neighbours import (BM25Recommender, CosineRecommender,\n",
    "                                         TFIDFRecommender, bm25_weight)"
   ]
  },
  {
   "cell_type": "markdown",
   "metadata": {
    "colab_type": "text",
    "id": "dMD4xu3iOGPL"
   },
   "source": [
    "# Implicit"
   ]
  },
  {
   "cell_type": "code",
   "execution_count": 38,
   "metadata": {
    "colab": {
     "autoexec": {
      "startup": false,
      "wait_interval": 0
     }
    },
    "colab_type": "code",
    "collapsed": true,
    "id": "eg83S9c8af3X"
   },
   "outputs": [],
   "source": [
    "# maps command line model argument to class name\n",
    "MODELS = {\"als\":  AlternatingLeastSquares,\n",
    "          \"nmslib_als\": NMSLibAlternatingLeastSquares,\n",
    "          \"annoy_als\": AnnoyAlternatingLeastSquares,\n",
    "          \"faiss_als\": FaissAlternatingLeastSquares,\n",
    "          \"tfidf\": TFIDFRecommender,\n",
    "          \"cosine\": CosineRecommender,\n",
    "          \"bpr\": BayesianPersonalizedRanking,\n",
    "          \"bm25\": BM25Recommender}\n",
    "\n",
    "def get_model(model_name,n_factors,lam):\n",
    "    model_class = MODELS.get(model_name)\n",
    "    if not model_class:\n",
    "        raise ValueError(\"Unknown Model '%s'\" % model_name)\n",
    "\n",
    "    # some default params\n",
    "    if model_name == \"faiss_als\":\n",
    "        params = {'factors': n_factors, 'dtype': np.float32, 'use_gpu': False, \n",
    "                  'gpu': False,  # keyerror -1\n",
    "                  \"calculate_training_loss\": True, \"regularization\": lam, \"iterations\": 15}\n",
    "    elif issubclass(model_class, AlternatingLeastSquares):\n",
    "        params = {'factors': n_factors, 'dtype': np.float32, 'use_gpu': False, \n",
    "                  #'gpu': True,  # keyerror -1\n",
    "                  \"calculate_training_loss\": True, \"regularization\": lam, \"iterations\": 15}\n",
    "    elif model_name == \"bm25\":\n",
    "        params = {'K1': 100, 'B': 0.5}\n",
    "    elif model_name == \"bpr\":\n",
    "        params = {'factors': 63, 'use_gpu': True}\n",
    "    else:\n",
    "        params = {}\n",
    "\n",
    "    return model_class(**params)\n",
    "\n",
    "\n",
    "def read_data(filename):\n",
    "    \"\"\" Reads in the dataset, and returns a tuple of a pandas dataframe\n",
    "    and a sparse matrix of artist/user/playcount \"\"\"\n",
    "    # read in triples of user/artist/playcount from the input dataset\n",
    "    # get a model based off the input params\n",
    "    start = time.time()\n",
    "    print(\"reading data from %s\"% (filename))\n",
    "    data = pd.read_csv(filename, sep=\" \", header=None)\n",
    "    data.columns = [\"user\", \"song\", \"plays\"]\n",
    "\n",
    "    # map each artist and user to a unique numeric value\n",
    "    data['user'] = data['user'].astype(\"category\")\n",
    "    data['song'] = data['song'].astype(\"category\")\n",
    "\n",
    "    # create a sparse matrix of all the users/plays\n",
    "    ratings = coo_matrix((data['plays'].astype(np.int64),\n",
    "                        (data['song'].cat.codes.copy(),\n",
    "                        data['user'].cat.codes.copy())))\n",
    "\n",
    "    print(\"read data file in {}\".format( time.time() - start))\n",
    "    return data, ratings\n",
    "    \n",
    "\n",
    "def calculate_recommendations(n_recommendations, n_factors, lam, input_filename, recommend_filename, similar_filename, model_name=\"als\"):\n",
    "    \"\"\" Generates artist recommendations for each user in the dataset \"\"\"\n",
    "    # train the model based off input params\n",
    "    df, ratings = read_data(input_filename)\n",
    "\n",
    "    # create a model from the input data\n",
    "    model = get_model(model_name,n_factors,lam) \n",
    "\n",
    "    # if we're training an ALS based model, weight input for last.fm by bm25\n",
    "    if issubclass(model.__class__, AlternatingLeastSquares):\n",
    "        # lets weight these models by bm25weight.\n",
    "        print(\"weighting matrix by bm25_weight\")\n",
    "        # ratings = bm25_weight(cites, K1=100, B=0.8)\n",
    "\n",
    "        # also disable building approximate recommend index\n",
    "        model.approximate_similar_items = True\n",
    "\n",
    "    # this is actually disturbingly expensive:\n",
    "    ratings = ratings.tocsr()\n",
    "\n",
    "    print(\"training model {}\".format(model_name))\n",
    "    start = time.time()\n",
    "    model.fit(ratings) \n",
    "    print(\"trained model '%s' in %0.2f\"%( model_name, time.time() - start))\n",
    "    \n",
    "    # generate recommendations for each user and write out to a file\n",
    "    LEN_RECOMMENDATION = n_recommendations\n",
    "    songs = dict(enumerate(df['song'].cat.categories))\n",
    "    start = time.time()\n",
    "    user_songs = ratings.T.tocsr()    #user_cites\n",
    "    with codecs.open(recommend_filename, \"w\", \"utf8\") as o:\n",
    "        for userid, username in enumerate(df['user'].cat.categories):\n",
    "            for songid, score in model.recommend(userid, user_songs, N=n_recommendations):\n",
    "                try:\n",
    "                    o.write(\"%s\\t%s\\t%s\\n\" % (username, songs[songid], score))\n",
    "                except:\n",
    "                    print(\"songid {} had an error\".format(songid))\n",
    "                    print(songid in songs)\n",
    "                    # print(songid in df['user'].cat.categories)\n",
    "    print(\"generated recommendations in %0.2f\"%(  time.time() - start))\n",
    "    \n",
    "\n",
    "    \n",
    "# Do not need similarity for this problem.\n",
    "#     # write out similar papers being cited\n",
    "#     start = time.time()\n",
    "#     user_count = df.groupby('song').size()\n",
    "#     to_generate = list(songs)#sorted(list(artists), key=lambda x: -user_count[x])\n",
    "    \n",
    "#     # This might be useful for visualizing what we learned so far\n",
    "#     LEN_SIMILAR_LIST = 10\n",
    "#     print(\"returning similar papers depending on being cited by which\")\n",
    "#     # write out as a TSV of songid, othersongid, score\n",
    "#     with codecs.open(similar_filename, \"w\", \"utf8\") as o:\n",
    "#         i = 0\n",
    "#         for songid in to_generate:\n",
    "#             try:\n",
    "#                 song = songs[song]\n",
    "#             except:\n",
    "#                 print(\"songid {} had an error\".format(songid))\n",
    "#             for other, score in model.similar_items(songid, LEN_SIMILAR_LIST):\n",
    "#                 try:\n",
    "#                     o.write(\"%s\\t%s\\t%s\\n\" % (song, songid[other], score))\n",
    "#                 except:\n",
    "#                     print(\"other {} had an error\".format(other))\n",
    "#             i += 1\n",
    "#             if i > 1000:\n",
    "#                 break\n",
    "#     print(\"generated similar artists in %0.2f\"%(time.time() - start))\n",
    " \n",
    "    \n",
    "def ndcg(recs, gt):\n",
    "    Q, S = 0.0, 0.0\n",
    "    for u, vs in gt.items():\n",
    "        rec = recs.get(u, [])\n",
    "        if not rec:\n",
    "            continue\n",
    "\n",
    "        idcg = sum([1.0 / math.log(i + 2, 2) for i in range(len(vs))])\n",
    "        dcg = 0.0\n",
    "        for i, r in enumerate(rec):\n",
    "            if r not in vs:\n",
    "                continue\n",
    "            rank = i + 1\n",
    "            dcg += 1.0 / math.log(rank + 1, 2)\n",
    "        ndcg = dcg / idcg\n",
    "        S += ndcg\n",
    "        Q += 1\n",
    "    return S / Q\n",
    "\n",
    "def get_top_k(k,user,songs_of_user_in_trainDict,result):\n",
    "    estimations = result[user]\n",
    "    songs, ests = list(estimations.keys()), list(estimations.values())\n",
    "    idx = np.argsort(-np.array(ests))\n",
    "    recs = []\n",
    "    for i in idx:\n",
    "        song = songs[i]\n",
    "        if song not in songs_of_user_in_trainDict:\n",
    "            recs.append(song)\n",
    "        if len(recs) == k:\n",
    "            break\n",
    "    return recs\n",
    "\n",
    "\n",
    "def start(n_recommendations, n_factors, lam, inputfile, outputfile, similarfile, model='annoy_als'):\n",
    "    calculate_recommendations(n_recommendations, n_factors, lam, inputfile, outputfile, similarfile, model_name=model)"
   ]
  },
  {
   "cell_type": "markdown",
   "metadata": {},
   "source": [
    "# Run it "
   ]
  },
  {
   "cell_type": "code",
   "execution_count": 39,
   "metadata": {
    "collapsed": true
   },
   "outputs": [],
   "source": [
    "def run(lamm,n_factorss, n_recommendations):\n",
    "    !rm -f output.log\n",
    "    logging.getLogger(\"implicit\").addHandler(logging.FileHandler('output.log', 'a'))\n",
    "    logging.getLogger(\"implicit\").setLevel(logging.DEBUG)\n",
    "    !export OPENBLAS_NUM_THREADS=1\n",
    "    !export MKL_NUM_THREADS=1\n",
    "\n",
    "    lam = lamm\n",
    "    n_factors = n_factorss\n",
    "    n_recommendations = n_recommendations\n",
    "    start(n_recommendations, n_factors, lam, './train.txt', \n",
    "          \"./rank_{}_lam_{}_recommend.tsv\".format(n_factors,lam), \n",
    "          \"./rank_{}_lam_{}_similar.tsv\".format(n_factors,lam) , \n",
    "          model='als') \n",
    "\n",
    "    \n",
    "    \n",
    "    data = pd.read_table(\"./rank_{}_lam_{}_recommend.tsv\".format(n_factors,lam),\n",
    "                                 usecols=[0, 1, 2],\n",
    "                                 names=['user', 'song', 'estimation'],\n",
    "                                 na_filter=False)\n",
    "\n",
    "    # collect recommendations\n",
    "    result = defaultdict(partial(defaultdict, None))\n",
    "    for index, row in data.iterrows():\n",
    "        result[int(row['user'])][int(row['song'])] = float(row['estimation'])\n",
    "    result.default_factory = None\n",
    "    for key in result:\n",
    "        result[key].default_factory = None\n",
    "    \n",
    "    \n",
    "    # collect training data\n",
    "    trainDict = defaultdict(partial(defaultdict, None))\n",
    "    trainDF = pd.read_csv('./train.txt', sep=\" \",\n",
    "                                 usecols=[0, 1, 2],\n",
    "                                 names=['user', 'song', 'play'],\n",
    "                                 na_filter=False)\n",
    "    for index, row in trainDF.iterrows():\n",
    "        trainDict[int(row['user'])][int(row['song'])] = float(row['play'])\n",
    "    trainDict.default_factory = None\n",
    "    for key in trainDict:\n",
    "        trainDict[key].default_factory = None\n",
    "\n",
    "        \n",
    "    # collect training data among those recommended items\n",
    "    removeDict = defaultdict(list)\n",
    "    for user in result:\n",
    "        for song in result[user]:\n",
    "            if song in trainDict[user].keys():\n",
    "                removeDict[user].append(song)\n",
    "\n",
    "    # delete them\n",
    "    for user, songs in removeDict.items():\n",
    "        for song in songs:\n",
    "            result[user].remove(song)\n",
    "\n",
    "    # collect validation data\n",
    "    validDict = defaultdict(list)\n",
    "    with open('./valid.txt') as f:\n",
    "        line = f.readline()\n",
    "        while line:\n",
    "            splitt = line.split(' ')\n",
    "            splitt[-1] = splitt[-1].strip('\\n')\n",
    "            validDict[int(splitt[0])] = [int(s) for s in splitt[1:]]\n",
    "            line = f.readline()\n",
    "    validDict.default_factory = None\n",
    "    \n",
    "    # compute nDCG.\n",
    "    k=n_recommendations\n",
    "    gt = validDict\n",
    "    recs = defaultdict(list)\n",
    "    for user in validDict:\n",
    "        songs_of_user_in_trainDict = list(trainDict[user].keys())\n",
    "        recs[user] = get_top_k(k,user,songs_of_user_in_trainDict,result)\n",
    "    val = ndcg(recs,gt)\n",
    "    print('nDCG for rank={} and lambda={} is : {}'.format(n_factors, lam, val))\n",
    "    \n",
    "    return val"
   ]
  },
  {
   "cell_type": "markdown",
   "metadata": {},
   "source": [
    "# 1. Reg. Param. Search for best nDCG\n"
   ]
  },
  {
   "cell_type": "code",
   "execution_count": null,
   "metadata": {
    "collapsed": true
   },
   "outputs": [],
   "source": [
    "#1 lambda search: \n",
    "lambdas = 10.0**np.array([1.38,1.63])\n",
    "result_lambdas = np.arange(len(lambdas))\n",
    "for i in range(len(lambdas)):\n",
    "    result_lambdas[i] = run(lamm=lambdas[i],n_factorss=1000,n_recommendations=100)"
   ]
  },
  {
   "cell_type": "code",
   "execution_count": 130,
   "metadata": {},
   "outputs": [
    {
     "data": {
      "image/png": "[encoded data removed]",
      "text/plain": [
       "<matplotlib.figure.Figure at 0x1a1fde7fd0>"
      ]
     },
     "metadata": {},
     "output_type": "display_data"
    }
   ],
   "source": [
    "lambdas = 10.0**np.array([-3,-2,-1.5,-1,-.5,0,.25,.5,.75,1,1.25,1.38,1.5,1.63,1.75,2])\n",
    "results_lambdas = [0.10788611035503735,\n",
    "                   0.11436163803577458,\n",
    "                   0.11782913300295363,\n",
    "                   0.1191163663043079,\n",
    "                   0.11884434477470304,\n",
    "                   0.11865197245348003,\n",
    "                   0.12033622367545528,\n",
    "                   0.1259123988045788,\n",
    "                   0.1372909700291726,\n",
    "                   0.15371081481498228,\n",
    "                   0.1724267396625802,\n",
    "                   0.18059334112765055, #1.38\n",
    "                   0.18658400992379232,\n",
    "                   0.18806980325101336, #1.63\n",
    "                   0.1854190564487339,\n",
    "                   0.17290294769112938]\n",
    "plt.semilogx(lambdas,results_lambdas,'-o')\n",
    "plt.title(\"nDCG on valid set against regularization parameter with fixed rank = 1000\")\n",
    "plt.xlabel('lambda')\n",
    "plt.ylabel('nDCG')\n",
    "plt.grid()\n",
    "plt.savefig('lambda.eps')"
   ]
  },
  {
   "cell_type": "markdown",
   "metadata": {},
   "source": [
    "# 2. Rank=n_factor param. search for best nDCG"
   ]
  },
  {
   "cell_type": "code",
   "execution_count": 129,
   "metadata": {},
   "outputs": [
    {
     "name": "stdout",
     "output_type": "stream",
     "text": [
      "reading data from ./train.txt\n",
      "read data file in 0.1453869342803955\n",
      "weighting matrix by bm25_weight\n",
      "training model als\n",
      "trained model 'als' in 1239.51\n",
      "generated recommendations in 76.06\n",
      "0.18804660307683008\n",
      "nDCG for rank=3000 and lambda=42.65795188015925 is : 0.18804660307683008\n"
     ]
    }
   ],
   "source": [
    "#2 rank search: \n",
    "ranks = [3000]\n",
    "result_ranks = np.zeros(len(ranks))\n",
    "for i in range(len(ranks)):\n",
    "    result_ranks[i] = run(lamm=10.**(1.63),n_factorss=ranks[i],n_recommendations=100)"
   ]
  },
  {
   "cell_type": "code",
   "execution_count": 131,
   "metadata": {},
   "outputs": [
    {
     "data": {
      "image/png": "[encoded data removed]",
      "text/plain": [
       "<matplotlib.figure.Figure at 0x1a12612c18>"
      ]
     },
     "metadata": {},
     "output_type": "display_data"
    }
   ],
   "source": [
    "ranks = [800,1000,1200,1500,2000]\n",
    "results_ranks = [0.18654839881565455,\n",
    "                 0.18658400992379232,\n",
    "                 0.1865661250706114,\n",
    "                 0.18649575185659087,\n",
    "                 0.18655949522763862]\n",
    "plt.plot(ranks,results_ranks,'-o')\n",
    "plt.title(\"nDCG on valid set against number of factors with fixed lambda = {}\".format(10.**(1.5)))\n",
    "plt.xlabel('n_factors')\n",
    "plt.ylabel('nDCG')\n",
    "plt.grid()\n",
    "plt.savefig('rank.eps')\n",
    "\n",
    "# best rank = 1000 with lamb 10.**(1.5)\n",
    "# best rank = ?    with lamb 10.**(1.63)"
   ]
  },
  {
   "cell_type": "code",
   "execution_count": null,
   "metadata": {
    "collapsed": true
   },
   "outputs": [],
   "source": []
  }
 ],
 "metadata": {
  "accelerator": "GPU",
  "colab": {
   "collapsed_sections": [],
   "default_view": {},
   "name": "implicit-gpu",
   "provenance": [
    {
     "file_id": "1pKI6tFJYzzEBmVLhgoX68hPBIq4ya_1I",
     "timestamp": 1522520520508
    },
    {
     "file_id": "1SRTLWrrMWplNQFy9oHIhM7XJJFtv9xCP",
     "timestamp": 1522338031582
    }
   ],
   "version": "0.3.2",
   "views": {}
  },
  "kernelspec": {
   "display_name": "Python 3",
   "language": "python",
   "name": "python3"
  },
  "language_info": {
   "codemirror_mode": {
    "name": "ipython",
    "version": 3
   },
   "file_extension": ".py",
   "mimetype": "text/x-python",
   "name": "python",
   "nbconvert_exporter": "python",
   "pygments_lexer": "ipython3",
   "version": "3.6.3"
  }
 },
 "nbformat": 4,
 "nbformat_minor": 1
}
