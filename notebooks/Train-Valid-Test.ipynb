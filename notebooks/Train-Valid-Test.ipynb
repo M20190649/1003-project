{
 "cells": [
  {
   "cell_type": "code",
   "execution_count": 2,
   "metadata": {
    "collapsed": true
   },
   "outputs": [],
   "source": [
    "import random\n",
    "import pandas as pd\n",
    "import json\n",
    "import numpy as np\n",
    "import scipy.sparse as sp\n",
    "import time\n",
    "from collections import defaultdict\n",
    "\n",
    "import matplotlib.pyplot as plt\n",
    "%matplotlib inline\n",
    "\n",
    "from matplotlib import rc\n",
    "rc('figure', figsize=(16, 8), max_open_warning=False)\n",
    "\n",
    "from surprise import SVD\n",
    "from surprise import Dataset, Reader\n",
    "from surprise import accuracy\n",
    "from surprise.model_selection import train_test_split\n",
    "\n",
    "import sys\n",
    "sys.path.insert(0, '../src')\n",
    "\n",
    "import preprocess\n",
    "import evaluation"
   ]
  },
  {
   "cell_type": "code",
   "execution_count": 3,
   "metadata": {},
   "outputs": [],
   "source": [
    "# random_dict = preprocess.create_random_subset_paper_paper_data(debug=False)\n",
    "random_dict = preprocess.create_paper_paper_dict(debug=True)"
   ]
  },
  {
   "cell_type": "code",
   "execution_count": 4,
   "metadata": {},
   "outputs": [
    {
     "data": {
      "text/plain": [
       "47018"
      ]
     },
     "execution_count": 4,
     "metadata": {},
     "output_type": "execute_result"
    }
   ],
   "source": [
    "len(random_dict)"
   ]
  },
  {
   "cell_type": "code",
   "execution_count": 5,
   "metadata": {
    "collapsed": true
   },
   "outputs": [],
   "source": [
    "def invert_dict(d): \n",
    "    inverse = dict() \n",
    "    for key in d: \n",
    "        # Go through the list that is saved in the dict:\n",
    "        for item in d[key]:\n",
    "            # Check if in the inverted dict the key exists\n",
    "            if item not in inverse: \n",
    "                # If not create a new list\n",
    "                inverse[item] = [key] \n",
    "            else: \n",
    "                inverse[item].append(key) \n",
    "    return inverse"
   ]
  },
  {
   "cell_type": "code",
   "execution_count": 6,
   "metadata": {},
   "outputs": [],
   "source": [
    "invert_random_dict = invert_dict(random_dict)"
   ]
  },
  {
   "cell_type": "code",
   "execution_count": 7,
   "metadata": {},
   "outputs": [],
   "source": [
    "# test_size = 0.25\n",
    "# total_num_data = len(random_dict)\n",
    "# print(total_num_data)\n",
    "# est_num_test_data = int(total_num_data*test_size)\n",
    "\n",
    "testdic  = defaultdict(list)\n",
    "traindic = defaultdict(list)\n",
    "\n",
    "for user in random_dict:\n",
    "    if len(random_dict[user]) < 2:\n",
    "        traindic[user] = random_dict[user]\n",
    "    else:\n",
    "        i = 0\n",
    "        for ref in random_dict[user]:\n",
    "            i = i+1\n",
    "            if i < 2:\n",
    "                traindic[user].append(ref)\n",
    "            else:\n",
    "                if len(invert_random_dict[ref]) < 2:\n",
    "                    traindic[user].append(ref)\n",
    "                else:\n",
    "                    invert_random_dict[ref].remove(user)\n",
    "                    testdic[user].append(ref)\n",
    "                "
   ]
  },
  {
   "cell_type": "code",
   "execution_count": 8,
   "metadata": {},
   "outputs": [],
   "source": [
    "trainset  = preprocess.create_surprise_paper_paper_data(traindic).build_full_trainset()\n",
    "testset   = preprocess.create_surprise_paper_paper_data(testdic).build_full_trainset().build_testset()"
   ]
  },
  {
   "cell_type": "code",
   "execution_count": 10,
   "metadata": {},
   "outputs": [
    {
     "name": "stdout",
     "output_type": "stream",
     "text": [
      "348749\n",
      "253657\n",
      "0.42107316328190625\n"
     ]
    }
   ],
   "source": [
    "aux  = trainset.build_testset()\n",
    "print(len(aux))\n",
    "print(len(testset))\n",
    "print(len(testset)/(len(aux)+len(testset)))"
   ]
  },
  {
   "cell_type": "code",
   "execution_count": 12,
   "metadata": {},
   "outputs": [
    {
     "data": {
      "text/plain": [
       "<surprise.prediction_algorithms.matrix_factorization.SVD at 0x105653dd8>"
      ]
     },
     "execution_count": 12,
     "metadata": {},
     "output_type": "execute_result"
    }
   ],
   "source": [
    "algo = SVD(biased=False, n_epochs = 10)\n",
    "algo.fit(trainset)\n"
   ]
  },
  {
   "cell_type": "code",
   "execution_count": 13,
   "metadata": {},
   "outputs": [
    {
     "name": "stdout",
     "output_type": "stream",
     "text": [
      "253657\n",
      "253657\n"
     ]
    }
   ],
   "source": [
    "predictions = algo.test(testset, clip=False)\n",
    "df = pd.DataFrame(predictions, columns=['uid', 'iid', 'rui', 'est', 'details'])\n",
    "print(len(df))\n",
    "print(len(df[df.details == {'was_impossible': False}]))"
   ]
  },
  {
   "cell_type": "code",
   "execution_count": null,
   "metadata": {},
   "outputs": [],
   "source": [
    "df"
   ]
  },
  {
   "cell_type": "code",
   "execution_count": 14,
   "metadata": {
    "collapsed": true
   },
   "outputs": [],
   "source": [
    "# Visualize train set data\n",
    "usernum = trainset.n_users\n",
    "itemnum = trainset.n_items\n",
    "\n",
    "papermat = sp.dok_matrix((usernum,itemnum), dtype=np.int8)\n",
    "for i in range(trainset.n_users):\n",
    "    for paper_id in trainset.ur[i]:\n",
    "        papermat[i, paper_id[0]] = 1"
   ]
  },
  {
   "cell_type": "code",
   "execution_count": null,
   "metadata": {},
   "outputs": [],
   "source": [
    "# Visualize test set data\n",
    "for j in range(len(testset)):\n",
    "    uid    = testset[j][0]\n",
    "    iid    = testset[j][1]\n",
    "    rating = testset[j][2]\n",
    "    try:\n",
    "        iuid = algo.trainset.to_inner_uid(uid)\n",
    "    except:\n",
    "        print(\"hi\")\n",
    "        continue\n",
    "    try:\n",
    "        iiid = algo.trainset.to_inner_iid(iid)\n",
    "    except:\n",
    "        print(\"aaa\")\n",
    "        continue\n",
    "#     print(iuid, iiid)\n",
    "    papermat[iuid, iiid] = -1"
   ]
  },
  {
   "cell_type": "code",
   "execution_count": null,
   "metadata": {},
   "outputs": [],
   "source": [
    "A = papermat.todense()\n",
    "fig, axes = plt.subplots(figsize=(20, 20))\n",
    "pos = axes.matshow(A[0:30,0:30], cmap='seismic',vmin=-2., vmax=2.)\n",
    "fig.colorbar(pos)"
   ]
  },
  {
   "cell_type": "code",
   "execution_count": null,
   "metadata": {
    "collapsed": true
   },
   "outputs": [],
   "source": []
  }
 ],
 "metadata": {
  "kernelspec": {
   "display_name": "Python 3",
   "language": "python",
   "name": "python3"
  },
  "language_info": {
   "codemirror_mode": {
    "name": "ipython",
    "version": 3
   },
   "file_extension": ".py",
   "mimetype": "text/x-python",
   "name": "python",
   "nbconvert_exporter": "python",
   "pygments_lexer": "ipython3",
   "version": "3.6.3"
  }
 },
 "nbformat": 4,
 "nbformat_minor": 2
}
